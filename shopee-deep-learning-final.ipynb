{
 "cells": [
  {
   "cell_type": "markdown",
   "id": "choice-webster",
   "metadata": {
    "papermill": {
     "duration": 0.049259,
     "end_time": "2021-05-17T21:49:53.597612",
     "exception": false,
     "start_time": "2021-05-17T21:49:53.548353",
     "status": "completed"
    },
    "tags": []
   },
   "source": [
    "For Google Colab, run the cells below"
   ]
  },
  {
   "cell_type": "code",
   "execution_count": 1,
   "id": "peaceful-cosmetic",
   "metadata": {
    "execution": {
     "iopub.execute_input": "2021-05-17T21:49:53.717066Z",
     "iopub.status.busy": "2021-05-17T21:49:53.715870Z",
     "iopub.status.idle": "2021-05-17T21:49:53.718237Z",
     "shell.execute_reply": "2021-05-17T21:49:53.718659Z"
    },
    "id": "2akqi8bUPuFi",
    "jupyter": {
     "source_hidden": true
    },
    "outputId": "3ce319f5-2d3e-46ad-bb05-514006651d60",
    "papermill": {
     "duration": 0.071064,
     "end_time": "2021-05-17T21:49:53.718869",
     "exception": false,
     "start_time": "2021-05-17T21:49:53.647805",
     "status": "completed"
    },
    "tags": []
   },
   "outputs": [],
   "source": [
    "GOOGLE_COLAB = False\n",
    "if GOOGLE_COLAB:\n",
    "    from google.colab import drive\n",
    "    drive.mount('/content/drive')\n",
    "    #!nvidia-smi\n",
    "    !pip install albumentations==0.4.6 --quiet\n",
    "    !pip install pytorch-lightning --quiet\n",
    "    !pip install timm --quiet\n",
    "    !pip install transformers --quiet"
   ]
  },
  {
   "cell_type": "code",
   "execution_count": 2,
   "id": "constant-fashion",
   "metadata": {
    "execution": {
     "iopub.execute_input": "2021-05-17T21:49:53.830941Z",
     "iopub.status.busy": "2021-05-17T21:49:53.830172Z",
     "iopub.status.idle": "2021-05-17T21:49:53.843021Z",
     "shell.execute_reply": "2021-05-17T21:49:53.842607Z"
    },
    "id": "n5wT8GjrNV7q",
    "jupyter": {
     "source_hidden": true
    },
    "outputId": "6115ee1c-6dcb-4bfe-de62-166548d7597f",
    "papermill": {
     "duration": 0.077394,
     "end_time": "2021-05-17T21:49:53.843131",
     "exception": false,
     "start_time": "2021-05-17T21:49:53.765737",
     "status": "completed"
    },
    "tags": []
   },
   "outputs": [],
   "source": [
    "if GOOGLE_COLAB:\n",
    "    # Install RAPIDS\n",
    "    !git clone https://github.com/rapidsai/rapidsai-csp-utils.git\n",
    "    !bash rapidsai-csp-utils/colab/rapids-colab.sh stable\n",
    "\n",
    "    import sys, os, shutil\n",
    "\n",
    "    sys.path.append('/usr/local/lib/python3.7/site-packages/')\n",
    "    os.environ['NUMBAPRO_NVVM'] = '/usr/local/cuda/nvvm/lib64/libnvvm.so'\n",
    "    os.environ['NUMBAPRO_LIBDEVICE'] = '/usr/local/cuda/nvvm/libdevice/'\n",
    "    os.environ[\"CONDA_PREFIX\"] = \"/usr/local\"\n",
    "    for so in ['cudf', 'rmm', 'nccl', 'cuml', 'cugraph', 'xgboost', 'cuspatial']:\n",
    "      fn = 'lib'+so+'.so'\n",
    "      source_fn = '/usr/local/lib/'+fn\n",
    "      dest_fn = '/usr/lib/'+fn\n",
    "      if os.path.exists(source_fn):\n",
    "        print(f'Copying {source_fn} to {dest_fn}')\n",
    "        shutil.copyfile(source_fn, dest_fn)\n",
    "    # fix for BlazingSQL import issue\n",
    "    # ImportError: /usr/lib/x86_64-linux-gnu/libstdc++.so.6: version `GLIBCXX_3.4.26' not found (required by /usr/local/lib/python3.7/site-packages/../../libblazingsql-engine.so)\n",
    "    if not os.path.exists('/usr/lib64'):\n",
    "        os.makedirs('/usr/lib64')\n",
    "    for so_file in os.listdir('/usr/local/lib'):\n",
    "      if 'libstdc' in so_file:\n",
    "        shutil.copyfile('/usr/local/lib/'+so_file, '/usr/lib64/'+so_file)\n",
    "        shutil.copyfile('/usr/local/lib/'+so_file, '/usr/lib/x86_64-linux-gnu/'+so_file)"
   ]
  },
  {
   "cell_type": "markdown",
   "id": "cubic-stack",
   "metadata": {
    "id": "MnJwCrvXMySV",
    "papermill": {
     "duration": 0.046669,
     "end_time": "2021-05-17T21:49:53.936016",
     "exception": false,
     "start_time": "2021-05-17T21:49:53.889347",
     "status": "completed"
    },
    "tags": []
   },
   "source": [
    "# Shopee Deep Learning"
   ]
  },
  {
   "cell_type": "code",
   "execution_count": 3,
   "id": "graphic-starter",
   "metadata": {
    "execution": {
     "iopub.execute_input": "2021-05-17T21:49:54.034276Z",
     "iopub.status.busy": "2021-05-17T21:49:54.033747Z",
     "iopub.status.idle": "2021-05-17T21:49:54.037131Z",
     "shell.execute_reply": "2021-05-17T21:49:54.037624Z"
    },
    "id": "7PupXQIeMySZ",
    "papermill": {
     "duration": 0.055104,
     "end_time": "2021-05-17T21:49:54.037825",
     "exception": false,
     "start_time": "2021-05-17T21:49:53.982721",
     "status": "completed"
    },
    "tags": []
   },
   "outputs": [],
   "source": [
    "INTERNET_ON = False#True # Whether the notebook can use internet # Should be set to False for submissions\n",
    "if INTERNET_ON:\n",
    "    ! pip install neptune-client --quiet"
   ]
  },
  {
   "cell_type": "markdown",
   "id": "lyric-thickness",
   "metadata": {
    "id": "cPx8PhtAMySa",
    "papermill": {
     "duration": 0.046356,
     "end_time": "2021-05-17T21:49:54.130438",
     "exception": false,
     "start_time": "2021-05-17T21:49:54.084082",
     "status": "completed"
    },
    "tags": []
   },
   "source": [
    "To make use of Neptune, you need to have an account"
   ]
  },
  {
   "cell_type": "code",
   "execution_count": 4,
   "id": "plastic-marking",
   "metadata": {
    "execution": {
     "iopub.execute_input": "2021-05-17T21:49:54.226676Z",
     "iopub.status.busy": "2021-05-17T21:49:54.226132Z",
     "iopub.status.idle": "2021-05-17T21:49:54.229935Z",
     "shell.execute_reply": "2021-05-17T21:49:54.229530Z"
    },
    "id": "Y3HzKL5_MySb",
    "papermill": {
     "duration": 0.053132,
     "end_time": "2021-05-17T21:49:54.230044",
     "exception": false,
     "start_time": "2021-05-17T21:49:54.176912",
     "status": "completed"
    },
    "tags": []
   },
   "outputs": [],
   "source": [
    "if INTERNET_ON:\n",
    "    NEPTUNE_KEY = \"...\"\n",
    "    NEPTUNE_PROJECT_NAME = \"...\" "
   ]
  },
  {
   "cell_type": "markdown",
   "id": "abstract-electronics",
   "metadata": {
    "id": "YUd0ZVW_MySb",
    "papermill": {
     "duration": 0.046775,
     "end_time": "2021-05-17T21:49:54.323942",
     "exception": false,
     "start_time": "2021-05-17T21:49:54.277167",
     "status": "completed"
    },
    "tags": []
   },
   "source": [
    "# Load Libraries"
   ]
  },
  {
   "cell_type": "code",
   "execution_count": 5,
   "id": "engaged-incident",
   "metadata": {
    "execution": {
     "iopub.execute_input": "2021-05-17T21:49:54.430173Z",
     "iopub.status.busy": "2021-05-17T21:49:54.429620Z",
     "iopub.status.idle": "2021-05-17T21:50:04.453518Z",
     "shell.execute_reply": "2021-05-17T21:50:04.452310Z"
    },
    "id": "LhixuAxUMySc",
    "jupyter": {
     "source_hidden": true
    },
    "papermill": {
     "duration": 10.083323,
     "end_time": "2021-05-17T21:50:04.453652",
     "exception": false,
     "start_time": "2021-05-17T21:49:54.370329",
     "status": "completed"
    },
    "tags": []
   },
   "outputs": [],
   "source": [
    "# System and OS\n",
    "import sys\n",
    "sys.path = [\n",
    "    '../input/timm-pytorch-image-models/pytorch-image-models-master'\n",
    "] + sys.path\n",
    "import os\n",
    "\n",
    "# Fundamentals\n",
    "import numpy as np\n",
    "import pandas as pd\n",
    "import math\n",
    "\n",
    "import matplotlib.pyplot as plt\n",
    "#from matplotlib import style\n",
    "#style.use('fivethirtyeight')\n",
    "\n",
    "# Premade Modules and Models\n",
    "import timm # for efficientnet backbone\n",
    "\n",
    "\n",
    "# Machine Learning Standards\n",
    "from sklearn.model_selection import train_test_split\n",
    "from sklearn.preprocessing import LabelEncoder\n",
    "from sklearn.metrics import f1_score\n",
    "\n",
    "# Garbage Collector\n",
    "import gc\n",
    "\n",
    "# PyTorch\n",
    "import torch\n",
    "import torch.nn as nn\n",
    "import torch.nn.functional as F\n",
    "from torchvision import datasets\n",
    "from torch.utils.data import DataLoader, WeightedRandomSampler\n",
    "from torch.optim.lr_scheduler import CosineAnnealingWarmRestarts\n",
    "\n",
    "if torch.cuda.is_available():\n",
    "    # cuDF mirrors Pandas but with GPU integration\n",
    "    import cudf\n",
    "    # cuML mirrors Sci-kit learn but with GPU integration\n",
    "    import cuml\n",
    "    from cuml.feature_extraction.text import TfidfVectorizer\n",
    "    from cuml.neighbors import NearestNeighbors\n",
    "    # CuPy mirrors Scipy but with GPU integration\n",
    "    import cupy\n",
    "\n",
    "# Image Augmentation\n",
    "import cv2\n",
    "import albumentations as A\n",
    "from albumentations.pytorch import ToTensorV2\n",
    "\n",
    "# Natural Language Processing\n",
    "# Transformers\n",
    "import transformers\n",
    "from transformers import AutoModel, AutoTokenizer\n",
    "#from transformers import BertTokenizer, BertModel, DistilBertTokenizer, DistilBertModel\n",
    "\n",
    "# Fast Training \n",
    "import pytorch_lightning as pl\n",
    "from pytorch_lightning.callbacks.early_stopping import EarlyStopping\n",
    "from pytorch_lightning.callbacks import BackboneFinetuning, StochasticWeightAveraging, ModelCheckpoint, LearningRateMonitor\n",
    "from pytorch_lightning.metrics.classification import F1\n",
    "\n",
    "\n",
    "# Progressbars\n",
    "from tqdm.notebook import tqdm \n",
    "\n",
    "# Randomness\n",
    "import random\n",
    "\n",
    "# For reproducibility\n",
    "SEED = 42\n",
    "np.random.seed(SEED)\n",
    "random.seed(SEED)\n",
    "torch.manual_seed(SEED)\n",
    "torch.cuda.manual_seed(SEED)\n",
    "torch.backends.cudnn.deterministic = True\n",
    "os.environ['PYTHONHASHSEED'] = str(SEED)"
   ]
  },
  {
   "cell_type": "markdown",
   "id": "genetic-segment",
   "metadata": {
    "id": "uLIc8CbiMySe",
    "papermill": {
     "duration": 0.04687,
     "end_time": "2021-05-17T21:50:04.547770",
     "exception": false,
     "start_time": "2021-05-17T21:50:04.500900",
     "status": "completed"
    },
    "tags": []
   },
   "source": [
    "# Configuration"
   ]
  },
  {
   "cell_type": "code",
   "execution_count": 6,
   "id": "satellite-eugene",
   "metadata": {
    "execution": {
     "iopub.execute_input": "2021-05-17T21:50:04.654432Z",
     "iopub.status.busy": "2021-05-17T21:50:04.649639Z",
     "iopub.status.idle": "2021-05-17T21:50:04.656892Z",
     "shell.execute_reply": "2021-05-17T21:50:04.656479Z"
    },
    "id": "Yfekr9R4MySf",
    "papermill": {
     "duration": 0.062365,
     "end_time": "2021-05-17T21:50:04.657004",
     "exception": false,
     "start_time": "2021-05-17T21:50:04.594639",
     "status": "completed"
    },
    "tags": []
   },
   "outputs": [],
   "source": [
    "class Config:\n",
    "    # ---- Reproducibility ---- \n",
    "    SEED = SEED\n",
    "    \n",
    "    # ----  Directories & Files ---- \n",
    "    ROOT_DIR = '../input/shopee-product-matching'\n",
    "    TRAIN_DIR = '../input/shopee-product-matching/train_images'\n",
    "    TEST_DIR = '../input/shopee-product-matching/test_images'\n",
    "    TRAIN_CSV = '../input/shopee-product-matching/train.csv'\n",
    "    TEST_CSV = '../input/shopee-product-matching/test.csv'\n",
    "    \n",
    "    # ---- Ensemble ----\n",
    "    ENSEMBLE = False#True # Whether to ensemble the embeddings of multiple models\n",
    "    \n",
    "    # ---- Experiment ----\n",
    "    DESCRIPTION = \"DistilBert\" # Comment on the training\n",
    "    EXPERIMENT = 0 # ID of the experiment, used for Ensembling\n",
    "    MAX_NUM_EXPERIMENTS = 4 # Max number of experiments on which we ensemble\n",
    "    MODEL_TYPE = 'Image_And_Text' #'Text' #'Image' # Model type to train and predict \n",
    "    # 'Image_And_Text' is only used to combine the predictions form the image and text model\n",
    "    \n",
    "    # ---- Training ----\n",
    "    MAX_EPOCHS = 20 #25 # Maximal number of epochs (influence SWA callback !)\n",
    "    WEIGHT_DECAY = 0.00005 # L2 Regularization\n",
    "    NORM_CLIPPING = 0.015 # Clip the gradient norm to prevent gradient explosion (value advised for nfnets)\n",
    "    BATCH_SIZE = 2048 #64\n",
    "    LR = 3.5e-4 #1e-3  # Learning Rate\n",
    "    NUM_WORKERS = 4\n",
    "    DEVICE = torch.device('cuda' if torch.cuda.is_available() else 'cpu')\n",
    "    # not working... -> #PRECISION = 16 # 16-bit precision rather than 32-bit (at least 2x faster, even more if GPU optimised for 16-bit precision)\n",
    "    VALIDATION_SIZE = 0.43 #0.5 #10032 # Size of dataset used for validation\n",
    "    COSINE_ANNEALING_WARM_RESTARTS = True #False # Whether to use the cosine annealing warm restart scheduler\n",
    "    BACKBONE_FINETUNING = False # Whether to use the backbone fine-tuning callback\n",
    "    STOCHASTIC_WEIGHT_AVERAGING = True # Whether to use stochastic weight averaging during the last epochs\n",
    "    EARLY_STOPPING = False # Whether to use the early stopping callback\n",
    "\n",
    "    # ---- Cosine Annealing Warm Restarts ----\n",
    "    #if COSINE_ANNEALING_WARM_RESTARTS:\n",
    "    CAWR_T0 = 15 #5 # Period of the cosine annealing warm restart scheduler\n",
    "    CAWR_T_MULT = 1 #2 # Multiplier applied to increase the period during training\n",
    "    CAWR_MIN_LR = 1e-7 # Minimum learning rate that the scheduler is allowed to reach\n",
    "\n",
    "    # ---- Backbone Finetuning ----\n",
    "    #if BACKBONE_FINETUNING:  \n",
    "    UNFREEZE_EPOCH = 5 # Unfreeze backbone parameters from epoch <UNFREEZE_EPOCH> onwards\n",
    "    MULTIPLY_LR = 1.5 # Multiply the lr by <MULTIPLY_LR> at each epoch\n",
    "    BACKBONE_RATIO_LR = 0.1 # The backbone will be tuned at first at a <BACKBONE_RATIO_LR> ratio of the model head lr\n",
    "    \n",
    "    # ---- Stochastic Weight Averaging ----\n",
    "    #if STOCHASTIC_WEIGHT_AVERAGING:\n",
    "    SWA_EPOCH_START = 0.80 # At (SWA_EPOCH_START * max_epoch)-th epoch, start SWA\n",
    "    SWA_ANNEALING_EPOCHS = 10 #5 # Number of epochs in the annealing phase\n",
    "    \n",
    "    # ---- Early Stopping ----\n",
    "    #if EARLY_STOPPING:\n",
    "    PATIENCE = 5 # Minimal number of epochs without improvements to stop training\n",
    "    MIN_DELTA = 0.001 # Minimal perceivable change in the score between 2 epochs\n",
    "    \n",
    "    # ---- Classification ---- \n",
    "    NUM_CLASSES = 11014 # Number of different <label_group> in the dataset\n",
    "\n",
    "    # ---- Loss ----\n",
    "    LOSS = 'CurricularFace' #'CurricularFace' #'AdaCos' #'ArcFace' # None\n",
    "    #if LOSS != 'AdaCos':\n",
    "    SCALE = 30 # Scale logits for ArcFace\n",
    "    MARGIN = 0.5 # Additional margin for ArcFace\n",
    "\n",
    "    # ---- Model ----\n",
    "    SAVE_MODEL = True #False #True # Whether to save the model weights in Neptune\n",
    "    MODEL_DIR = '/shopee-models' #'./drive/MyDrive/Shopee/shopeemodels' # Path where the model is saved\n",
    "    USE_FC = True # whether to add a classifier made of fc layers on top of the backbone\n",
    "    #if USE_FC:\n",
    "    DROPOUT = 0 \n",
    "    FC_DIM = 512 # Number of dimensions at the output of the fully connected layer\n",
    "    IS_TRAINING_FROM_SCRATCH = False # False = train only the head of the model # True = train the whole model\n",
    "    \n",
    "    if 'Image' in MODEL_TYPE:\n",
    "        # ----  Images ----  \n",
    "        IMG_SIZE = 512 #128\n",
    "        IMG_N_CHANNELS = 3 # R-G-B\n",
    "        IMG_MEAN = [0.485, 0.456, 0.406] # Mean of ImageNet\n",
    "        IMG_STD = [0.229, 0.224, 0.225] # Std of ImageNet\n",
    "\n",
    "        # ---- Data Augmentation ----\n",
    "        DATA_AUGMENTATION = True # Whether to use data augmentation\n",
    "        if DATA_AUGMENTATION:\n",
    "            BOOST_DATA_AUGMENTATION = False # Whether to boost augmentation with added noise \n",
    "                                            # to prevent overfitting (bad performance)\n",
    "\n",
    "        # ---- Image Model ---- \n",
    "        IMAGE_MODEL_NAME = 'eca_nfnet_l0' #'resnet34' #'resnet50' #'eca_nfnet_l0'\n",
    "        ACTIVATIONS = 'Mish' #'ReLU' # 'SiLU' #'Mish'\n",
    "    \n",
    "    if 'Text' in MODEL_TYPE:\n",
    "        # ---- Text Model ----\n",
    "        DISTIL_BERT = True\n",
    "        if DISTIL_BERT:\n",
    "            if EXPERIMENT == 0 or EXPERIMENT == 1:\n",
    "                TEXT_MODEL_NAME = 'distilbertbaseindonesian'\n",
    "                TEXT_MODEL_PATH = '../input/cahya' + TEXT_MODEL_NAME\n",
    "            elif EXPERIMENT == 2 or EXPERIMENT == 3:\n",
    "                TEXT_MODEL_NAME = 'paraphrase-xlm-r-multilingual-v1'\n",
    "                TEXT_MODEL_PATH = '../input/sentence-transformers/' + TEXT_MODEL_NAME\n",
    "        else:\n",
    "            TEXT_MODEL_PATH='../input/cahyabertbaseindonesian522M'\n",
    "        \n",
    "        if ENSEMBLE:\n",
    "            TEXT_BACKBONE_PATHS = ['../input/cahyadistilbertbaseindonesian', \n",
    "                                   '../input/cahyadistilbertbaseindonesian',\n",
    "                                   '../input/sentence-transformers/paraphrase-xlm-r-multilingual-v1',\n",
    "                                   '../input/sentence-transformers/paraphrase-xlm-r-multilingual-v1']\n",
    "            TEXT_MODEL_PATHS = ['...']\n",
    "        \n",
    "        # ---- Tokenizer ----\n",
    "        TOKENIZER_MAX_LENGTH = 70"
   ]
  },
  {
   "cell_type": "markdown",
   "id": "honey-comparison",
   "metadata": {
    "id": "tTs3OE5zMySg",
    "papermill": {
     "duration": 0.046618,
     "end_time": "2021-05-17T21:50:04.750702",
     "exception": false,
     "start_time": "2021-05-17T21:50:04.704084",
     "status": "completed"
    },
    "tags": []
   },
   "source": [
    "## Load Test Data"
   ]
  },
  {
   "cell_type": "code",
   "execution_count": 7,
   "id": "featured-swift",
   "metadata": {
    "execution": {
     "iopub.execute_input": "2021-05-17T21:50:04.851667Z",
     "iopub.status.busy": "2021-05-17T21:50:04.851129Z",
     "iopub.status.idle": "2021-05-17T21:50:04.865856Z",
     "shell.execute_reply": "2021-05-17T21:50:04.866406Z"
    },
    "id": "EkattQavMySh",
    "outputId": "b5eb1277-900b-4750-fb71-b787d1a8d11f",
    "papermill": {
     "duration": 0.068721,
     "end_time": "2021-05-17T21:50:04.866611",
     "exception": false,
     "start_time": "2021-05-17T21:50:04.797890",
     "status": "completed"
    },
    "tags": []
   },
   "outputs": [
    {
     "name": "stdout",
     "output_type": "stream",
     "text": [
      "Commit Mode\n"
     ]
    }
   ],
   "source": [
    "IS_SUBMISSION = False # Automatically set to False for training, True for submitting\n",
    "\n",
    "test = pd.read_csv(Config.TEST_CSV)\n",
    "if len(test)>3: # Submission Mode\n",
    "    IS_SUBMISSION = True\n",
    "else: # Commit Mode\n",
    "    print('Commit Mode')\n",
    "\n",
    "IS_SUBMISSION = True"
   ]
  },
  {
   "cell_type": "markdown",
   "id": "negative-sixth",
   "metadata": {
    "papermill": {
     "duration": 0.047263,
     "end_time": "2021-05-17T21:50:04.962246",
     "exception": false,
     "start_time": "2021-05-17T21:50:04.914983",
     "status": "completed"
    },
    "tags": []
   },
   "source": [
    "## Neptune Logger \n",
    "To save all experiments"
   ]
  },
  {
   "cell_type": "code",
   "execution_count": 8,
   "id": "controversial-radiation",
   "metadata": {
    "execution": {
     "iopub.execute_input": "2021-05-17T21:50:05.069960Z",
     "iopub.status.busy": "2021-05-17T21:50:05.069216Z",
     "iopub.status.idle": "2021-05-17T21:50:05.072753Z",
     "shell.execute_reply": "2021-05-17T21:50:05.072305Z"
    },
    "id": "Bt2-Vz0rMySi",
    "outputId": "e1803de4-0df3-4099-8b8c-ba395ebe6a02",
    "papermill": {
     "duration": 0.063212,
     "end_time": "2021-05-17T21:50:05.072870",
     "exception": false,
     "start_time": "2021-05-17T21:50:05.009658",
     "status": "completed"
    },
    "tags": []
   },
   "outputs": [],
   "source": [
    "#NEPTUNE_LOGGER = True\n",
    "if INTERNET_ON:\n",
    "    from pytorch_lightning.loggers.neptune import NeptuneLogger\n",
    "    \n",
    "    PARAMS = {\n",
    "    'seed': Config.SEED,\n",
    "    \n",
    "    'model_type': Config.MODEL_TYPE,\n",
    "    'loss': Config.LOSS,\n",
    "    'is_training_from_scratch': Config.IS_TRAINING_FROM_SCRATCH,\n",
    "    \n",
    "    'validation_size': Config.VALIDATION_SIZE,\n",
    "    'max_epochs': Config.MAX_EPOCHS,\n",
    "    'batch_size': Config.BATCH_SIZE,\n",
    "    'lr': Config.LR,\n",
    "    }\n",
    "    if Config.WEIGHT_DECAY > 0.0:\n",
    "        PARAMS.update({'weight_decay': Config.WEIGHT_DECAY})\n",
    "\n",
    "    if Config.DESCRIPTION != '':\n",
    "        PARAMS.update({'description': Config.DESCRIPTION})\n",
    "\n",
    "    if 'Image' in Config.MODEL_TYPE:\n",
    "        PARAMS.update({'image_model_name': Config.IMAGE_MODEL_NAME,\n",
    "                       'activations': Config.ACTIVATIONS,\n",
    "                       'img_size': Config.IMG_SIZE,\n",
    "                       'data_augmentation': Config.DATA_AUGMENTATION})\n",
    "        \n",
    "        if Config.DATA_AUGMENTATION:\n",
    "            PARAMS.update({'boost_data_augmentation': Config.BOOST_DATA_AUGMENTATION})\n",
    "    \n",
    "    if 'Text' in Config.MODEL_TYPE:\n",
    "        PARAMS.update({'text_model_name': Config.TEXT_MODEL_NAME,\n",
    "                       'tokenizer_max_length': Config.TOKENIZER_MAX_LENGTH})\n",
    "\n",
    "    if Config.NORM_CLIPPING < 1.0:\n",
    "        PARAMS.update({'norm_clipping': Config.NORM_CLIPPING})\n",
    "\n",
    "    if Config.USE_FC:\n",
    "        PARAMS.update({\n",
    "            'use_fc': Config.USE_FC,\n",
    "            'dropout': Config.DROPOUT,\n",
    "        })\n",
    "\n",
    "    if Config.COSINE_ANNEALING_WARM_RESTARTS:\n",
    "        PARAMS.update({\n",
    "                'cawr_T0': Config.CAWR_T0,\n",
    "                'cawr_T_mult': Config.CAWR_T_MULT,\n",
    "                'cawr_min_lr': Config.CAWR_MIN_LR,\n",
    "        })\n",
    "\n",
    "    if Config.BACKBONE_FINETUNING:\n",
    "        PARAMS.update({\n",
    "              'unfreeze_epoch': Config.UNFREEZE_EPOCH,\n",
    "              'multiply_lr': Config.MULTIPLY_LR,\n",
    "              'initial_backbone_ratio_lr': Config.BACKBONE_RATIO_LR,\n",
    "        })\n",
    "\n",
    "    if Config.STOCHASTIC_WEIGHT_AVERAGING:\n",
    "        PARAMS.update({\n",
    "            'swa_epoch_start': Config.SWA_EPOCH_START,\n",
    "            'swa_annealing_epochs': Config.SWA_ANNEALING_EPOCHS,\n",
    "        })\n",
    "\n",
    "    if Config.EARLY_STOPPING:\n",
    "        PARAMS.update({\n",
    "            'patience': Config.PATIENCE,\n",
    "            'min_delta': Config.MIN_DELTA,\n",
    "        })\n",
    "\n",
    "    if Config.LOSS == \"ArcFace\" or Config.LOSS == \"CurricularFace\":\n",
    "        PARAMS.update({\n",
    "            'scale': Config.SCALE,\n",
    "            'margin': Config.MARGIN,\n",
    "        })\n",
    "\n",
    "    NEPTUNE_LOGGER = NeptuneLogger(\n",
    "        api_key=NEPTUNE_KEY,\n",
    "        project_name=NEPTUNE_PROJECT_NAME,\n",
    "        close_after_fit=False,\n",
    "        params=PARAMS,\n",
    "    )"
   ]
  },
  {
   "cell_type": "markdown",
   "id": "solid-father",
   "metadata": {
    "papermill": {
     "duration": 0.048074,
     "end_time": "2021-05-17T21:50:05.169208",
     "exception": false,
     "start_time": "2021-05-17T21:50:05.121134",
     "status": "completed"
    },
    "tags": []
   },
   "source": [
    "# Pytorch Lightning Callbacks"
   ]
  },
  {
   "cell_type": "code",
   "execution_count": 9,
   "id": "meaningful-cholesterol",
   "metadata": {
    "execution": {
     "iopub.execute_input": "2021-05-17T21:50:05.273445Z",
     "iopub.status.busy": "2021-05-17T21:50:05.272588Z",
     "iopub.status.idle": "2021-05-17T21:50:05.275269Z",
     "shell.execute_reply": "2021-05-17T21:50:05.274819Z"
    },
    "papermill": {
     "duration": 0.058697,
     "end_time": "2021-05-17T21:50:05.275394",
     "exception": false,
     "start_time": "2021-05-17T21:50:05.216697",
     "status": "completed"
    },
    "tags": []
   },
   "outputs": [],
   "source": [
    "if not IS_SUBMISSION:\n",
    "    # Choose callbacks\n",
    "    callbacks = []\n",
    "    \n",
    "    if Config.BACKBONE_FINETUNING:\n",
    "        # Finetune the backbone model at lower lr progressively increasing to align to the model head lr\n",
    "        backbone_finetuning_callback = BackboneFinetuning(\n",
    "           unfreeze_backbone_at_epoch=Config.UNFREEZE_EPOCH,  # unfreeze backbone parameters from epoch <UNFREEZE_EPOCH> onwards\n",
    "           lambda_func=lambda epoch: Config.MULTIPLY_LR, # multiply the lr by <MULTIPLY_LR> at each epoch\n",
    "           backbone_initial_ratio_lr=Config.BACKBONE_RATIO_LR, # the backbone will be tuned at first at a <BACKBONE_RATIO_LR>% of the model head lr\n",
    "           verbose=True\n",
    "        )\n",
    "        callbacks.append(backbone_finetuning_callback)\n",
    "        \n",
    "    if Config.STOCHASTIC_WEIGHT_AVERAGING:\n",
    "        # Stochastic Weight Averaging is a very efficient approach to obtain more generalizable model (better test error)\n",
    "        # source: https://pytorch.org/blog/pytorch-1.6-now-includes-stochastic-weight-averaging/\n",
    "        SWA_callback = StochasticWeightAveraging(\n",
    "            swa_epoch_start=Config.SWA_EPOCH_START,  \n",
    "            annealing_epochs=Config.SWA_ANNEALING_EPOCHS,\n",
    "        )\n",
    "        callbacks.append(SWA_callback)\n",
    "        \n",
    "    if Config.COSINE_ANNEALING_WARM_RESTARTS:\n",
    "        lr_monitor_callback = LearningRateMonitor(logging_interval='epoch')\n",
    "        callbacks.append(lr_monitor_callback)\n",
    "        \n",
    "    if Config.EARLY_STOPPING:\n",
    "        # Stop the training if the <val_loss> does not improve by at least <min_delta> during <patience> epochs\n",
    "        early_stopping_callback = EarlyStopping( # Pay attention that early stopping does not enter in conflict with SWA\n",
    "           monitor='val_loss',\n",
    "           min_delta=Config.MIN_DELTA,\n",
    "           patience=Config.PATIENCE,\n",
    "           verbose=True,\n",
    "           mode='min'\n",
    "        )\n",
    "        callbacks.append(early_stopping_callback)\n",
    "        \n",
    "    if Config.SAVE_MODEL:\n",
    "        filename_prefix = 'model'\n",
    "        if 'Image' in Config.MODEL_TYPE:\n",
    "            filename_prefix = f'{Config.IMAGE_MODEL_NAME}_{Config.ACTIVATIONS}_{Config.LOSS}'\n",
    "        elif 'Text' in Config.MODEL_TYPE:\n",
    "            filename_prefix = f'{Config.TEXT_MODEL_NAME}_{Config.LOSS}'\n",
    "            \n",
    "        # Checkpoint the model at each epoch where the <val_loss> improves\n",
    "        checkpoint_callback = ModelCheckpoint(\n",
    "            monitor='val_loss',\n",
    "            dirpath=Config.MODEL_DIR,    \n",
    "            filename=filename_prefix + '-{epoch:02d}-{val_loss:.2f}',\n",
    "            save_top_k=2,\n",
    "            mode='min'\n",
    "        )\n",
    "        callbacks.append(checkpoint_callback)"
   ]
  },
  {
   "cell_type": "markdown",
   "id": "wicked-moral",
   "metadata": {
    "id": "XWLKGfwkMyS0",
    "papermill": {
     "duration": 0.047229,
     "end_time": "2021-05-17T21:50:05.369876",
     "exception": false,
     "start_time": "2021-05-17T21:50:05.322647",
     "status": "completed"
    },
    "tags": []
   },
   "source": [
    "# Mish Activation Layer\n",
    "State-of-the-art activation function that outperforms Swish and ReLU in DNN's."
   ]
  },
  {
   "cell_type": "code",
   "execution_count": 10,
   "id": "macro-persian",
   "metadata": {
    "execution": {
     "iopub.execute_input": "2021-05-17T21:50:05.471339Z",
     "iopub.status.busy": "2021-05-17T21:50:05.470555Z",
     "iopub.status.idle": "2021-05-17T21:50:05.473086Z",
     "shell.execute_reply": "2021-05-17T21:50:05.472689Z"
    },
    "id": "9XZS6jxYMyS1",
    "jupyter": {
     "source_hidden": true
    },
    "papermill": {
     "duration": 0.054664,
     "end_time": "2021-05-17T21:50:05.473200",
     "exception": false,
     "start_time": "2021-05-17T21:50:05.418536",
     "status": "completed"
    },
    "tags": []
   },
   "outputs": [],
   "source": [
    "class Mish(nn.Module):\n",
    "    def __init__(self):\n",
    "        super(Mish, self).__init__()\n",
    "\n",
    "    def forward(self, input):\n",
    "        return input * (torch.tanh(F.softplus(input)))"
   ]
  },
  {
   "cell_type": "markdown",
   "id": "documented-arena",
   "metadata": {
    "papermill": {
     "duration": 0.047275,
     "end_time": "2021-05-17T21:50:05.568007",
     "exception": false,
     "start_time": "2021-05-17T21:50:05.520732",
     "status": "completed"
    },
    "tags": []
   },
   "source": [
    "# Loss Functions"
   ]
  },
  {
   "cell_type": "markdown",
   "id": "protective-terrorist",
   "metadata": {
    "id": "oKQpL71sMyS1",
    "papermill": {
     "duration": 0.047158,
     "end_time": "2021-05-17T21:50:05.662995",
     "exception": false,
     "start_time": "2021-05-17T21:50:05.615837",
     "status": "completed"
    },
    "tags": []
   },
   "source": [
    "## Arc Margin Product \n",
    "Additive Angular Margin Loss (ArcFace)\n",
    "- Loss function to obtain highly discriminative image features\n",
    "- Used initially in 2018 for state-of-the-art Face Recognition"
   ]
  },
  {
   "cell_type": "code",
   "execution_count": 11,
   "id": "closed-physiology",
   "metadata": {
    "execution": {
     "iopub.execute_input": "2021-05-17T21:50:05.769696Z",
     "iopub.status.busy": "2021-05-17T21:50:05.768827Z",
     "iopub.status.idle": "2021-05-17T21:50:05.770935Z",
     "shell.execute_reply": "2021-05-17T21:50:05.771369Z"
    },
    "id": "r_5kRXitMyS2",
    "jupyter": {
     "source_hidden": true
    },
    "papermill": {
     "duration": 0.060945,
     "end_time": "2021-05-17T21:50:05.771523",
     "exception": false,
     "start_time": "2021-05-17T21:50:05.710578",
     "status": "completed"
    },
    "tags": []
   },
   "outputs": [],
   "source": [
    "# credits: https://arxiv.org/pdf/1801.07698.pdf\n",
    "#          https://github.com/ronghuaiyang/arcface-pytorch/blob/master/models/metrics.py\n",
    "class ArcMarginProduct(nn.Module):\n",
    "    def __init__(self, in_features, out_features, scale=30.0, margin=0.50, easy_margin=False, ls_eps=0.0):\n",
    "        super(ArcMarginProduct, self).__init__()\n",
    "        self.in_features = in_features\n",
    "        self.out_features = out_features\n",
    "        self.scale = scale\n",
    "        self.margin = margin\n",
    "        self.ls_eps = ls_eps  # label smoothing\n",
    "        self.weight = nn.Parameter(torch.FloatTensor(out_features, in_features))\n",
    "        nn.init.xavier_uniform_(self.weight)\n",
    "\n",
    "        self.easy_margin = easy_margin\n",
    "        self.cos_m = math.cos(margin)\n",
    "        self.sin_m = math.sin(margin)\n",
    "        self.th = math.cos(math.pi - margin)\n",
    "        self.mm = math.sin(math.pi - margin) * margin\n",
    "\n",
    "    def forward(self, input, label):\n",
    "        # --------------------------- cos(theta) & phi(theta) ---------------------------\n",
    "        cosine = F.linear(F.normalize(input), F.normalize(self.weight))\n",
    "        sine = torch.sqrt(1.0 - torch.pow(cosine, 2))\n",
    "        phi = cosine * self.cos_m - sine * self.sin_m\n",
    "        if self.easy_margin:\n",
    "            phi = torch.where(cosine > 0, phi, cosine)\n",
    "        else:\n",
    "            phi = torch.where(cosine > self.th, phi, cosine - self.mm)\n",
    "        # --------------------------- convert label to one-hot ---------------------------\n",
    "        # one_hot = torch.zeros(cosine.size(), requires_grad=True, device='cuda')\n",
    "        one_hot = torch.zeros(cosine.size(), device='cuda')\n",
    "        one_hot.scatter_(1, label.view(-1, 1).long(), 1)\n",
    "        if self.ls_eps > 0:\n",
    "            one_hot = (1 - self.ls_eps) * one_hot + self.ls_eps / self.out_features\n",
    "        # -------------torch.where(out_i = {x_i if condition_i else y_i) -------------\n",
    "        output = (one_hot * phi) + ((1.0 - one_hot) * cosine)\n",
    "        output *= self.scale\n",
    "\n",
    "        return output"
   ]
  },
  {
   "cell_type": "markdown",
   "id": "closed-savannah",
   "metadata": {
    "id": "RejTp9x3MyS3",
    "papermill": {
     "duration": 0.048785,
     "end_time": "2021-05-17T21:50:05.869674",
     "exception": false,
     "start_time": "2021-05-17T21:50:05.820889",
     "status": "completed"
    },
    "tags": []
   },
   "source": [
    "## AdaCos\n",
    "Adaptively Scaling Cosine Logits\n",
    "- State-of-the-art since 2019 in Deep Face Recognition (https://arxiv.org/abs/1905.00292)\n",
    "- Adaptation of CosFace\n",
    "- Outperforms CosFace and ArcFace\n",
    "- No parameter to tune -> self-tuning loss"
   ]
  },
  {
   "cell_type": "code",
   "execution_count": 12,
   "id": "constitutional-pregnancy",
   "metadata": {
    "execution": {
     "iopub.execute_input": "2021-05-17T21:50:05.981723Z",
     "iopub.status.busy": "2021-05-17T21:50:05.980803Z",
     "iopub.status.idle": "2021-05-17T21:50:05.983431Z",
     "shell.execute_reply": "2021-05-17T21:50:05.983031Z"
    },
    "id": "fxAziC_-MyS3",
    "jupyter": {
     "source_hidden": true
    },
    "papermill": {
     "duration": 0.064939,
     "end_time": "2021-05-17T21:50:05.983557",
     "exception": false,
     "start_time": "2021-05-17T21:50:05.918618",
     "status": "completed"
    },
    "tags": []
   },
   "outputs": [],
   "source": [
    "# credits: https://catalyst-team.github.io/catalyst/_modules/catalyst/contrib/nn/modules/cosface.html#AdaCos\n",
    "class AdaCos(nn.Module):\n",
    "    \"\"\"Implementation of\n",
    "    `AdaCos\\: Adaptively Scaling Cosine Logits for Effectively Learning Deep Face Representations`_.\n",
    "\n",
    "    .. _AdaCos\\: Adaptively Scaling Cosine Logits for\\\n",
    "        Effectively Learning Deep Face Representations:\n",
    "        https://arxiv.org/abs/1905.00292\n",
    "\n",
    "    Args:\n",
    "        in_features: size of each input sample.\n",
    "        out_features: size of each output sample.\n",
    "        dynamical_s: option to use dynamical scale parameter.\n",
    "            If ``False`` then will be used initial scale.\n",
    "            Default: ``True``.\n",
    "        eps: operation accuracy.\n",
    "            Default: ``1e-6``.\n",
    "\n",
    "    Shape:\n",
    "        - Input: :math:`(batch, H_{in})` where\n",
    "          :math:`H_{in} = in\\_features`.\n",
    "        - Output: :math:`(batch, H_{out})` where\n",
    "          :math:`H_{out} = out\\_features`.\n",
    "\n",
    "    Example:\n",
    "        >>> layer = AdaCos(5, 10)\n",
    "        >>> loss_fn = nn.CrosEntropyLoss()\n",
    "        >>> embedding = torch.randn(3, 5, requires_grad=True)\n",
    "        >>> target = torch.empty(3, dtype=torch.long).random_(10)\n",
    "        >>> output = layer(embedding, target)\n",
    "        >>> loss = loss_fn(output, target)\n",
    "        >>> loss.backward()\n",
    "\n",
    "    \"\"\"  # noqa: E501,W505\n",
    "\n",
    "    def __init__(  # noqa: D107\n",
    "        self, in_features: int, out_features: int, dynamical_s: bool = True, eps: float = 1e-6,\n",
    "    ):\n",
    "        super(AdaCos, self).__init__()\n",
    "        self.in_features = in_features\n",
    "        self.out_features = out_features\n",
    "        self.s = math.sqrt(2) * math.log(out_features - 1)\n",
    "        self.eps = eps\n",
    "\n",
    "        self.weight = nn.Parameter(torch.FloatTensor(out_features, in_features))\n",
    "        nn.init.xavier_uniform_(self.weight)\n",
    "\n",
    "    def __repr__(self) -> str:\n",
    "        \"\"\"Object representation.\"\"\"\n",
    "        rep = (\n",
    "            \"AdaCos(\"\n",
    "            f\"in_features={self.in_features},\"\n",
    "            f\"out_features={self.out_features},\"\n",
    "            f\"s={self.s},\"\n",
    "            f\"eps={self.eps}\"\n",
    "            \")\"\n",
    "        )\n",
    "        return rep\n",
    "\n",
    "    def forward(self, input: torch.Tensor, target: torch.LongTensor = None) -> torch.Tensor:\n",
    "        \"\"\"\n",
    "        Args:\n",
    "            input: input features,\n",
    "                expected shapes ``BxF`` where ``B``\n",
    "                is batch dimension and ``F`` is an\n",
    "                input feature dimension.\n",
    "            target: target classes,\n",
    "                expected shapes ``B`` where\n",
    "                ``B`` is batch dimension.\n",
    "                If `None` then will be returned\n",
    "                projection on centroids.\n",
    "                Default is `None`.\n",
    "\n",
    "        Returns:\n",
    "            tensor (logits) with shapes ``BxC``\n",
    "            where ``C`` is a number of classes\n",
    "            (out_features).\n",
    "        \"\"\"\n",
    "        cos_theta = F.linear(F.normalize(input), F.normalize(self.weight))\n",
    "        theta = torch.acos(torch.clamp(cos_theta, -1.0 + self.eps, 1.0 - self.eps))\n",
    "\n",
    "        if target is None:\n",
    "            return cos_theta\n",
    "\n",
    "        one_hot = torch.zeros_like(cos_theta)\n",
    "        one_hot.scatter_(1, target.view(-1, 1).long(), 1)\n",
    "\n",
    "        if self.train:\n",
    "            with torch.no_grad():\n",
    "                b_avg = (\n",
    "                    torch.where(\n",
    "                        one_hot < 1, torch.exp(self.s * cos_theta), torch.zeros_like(cos_theta),\n",
    "                    )\n",
    "                    .sum(1)\n",
    "                    .mean()\n",
    "                )\n",
    "                theta_median = theta[one_hot > 0].median()\n",
    "                theta_median = torch.min(torch.full_like(theta_median, math.pi / 4), theta_median)\n",
    "                self.s = (torch.log(b_avg) / torch.cos(theta_median))#.item()\n",
    "\n",
    "        logits = self.s * cos_theta\n",
    "        return logits"
   ]
  },
  {
   "cell_type": "markdown",
   "id": "identified-charity",
   "metadata": {
    "id": "ZeJuwxsJ6T-3",
    "papermill": {
     "duration": 0.049824,
     "end_time": "2021-05-17T21:50:06.084044",
     "exception": false,
     "start_time": "2021-05-17T21:50:06.034220",
     "status": "completed"
    },
    "tags": []
   },
   "source": [
    "## CurricularFace\n",
    "https://arxiv.org/pdf/2004.00288.pdf\n",
    "https://github.com/HuangYG123/CurricularFace/blob/8b2f47318117995aa05490c05b455b113489917e/head/metrics.py#L70\n",
    "- Superseed ArcFace and its variants\n",
    "- Adaptative Curriculum Learning: learn over easy (=low-loss scoring) samples during the first epochs and then learn over hard (=high-loss scoring) samples."
   ]
  },
  {
   "cell_type": "code",
   "execution_count": 13,
   "id": "incoming-basement",
   "metadata": {
    "execution": {
     "iopub.execute_input": "2021-05-17T21:50:06.195163Z",
     "iopub.status.busy": "2021-05-17T21:50:06.194313Z",
     "iopub.status.idle": "2021-05-17T21:50:06.197033Z",
     "shell.execute_reply": "2021-05-17T21:50:06.196605Z"
    },
    "id": "ktqm_TY-6SG0",
    "jupyter": {
     "source_hidden": true
    },
    "papermill": {
     "duration": 0.063899,
     "end_time": "2021-05-17T21:50:06.197141",
     "exception": false,
     "start_time": "2021-05-17T21:50:06.133242",
     "status": "completed"
    },
    "tags": []
   },
   "outputs": [],
   "source": [
    "def l2_norm(input, axis = 1):\n",
    "    norm = torch.norm(input, 2, axis, True)\n",
    "    output = torch.div(input, norm)\n",
    "\n",
    "    return output\n",
    "\n",
    "class CurricularFace(pl.LightningModule):#nn.Module):\n",
    "    def __init__(self, in_features, out_features, m = 0.5, s = 64.):\n",
    "        super(CurricularFace, self).__init__()\n",
    "        self.in_features = in_features\n",
    "        self.out_features = out_features\n",
    "        self.m = m\n",
    "        self.s = s\n",
    "        self.cos_m = math.cos(m)\n",
    "        self.sin_m = math.sin(m)\n",
    "        self.threshold = math.cos(math.pi - m)\n",
    "        self.mm = math.sin(math.pi - m) * m\n",
    "        self.kernel = nn.Parameter(torch.Tensor(in_features, out_features, device=self.device))\n",
    "        self.register_buffer('t', torch.zeros(1, device=self.device))\n",
    "        nn.init.normal_(self.kernel, std=0.01)\n",
    "\n",
    "    def forward(self, embbedings, label):\n",
    "        embbedings = l2_norm(embbedings, axis = 1)\n",
    "        kernel_norm = l2_norm(self.kernel, axis = 0)\n",
    "        cos_theta = torch.mm(embbedings, kernel_norm)\n",
    "        cos_theta = cos_theta.clamp(-1, 1)  # for numerical stability\n",
    "        with torch.no_grad():\n",
    "            origin_cos = cos_theta.clone()\n",
    "        target_logit = cos_theta[torch.arange(0, embbedings.size(0)), label].view(-1, 1)\n",
    "\n",
    "        sin_theta = torch.sqrt(1.0 - torch.pow(target_logit, 2))\n",
    "        cos_theta_m = target_logit * self.cos_m - sin_theta * self.sin_m #cos(target+margin)\n",
    "        mask = cos_theta > cos_theta_m\n",
    "        final_target_logit = torch.where(target_logit > self.threshold, cos_theta_m, target_logit - self.mm)\n",
    "\n",
    "        hard_example = cos_theta[mask]\n",
    "        with torch.no_grad():\n",
    "            self.t = target_logit.mean() * 0.01 + (1 - 0.01) * self.t\n",
    "        cos_theta[mask] = hard_example * (self.t + hard_example)\n",
    "        cos_theta.scatter_(1, label.view(-1, 1).long(), final_target_logit)\n",
    "        output = cos_theta * self.s\n",
    "        return output#, origin_cos * self.s"
   ]
  },
  {
   "cell_type": "markdown",
   "id": "subjective-stevens",
   "metadata": {
    "id": "eJXqkIU8MySj",
    "papermill": {
     "duration": 0.048286,
     "end_time": "2021-05-17T21:50:06.293256",
     "exception": false,
     "start_time": "2021-05-17T21:50:06.244970",
     "status": "completed"
    },
    "tags": []
   },
   "source": [
    "# F1 Score"
   ]
  },
  {
   "cell_type": "code",
   "execution_count": 14,
   "id": "miniature-kidney",
   "metadata": {
    "execution": {
     "iopub.execute_input": "2021-05-17T21:50:06.394905Z",
     "iopub.status.busy": "2021-05-17T21:50:06.394110Z",
     "iopub.status.idle": "2021-05-17T21:50:06.396682Z",
     "shell.execute_reply": "2021-05-17T21:50:06.396245Z"
    },
    "id": "g229gcNdMySj",
    "papermill": {
     "duration": 0.055823,
     "end_time": "2021-05-17T21:50:06.396795",
     "exception": false,
     "start_time": "2021-05-17T21:50:06.340972",
     "status": "completed"
    },
    "tags": []
   },
   "outputs": [],
   "source": [
    "# credits: https://www.kaggle.com/c/shopee-product-matching/discussion/225093\n",
    "def getMetric(col):\n",
    "    def f1score(row): # or Dice Metric\n",
    "        n = len(np.intersect1d(row.targets, row[col]))\n",
    "        return 2 * n / (len(row.targets) + len(row[col]))\n",
    "    return f1score"
   ]
  },
  {
   "cell_type": "markdown",
   "id": "received-instruction",
   "metadata": {
    "id": "FKp4IbwUMySk",
    "papermill": {
     "duration": 0.047597,
     "end_time": "2021-05-17T21:50:06.492728",
     "exception": false,
     "start_time": "2021-05-17T21:50:06.445131",
     "status": "completed"
    },
    "tags": []
   },
   "source": [
    "# Load Train Data"
   ]
  },
  {
   "cell_type": "code",
   "execution_count": 15,
   "id": "satisfactory-retrieval",
   "metadata": {
    "execution": {
     "iopub.execute_input": "2021-05-17T21:50:06.600076Z",
     "iopub.status.busy": "2021-05-17T21:50:06.599261Z",
     "iopub.status.idle": "2021-05-17T21:50:06.602213Z",
     "shell.execute_reply": "2021-05-17T21:50:06.601792Z"
    },
    "papermill": {
     "duration": 0.061442,
     "end_time": "2021-05-17T21:50:06.602326",
     "exception": false,
     "start_time": "2021-05-17T21:50:06.540884",
     "status": "completed"
    },
    "tags": []
   },
   "outputs": [],
   "source": [
    "if not IS_SUBMISSION:\n",
    "    train = pd.read_csv(Config.TRAIN_CSV)\n",
    "    # Number of unique values in the dataset\n",
    "    print(train[['posting_id', 'label_group', 'image_phash', 'title']].nunique())"
   ]
  },
  {
   "cell_type": "markdown",
   "id": "thirty-reproduction",
   "metadata": {
    "id": "ejoTK5rUMySq",
    "papermill": {
     "duration": 0.049055,
     "end_time": "2021-05-17T21:50:06.700704",
     "exception": false,
     "start_time": "2021-05-17T21:50:06.651649",
     "status": "completed"
    },
    "tags": []
   },
   "source": [
    "# Use Image Embbedings"
   ]
  },
  {
   "cell_type": "markdown",
   "id": "daily-prisoner",
   "metadata": {
    "id": "vhjm2ZIkMySs",
    "papermill": {
     "duration": 0.048201,
     "end_time": "2021-05-17T21:50:06.798176",
     "exception": false,
     "start_time": "2021-05-17T21:50:06.749975",
     "status": "completed"
    },
    "tags": []
   },
   "source": [
    "Remove duplicate images from the train set"
   ]
  },
  {
   "cell_type": "code",
   "execution_count": 16,
   "id": "juvenile-block",
   "metadata": {
    "execution": {
     "iopub.execute_input": "2021-05-17T21:50:06.964013Z",
     "iopub.status.busy": "2021-05-17T21:50:06.963128Z",
     "iopub.status.idle": "2021-05-17T21:50:06.965428Z",
     "shell.execute_reply": "2021-05-17T21:50:06.966111Z"
    },
    "id": "1DKW4wSsMySt",
    "outputId": "1adaffbc-dd75-40aa-8c8a-9f5233a4cbc9",
    "papermill": {
     "duration": 0.095349,
     "end_time": "2021-05-17T21:50:06.966311",
     "exception": false,
     "start_time": "2021-05-17T21:50:06.870962",
     "status": "completed"
    },
    "tags": []
   },
   "outputs": [],
   "source": [
    "if not IS_SUBMISSION:\n",
    "    train.drop_duplicates(subset=['image_phash', 'label_group'], inplace=True)\n",
    "    print(\"Number of unique values\")\n",
    "    print(train[['posting_id', 'label_group', 'image_phash', 'title']].nunique())\n",
    "    print(\"Number of instances alone (occurence = 1 in a label_group)\")\n",
    "    rows_alone = train.drop_duplicates(subset=['label_group'], keep=False)\n",
    "    n_instances_alone = len(rows_alone)\n",
    "    print(n_instances_alone)\n",
    "    if not Config.ENSEMBLE:\n",
    "        indices_drop_alone = train.index[~train.duplicated('label_group', keep=False)]\n",
    "        train.drop(indices_drop_alone, inplace=True)\n",
    "        print(\"Number of unique values after dropping alone instances\")\n",
    "        print(train[['posting_id', 'label_group', 'image_phash', 'title']].nunique())"
   ]
  },
  {
   "cell_type": "markdown",
   "id": "vanilla-origin",
   "metadata": {
    "id": "c-YBRNAjMySu",
    "papermill": {
     "duration": 0.087333,
     "end_time": "2021-05-17T21:50:07.156277",
     "exception": false,
     "start_time": "2021-05-17T21:50:07.068944",
     "status": "completed"
    },
    "tags": []
   },
   "source": [
    "Separation of the dataset at random into stratified folds"
   ]
  },
  {
   "cell_type": "code",
   "execution_count": 17,
   "id": "smart-singer",
   "metadata": {
    "execution": {
     "iopub.execute_input": "2021-05-17T21:50:07.330168Z",
     "iopub.status.busy": "2021-05-17T21:50:07.329416Z",
     "iopub.status.idle": "2021-05-17T21:50:07.337504Z",
     "shell.execute_reply": "2021-05-17T21:50:07.336601Z"
    },
    "id": "jyYKEfZBMySu",
    "outputId": "1373f49c-e170-43cf-b981-eee9f76163ee",
    "papermill": {
     "duration": 0.102032,
     "end_time": "2021-05-17T21:50:07.337636",
     "exception": false,
     "start_time": "2021-05-17T21:50:07.235604",
     "status": "completed"
    },
    "tags": []
   },
   "outputs": [],
   "source": [
    "if not IS_SUBMISSION and Config.ENSEMBLE:\n",
    "    NUM_FOLDS = 4\n",
    "    folds = []\n",
    "    for i in range(NUM_FOLDS):\n",
    "        folds.append(pd.DataFrame([train.iloc[i]]))\n",
    "    for index_row, i in zip(train.iterrows(), range(NUM_FOLDS, len(train))):\n",
    "        _, row = index_row\n",
    "        j = 0\n",
    "        while j < NUM_FOLDS and row.label_group in folds[(i+j)%NUM_FOLDS].label_group:\n",
    "            j += 1\n",
    "        folds[(i+j)%NUM_FOLDS] = folds[(i+j)%NUM_FOLDS].append(row, ignore_index=False) \n",
    "    \n",
    "    for i in range(NUM_FOLDS):\n",
    "        print(f\"Fold #{i} length: {len(folds[i])}\")\n",
    "        print(f\"Fold #{i} -> number of unique labels: {folds[i].label_group.nunique()}\")"
   ]
  },
  {
   "cell_type": "code",
   "execution_count": 18,
   "id": "mental-lucas",
   "metadata": {
    "execution": {
     "iopub.execute_input": "2021-05-17T21:50:07.446236Z",
     "iopub.status.busy": "2021-05-17T21:50:07.445305Z",
     "iopub.status.idle": "2021-05-17T21:50:07.447974Z",
     "shell.execute_reply": "2021-05-17T21:50:07.447524Z"
    },
    "papermill": {
     "duration": 0.06124,
     "end_time": "2021-05-17T21:50:07.448095",
     "exception": false,
     "start_time": "2021-05-17T21:50:07.386855",
     "status": "completed"
    },
    "tags": []
   },
   "outputs": [],
   "source": [
    "if not IS_SUBMISSION and not Config.ENSEMBLE:\n",
    "    train = train.sample(frac=1, random_state=Config.SEED).reset_index(drop=True) # Shuffle trainset rows in place\n",
    "    indices_validation = train.index[~train.duplicated('label_group')]\n",
    "    validation = train.loc[indices_validation]\n",
    "    train.drop(indices_validation, inplace=True)\n",
    "    train = train.reset_index(drop=True)\n",
    "\n",
    "    print(f\"Trainset length: {len(train)}\")\n",
    "    print(f\"Validation set length: {len(validation)}\")\n",
    "    print(f\"Validation set -> number of unique labels: {validation.label_group.nunique()}\")\n",
    "    print(f\"Train set -> number of unique labels: {train.label_group.nunique()}\")"
   ]
  },
  {
   "cell_type": "markdown",
   "id": "academic-person",
   "metadata": {
    "id": "e30HErAmMySl",
    "papermill": {
     "duration": 0.048644,
     "end_time": "2021-05-17T21:50:07.546018",
     "exception": false,
     "start_time": "2021-05-17T21:50:07.497374",
     "status": "completed"
    },
    "tags": []
   },
   "source": [
    "Add a column `targets` containing a list of target ids to which each sample should be associated (including itself)"
   ]
  },
  {
   "cell_type": "code",
   "execution_count": 19,
   "id": "exact-subscription",
   "metadata": {
    "execution": {
     "iopub.execute_input": "2021-05-17T21:50:07.651447Z",
     "iopub.status.busy": "2021-05-17T21:50:07.650575Z",
     "iopub.status.idle": "2021-05-17T21:50:07.653239Z",
     "shell.execute_reply": "2021-05-17T21:50:07.652782Z"
    },
    "papermill": {
     "duration": 0.058058,
     "end_time": "2021-05-17T21:50:07.653346",
     "exception": false,
     "start_time": "2021-05-17T21:50:07.595288",
     "status": "completed"
    },
    "tags": []
   },
   "outputs": [],
   "source": [
    "if not IS_SUBMISSION:\n",
    "    targets_per_label_group = validation.groupby('label_group').posting_id.agg('unique')\n",
    "    validation['targets'] = validation.label_group.map(targets_per_label_group)\n",
    "    print('Validation shape:', validation.shape)"
   ]
  },
  {
   "cell_type": "markdown",
   "id": "heavy-royalty",
   "metadata": {
    "papermill": {
     "duration": 0.049167,
     "end_time": "2021-05-17T21:50:07.753682",
     "exception": false,
     "start_time": "2021-05-17T21:50:07.704515",
     "status": "completed"
    },
    "tags": []
   },
   "source": [
    "## Image Dataset"
   ]
  },
  {
   "cell_type": "code",
   "execution_count": 20,
   "id": "eleven-bishop",
   "metadata": {
    "execution": {
     "iopub.execute_input": "2021-05-17T21:50:07.862265Z",
     "iopub.status.busy": "2021-05-17T21:50:07.861335Z",
     "iopub.status.idle": "2021-05-17T21:50:07.864088Z",
     "shell.execute_reply": "2021-05-17T21:50:07.863655Z"
    },
    "id": "Wf6V4ldeMySr",
    "papermill": {
     "duration": 0.061778,
     "end_time": "2021-05-17T21:50:07.864207",
     "exception": false,
     "start_time": "2021-05-17T21:50:07.802429",
     "status": "completed"
    },
    "tags": []
   },
   "outputs": [],
   "source": [
    "class ShopeeImageDataset(torch.utils.data.Dataset):\n",
    "    def __init__(self, image_dir, image_files, labels=pd.Series(dtype=object), transform=None):\n",
    "        \"\"\"Initializes a dataset containing images and labels.\"\"\"\n",
    "        super().__init__()\n",
    "        self.image_dir = image_dir\n",
    "        self.image_files = image_files\n",
    "        if labels.any():\n",
    "            print(\"Shopee Dataset Train\")\n",
    "            label_encoder = LabelEncoder()\n",
    "            self.labels = label_encoder.fit_transform(labels)\n",
    "            self.train = True\n",
    "        else:\n",
    "            print(\"Shopee Dataset Test\")\n",
    "            self.train = False\n",
    "        self.transform = transform\n",
    "                \n",
    "    def __len__(self):\n",
    "        \"\"\"Returns the size of the dataset.\"\"\"\n",
    "        return len(self.image_files)\n",
    "\n",
    "    def __getitem__(self, index):\n",
    "        \"\"\"Returns the index-th data item of the dataset.\"\"\"\n",
    "        image_file = self.image_files.iloc[index]\n",
    "        image_path = os.path.join(self.image_dir, image_file)\n",
    "        image = cv2.imread(image_path)\n",
    "        # By default OpenCV uses BGR color space for color images,\n",
    "        # so we need to convert the image to RGB color space.\n",
    "        image = cv2.cvtColor(image, cv2.COLOR_BGR2RGB)\n",
    "        if self.transform:\n",
    "            augmented = self.transform(image=image)\n",
    "            image = augmented['image']\n",
    "            \n",
    "        if self.train:\n",
    "            return image, torch.tensor(self.labels[index]).long()\n",
    "        else:\n",
    "            return image, torch.tensor(1)\n"
   ]
  },
  {
   "cell_type": "code",
   "execution_count": 21,
   "id": "minus-correction",
   "metadata": {
    "execution": {
     "iopub.execute_input": "2021-05-17T21:50:07.974051Z",
     "iopub.status.busy": "2021-05-17T21:50:07.973170Z",
     "iopub.status.idle": "2021-05-17T21:50:07.975311Z",
     "shell.execute_reply": "2021-05-17T21:50:07.975768Z"
    },
    "id": "T05yGrTNMySv",
    "papermill": {
     "duration": 0.060772,
     "end_time": "2021-05-17T21:50:07.975936",
     "exception": false,
     "start_time": "2021-05-17T21:50:07.915164",
     "status": "completed"
    },
    "tags": []
   },
   "outputs": [],
   "source": [
    "if not IS_SUBMISSION:\n",
    "    def show_sample_data_loader(loader, predicted_labels=(), cols=3):\n",
    "        dataiter = iter(loader)\n",
    "        images, true_labels = dataiter.next()\n",
    "        rows = int(np.ceil(len(true_labels) / cols))\n",
    "        figure, ax = plt.subplots(nrows=rows, ncols=cols, figsize=(12, 24))\n",
    "        i = 0\n",
    "        for image, true_label in zip(images, true_labels):\n",
    "\n",
    "            title = predicted_labels[i] + ' | ' + true_label if predicted_labels else true_label\n",
    "            color = \"green\" if not predicted_labels or true_label == predicted_labels[i] else \"red\"\n",
    "            ax.ravel()[i].imshow(np.transpose(image, (1, 2, 0)))\n",
    "            ax.ravel()[i].set_title(title, color=color)\n",
    "            ax.ravel()[i].set_axis_off()\n",
    "            i += 1\n",
    "        plt.tight_layout()\n",
    "        plt.show()"
   ]
  },
  {
   "cell_type": "markdown",
   "id": "blocked-politics",
   "metadata": {
    "id": "7ybmxehHMySw",
    "papermill": {
     "duration": 0.049568,
     "end_time": "2021-05-17T21:50:08.077284",
     "exception": false,
     "start_time": "2021-05-17T21:50:08.027716",
     "status": "completed"
    },
    "tags": []
   },
   "source": [
    "## Data Augmentation (Validation & Test Set)"
   ]
  },
  {
   "cell_type": "code",
   "execution_count": 22,
   "id": "southeast-command",
   "metadata": {
    "execution": {
     "iopub.execute_input": "2021-05-17T21:50:08.181759Z",
     "iopub.status.busy": "2021-05-17T21:50:08.180932Z",
     "iopub.status.idle": "2021-05-17T21:50:08.183399Z",
     "shell.execute_reply": "2021-05-17T21:50:08.182994Z"
    },
    "id": "2ZkCvAUzMySw",
    "outputId": "160b8cf6-0342-4aed-be05-3b304a94c249",
    "papermill": {
     "duration": 0.056582,
     "end_time": "2021-05-17T21:50:08.183522",
     "exception": false,
     "start_time": "2021-05-17T21:50:08.126940",
     "status": "completed"
    },
    "tags": []
   },
   "outputs": [],
   "source": [
    "if 'Image' in Config.MODEL_TYPE:\n",
    "    test_transform = A.Compose([A.Resize(Config.IMG_SIZE, Config.IMG_SIZE), \n",
    "                                A.Normalize(Config.IMG_MEAN, Config.IMG_STD),\n",
    "                                ToTensorV2()])\n",
    "\n",
    "    if not IS_SUBMISSION:\n",
    "        validation_set = ShopeeImageDataset(Config.TRAIN_DIR, validation.image, validation.label_group, transform=test_transform)\n",
    "        validation_loader = DataLoader(validation_set, batch_size=20, shuffle=True, num_workers=0)\n",
    "\n",
    "        #show_sample_data_loader(validation_loader, cols=5)"
   ]
  },
  {
   "cell_type": "markdown",
   "id": "statistical-marketplace",
   "metadata": {
    "id": "BuriA_PwMySx",
    "papermill": {
     "duration": 0.050001,
     "end_time": "2021-05-17T21:50:08.283954",
     "exception": false,
     "start_time": "2021-05-17T21:50:08.233953",
     "status": "completed"
    },
    "tags": []
   },
   "source": [
    "# Data Augmentation (Train Set)"
   ]
  },
  {
   "cell_type": "markdown",
   "id": "collective-blame",
   "metadata": {
    "id": "QRtJzathMySx",
    "papermill": {
     "duration": 0.049475,
     "end_time": "2021-05-17T21:50:08.383059",
     "exception": false,
     "start_time": "2021-05-17T21:50:08.333584",
     "status": "completed"
    },
    "tags": []
   },
   "source": [
    "We apply different random transformations to the train set images that should create additional coherent and plausible product images to train from. They may very well be found as such in the test set (eg: we should not apply a random vertical flip because an important part of products have and are very often shown in their standing position with sometimes a bit of rotation). We thus opted for a random combination of:\n",
    "- a horizontal flip to cope for asymmetric characteristics that could be seen from both side.\n",
    "- a random rotation to cope for the different angles of view.\n",
    "- a variable zoom (most often towards the center of the image) to focus on different key characteristics of products leaving aside misleading backgrounds."
   ]
  },
  {
   "cell_type": "code",
   "execution_count": 23,
   "id": "micro-strategy",
   "metadata": {
    "execution": {
     "iopub.execute_input": "2021-05-17T21:50:08.497249Z",
     "iopub.status.busy": "2021-05-17T21:50:08.496351Z",
     "iopub.status.idle": "2021-05-17T21:50:08.499127Z",
     "shell.execute_reply": "2021-05-17T21:50:08.498703Z"
    },
    "id": "7-qoMzFeMySy",
    "outputId": "1b12214d-f57b-4b2a-9ed1-5cb3c464f52b",
    "papermill": {
     "duration": 0.066435,
     "end_time": "2021-05-17T21:50:08.499245",
     "exception": false,
     "start_time": "2021-05-17T21:50:08.432810",
     "status": "completed"
    },
    "tags": []
   },
   "outputs": [],
   "source": [
    "if not IS_SUBMISSION and 'Image' in Config.MODEL_TYPE:\n",
    "    crop_factor_range = (0.0, 0.20)\n",
    "    if Config.DATA_AUGMENTATION:\n",
    "        if Config.BOOST_DATA_AUGMENTATION:\n",
    "            train_transform = A.Compose([   A.Compose([\n",
    "                                                A.Resize(Config.IMG_SIZE, Config.IMG_SIZE),\n",
    "                                                A.HorizontalFlip(),\n",
    "                                                A.OneOf([\n",
    "                                                    A.IAAAdditiveGaussianNoise(),\n",
    "                                                    A.GaussNoise(),\n",
    "                                                ], p=0.2),\n",
    "                                                A.OneOf([\n",
    "                                                    A.MotionBlur(blur_limit=(5, 7), p=0.2),\n",
    "                                                    A.MedianBlur(blur_limit=5, p=0.1),\n",
    "                                                    A.Blur(blur_limit=5, p=0.1),\n",
    "                                                ], p=0.2),\n",
    "                                                A.ShiftScaleRotate(shift_limit=0.1, scale_limit=(0, 0.3), rotate_limit=0, p=0.2),\n",
    "                                                A.Rotate(limit=45, p=0.8),\n",
    "                                                A.OneOf([\n",
    "                                                    A.CLAHE(clip_limit=2),\n",
    "                                                    A.IAASharpen(),\n",
    "                                                    A.IAAEmboss(),\n",
    "                                                    A.RandomBrightnessContrast(),\n",
    "                                                    A.ColorJitter(brightness=0.1, contrast=0.1, saturation=0.2, hue=0.05)\n",
    "                                                ], p=0.4),\n",
    "                                                A.HueSaturationValue(),\n",
    "                                                A.Crop(int(random.uniform(*crop_factor_range)*Config.IMG_SIZE), int(random.uniform(*crop_factor_range)*Config.IMG_SIZE), int((1-random.uniform(*crop_factor_range))*Config.IMG_SIZE), int((1-random.uniform(*crop_factor_range))*Config.IMG_SIZE), p=1),\n",
    "                                            ], p=0.9),\n",
    "                                            A.Resize(Config.IMG_SIZE, Config.IMG_SIZE),\n",
    "                                            A.Normalize(Config.IMG_MEAN, Config.IMG_STD),\n",
    "                                            ToTensorV2()\n",
    "                                        ])\n",
    "        else:\n",
    "            train_transform = A.Compose([   A.Resize(Config.IMG_SIZE, Config.IMG_SIZE),\n",
    "                                        A.HorizontalFlip(),\n",
    "                                        A.Rotate(limit=45, p=0.7),\n",
    "                                        A.Crop(int(random.uniform(*crop_factor_range)*Config.IMG_SIZE), int(random.uniform(*crop_factor_range)*Config.IMG_SIZE), int((1-random.uniform(*crop_factor_range))*Config.IMG_SIZE), int((1-random.uniform(*crop_factor_range))*Config.IMG_SIZE), p=0.8),\n",
    "                                        A.Resize(Config.IMG_SIZE, Config.IMG_SIZE),\n",
    "                                        A.Normalize(Config.IMG_MEAN, Config.IMG_STD),\n",
    "                                        ToTensorV2()\n",
    "                                    ])\n",
    "    else:\n",
    "        train_transform = A.Compose([   A.Resize(Config.IMG_SIZE, Config.IMG_SIZE),\n",
    "                                        A.Normalize(Config.IMG_MEAN, Config.IMG_STD),\n",
    "                                        ToTensorV2()\n",
    "                                    ])\n",
    "\n",
    "    train_set = ShopeeImageDataset(Config.TRAIN_DIR, train.image, train.label_group, transform=train_transform) # training dataloader\n",
    "    train_loader = DataLoader(train_set, batch_size=20, shuffle=True, num_workers=0)\n",
    "\n",
    "    #show_sample_data_loader(train_loader, cols=5)"
   ]
  },
  {
   "cell_type": "code",
   "execution_count": 24,
   "id": "opened-tunnel",
   "metadata": {
    "execution": {
     "iopub.execute_input": "2021-05-17T21:50:08.618722Z",
     "iopub.status.busy": "2021-05-17T21:50:08.617856Z",
     "iopub.status.idle": "2021-05-17T21:50:08.625963Z",
     "shell.execute_reply": "2021-05-17T21:50:08.625315Z"
    },
    "id": "QBG4PqM9MySz",
    "outputId": "3a704c1b-9efb-4b27-b22a-0db6e7a8cd64",
    "papermill": {
     "duration": 0.07652,
     "end_time": "2021-05-17T21:50:08.626117",
     "exception": false,
     "start_time": "2021-05-17T21:50:08.549597",
     "status": "completed"
    },
    "tags": []
   },
   "outputs": [
    {
     "name": "stdout",
     "output_type": "stream",
     "text": [
      "Shopee Dataset Test\n"
     ]
    }
   ],
   "source": [
    "if 'Image' in Config.MODEL_TYPE:\n",
    "    if not IS_SUBMISSION:\n",
    "        # Sampler\n",
    "        classes_weight = {t: 1. / np.log(len(np.where(train.label_group == t)[0])) for t in np.unique(train.label_group)}#np.array([len(np.where(train_labels == t)[0]) for t in np.unique(train_labels)])\n",
    "        samples_weight = np.array([classes_weight[t] for t in train.label_group])\n",
    "        samples_weight = torch.from_numpy(samples_weight)\n",
    "        samples_weight = samples_weight.double()\n",
    "\n",
    "        weighted_random_sampler = WeightedRandomSampler(samples_weight, len(samples_weight))\n",
    "\n",
    "        # Training set\n",
    "        train_set = ShopeeImageDataset(Config.TRAIN_DIR, \n",
    "                                       train.image, \n",
    "                                       train.label_group, \n",
    "                                       transform=train_transform)\n",
    "\n",
    "        # Validation set\n",
    "        validation_set = ShopeeImageDataset(Config.TRAIN_DIR, \n",
    "                                            validation.image, \n",
    "                                            validation.label_group, \n",
    "                                            transform=test_transform)\n",
    "    else:\n",
    "        # Testing set\n",
    "        test_set = ShopeeImageDataset(Config.TEST_DIR, \n",
    "                                      test.image,\n",
    "                                      transform=test_transform)"
   ]
  },
  {
   "cell_type": "code",
   "execution_count": 25,
   "id": "typical-roman",
   "metadata": {
    "execution": {
     "iopub.execute_input": "2021-05-17T21:50:08.816165Z",
     "iopub.status.busy": "2021-05-17T21:50:08.815334Z",
     "iopub.status.idle": "2021-05-17T21:50:08.818087Z",
     "shell.execute_reply": "2021-05-17T21:50:08.818657Z"
    },
    "papermill": {
     "duration": 0.100837,
     "end_time": "2021-05-17T21:50:08.818844",
     "exception": false,
     "start_time": "2021-05-17T21:50:08.718007",
     "status": "completed"
    },
    "tags": []
   },
   "outputs": [],
   "source": [
    "if 'Image' in Config.MODEL_TYPE:\n",
    "    if not IS_SUBMISSION:\n",
    "        # Training dataloader\n",
    "        train_loader = DataLoader(train_set, \n",
    "                                  batch_size=Config.BATCH_SIZE, \n",
    "                                  #shuffle=True, \n",
    "                                  num_workers=Config.NUM_WORKERS, \n",
    "                                  sampler=weighted_random_sampler, \n",
    "                                  pin_memory=True, \n",
    "                                  drop_last=True)\n",
    "        # Validation dataloader\n",
    "        validation_loader = DataLoader(validation_set, \n",
    "                                       batch_size=Config.BATCH_SIZE, \n",
    "                                       shuffle=False, \n",
    "                                       num_workers=Config.NUM_WORKERS, \n",
    "                                       pin_memory=True, \n",
    "                                       drop_last=False)\n",
    "    else:\n",
    "        # Testing loader\n",
    "        test_loader = DataLoader(test_set, \n",
    "                                 batch_size=Config.BATCH_SIZE, \n",
    "                                 shuffle=False, \n",
    "                                 num_workers=Config.NUM_WORKERS, \n",
    "                                 pin_memory=True, \n",
    "                                 drop_last=False)"
   ]
  },
  {
   "cell_type": "markdown",
   "id": "choice-joshua",
   "metadata": {
    "id": "fzYmkcWZMyS4",
    "papermill": {
     "duration": 0.078058,
     "end_time": "2021-05-17T21:50:08.982883",
     "exception": false,
     "start_time": "2021-05-17T21:50:08.904825",
     "status": "completed"
    },
    "tags": []
   },
   "source": [
    "## Model"
   ]
  },
  {
   "cell_type": "code",
   "execution_count": 26,
   "id": "incident-lecture",
   "metadata": {
    "execution": {
     "iopub.execute_input": "2021-05-17T21:50:09.156972Z",
     "iopub.status.busy": "2021-05-17T21:50:09.156135Z",
     "iopub.status.idle": "2021-05-17T21:50:09.184387Z",
     "shell.execute_reply": "2021-05-17T21:50:09.185398Z"
    },
    "id": "-A00KkeWMyS5",
    "outputId": "133a9f67-6a66-4dc2-d5a9-167823d7b1ea",
    "papermill": {
     "duration": 0.124257,
     "end_time": "2021-05-17T21:50:09.185612",
     "exception": false,
     "start_time": "2021-05-17T21:50:09.061355",
     "status": "completed"
    },
    "tags": []
   },
   "outputs": [],
   "source": [
    " if 'Image' in Config.MODEL_TYPE:\n",
    "    class ShopeeImageModel(pl.LightningModule):\n",
    "\n",
    "        def __init__(\n",
    "            self,\n",
    "            num_classes = Config.NUM_CLASSES,\n",
    "            backbone_name = Config.IMAGE_MODEL_NAME,\n",
    "            activations = Config.ACTIVATIONS,\n",
    "            use_fc = Config.USE_FC,\n",
    "            fc_dim = Config.FC_DIM,\n",
    "            dropout = Config.DROPOUT,\n",
    "            loss_name = Config.LOSS,\n",
    "            margin = Config.MARGIN,\n",
    "            scale = Config.SCALE,\n",
    "            is_training_from_scratch = Config.IS_TRAINING_FROM_SCRATCH,\n",
    "            pretrained = INTERNET_ON):\n",
    "\n",
    "            super(ShopeeImageModel,self).__init__()\n",
    "            print('Building model backbone from {}'.format(backbone_name))\n",
    "\n",
    "            self.backbone = timm.create_model(backbone_name, pretrained=pretrained)\n",
    "\n",
    "            if 'resnet' in backbone_name:\n",
    "                final_in_features = self.backbone.fc.in_features\n",
    "                self.backbone.fc = nn.Identity()\n",
    "                self.backbone.global_pool = nn.Identity()\n",
    "                existing_layer = torch.nn.ReLU\n",
    "\n",
    "            elif 'efficientnet' in backbone_name:\n",
    "                final_in_features = self.backbone.classifier.in_features\n",
    "                self.backbone.classifier = nn.Identity()\n",
    "                self.backbone.global_pool = nn.Identity()\n",
    "                existing_layer = torch.nn.SiLU\n",
    "\n",
    "            elif 'nfnet' in backbone_name:\n",
    "                final_in_features = self.backbone.head.fc.in_features\n",
    "                self.backbone.head.fc = nn.Identity()\n",
    "                self.backbone.head.global_pool = nn.Identity()\n",
    "                existing_layer = torch.nn.SiLU\n",
    "\n",
    "            if activations == \"Mish\":\n",
    "                # Change the activation functions of the model with Mish\n",
    "                new_layer = Mish()\n",
    "                self.backbone = self.replace_activations(self.backbone, existing_layer, new_layer)\n",
    "\n",
    "            if not is_training_from_scratch:\n",
    "                for param in self.backbone.parameters(): # Fix backbone parameters, we will therefore only tune the model head\n",
    "                    param.requires_grad = False\n",
    "\n",
    "            self.pooling = nn.AdaptiveAvgPool2d(1)\n",
    "\n",
    "            self.use_fc = use_fc\n",
    "\n",
    "            if use_fc:\n",
    "                self.dropout = nn.Dropout(p=dropout)\n",
    "                self.fc = nn.Linear(final_in_features, fc_dim)\n",
    "                self.bn = nn.BatchNorm1d(fc_dim)\n",
    "                \n",
    "                self.init_params()\n",
    "                final_in_features = fc_dim\n",
    "\n",
    "            if loss_name == 'ArcFace':\n",
    "                self.final = ArcMarginProduct(\n",
    "                    final_in_features,\n",
    "                    num_classes,\n",
    "                    scale = scale,\n",
    "                    margin = margin,\n",
    "                    easy_margin = False,\n",
    "                    ls_eps = 0.0\n",
    "                )\n",
    "\n",
    "            elif loss_name == 'AdaCos':\n",
    "                self.final = AdaCos(final_in_features, num_classes)\n",
    "\n",
    "            elif loss_name == 'CurricularFace':\n",
    "                self.final = CurricularFace(\n",
    "                    final_in_features,\n",
    "                    num_classes,\n",
    "                    m = margin,\n",
    "                    s = scale\n",
    "                )\n",
    "\n",
    "            elif loss_name == None:\n",
    "                self.final = nn.Linear(final_in_features, num_classes)\n",
    "\n",
    "            else:\n",
    "                raise ValueError(\n",
    "                    'Argument `loss_name` expected to be one of the following:'\n",
    "                    f' \\'ArcFace\\', \\'AdaCos\\', \\'CurricularFace\\' but got {loss_name}'\n",
    "                )\n",
    "\n",
    "        # credits: https://www.kaggle.com/parthdhameliya77/shopee-pytorch-eca-nfnet-l0-image-training/execution\n",
    "        def replace_activations(self, model, existing_layer, new_layer):\n",
    "            for name, module in reversed(model._modules.items()):\n",
    "                if len(list(module.children())) > 0:\n",
    "                    model._modules[name] = self.replace_activations(module, existing_layer, new_layer)\n",
    "\n",
    "                if type(module) == existing_layer:\n",
    "                    layer_old = module\n",
    "                    layer_new = new_layer\n",
    "                    model._modules[name] = layer_new\n",
    "            return model\n",
    "\n",
    "        def init_params(self):\n",
    "            nn.init.xavier_normal_(self.fc.weight)\n",
    "            nn.init.constant_(self.fc.bias, 0)\n",
    "            nn.init.constant_(self.bn.weight, 1)\n",
    "            nn.init.constant_(self.bn.bias, 0)\n",
    "\n",
    "        def forward(self, image, label):\n",
    "            features = self.extract_feat(image)\n",
    "            if Config.LOSS == None:\n",
    "                logits = self.final(features)\n",
    "            else:\n",
    "                logits = self.final(features, label)\n",
    "            return logits\n",
    "\n",
    "        def extract_feat(self, x):\n",
    "            batch_size = x.shape[0]\n",
    "            x = self.backbone(x)\n",
    "            x = self.pooling(x).view(batch_size, -1)\n",
    "\n",
    "            if self.use_fc:\n",
    "                x = self.dropout(x)\n",
    "                x = self.fc(x)\n",
    "                x = self.bn(x)\n",
    "                \n",
    "            return x\n",
    "\n",
    "        def training_step(self, train_batch, batch_idx):\n",
    "            output = self.forward(*train_batch)\n",
    "            _, y = train_batch\n",
    "            loss = nn.CrossEntropyLoss()(output, y)\n",
    "            y_hat = torch.argmax(output, dim=1)\n",
    "            logs = {'train_loss': loss}\n",
    "            self.log_dict(logs, on_epoch=True)\n",
    "            return loss\n",
    "\n",
    "        def validation_step(self, val_batch, batch_idx):\n",
    "            output = self.forward(*val_batch)\n",
    "            _, y = val_batch\n",
    "            loss = nn.CrossEntropyLoss()(output, y)\n",
    "            y_hat = torch.argmax(output, dim=1)\n",
    "            logs = {'val_loss': loss}\n",
    "            self.log_dict(logs)\n",
    "            return loss\n",
    "\n",
    "        def configure_optimizers(self, \n",
    "                                 lr=Config.LR, \n",
    "                                 weight_decay=Config.WEIGHT_DECAY, \n",
    "                                 T0=Config.CAWR_T0, \n",
    "                                 T_mult=Config.CAWR_T_MULT, \n",
    "                                 min_lr=Config.CAWR_MIN_LR):\n",
    "            optimizer = torch.optim.Adam(self.parameters(), lr=lr, weight_decay=weight_decay)\n",
    "            if Config.COSINE_ANNEALING_WARM_RESTARTS:\n",
    "                scheduler = CosineAnnealingWarmRestarts(optimizer, T0, T_mult=T_mult, eta_min=min_lr, verbose=True)\n",
    "                return [optimizer], [scheduler]\n",
    "\n",
    "            return optimizer\n",
    "\n",
    "    if not IS_SUBMISSION:\n",
    "        image_model = ShopeeImageModel()\n",
    "        #print(image_model)"
   ]
  },
  {
   "cell_type": "code",
   "execution_count": 27,
   "id": "variable-liberal",
   "metadata": {
    "execution": {
     "iopub.execute_input": "2021-05-17T21:50:09.359921Z",
     "iopub.status.busy": "2021-05-17T21:50:09.359140Z",
     "iopub.status.idle": "2021-05-17T21:50:09.363172Z",
     "shell.execute_reply": "2021-05-17T21:50:09.363740Z"
    },
    "id": "maRRWOQPMyS7",
    "outputId": "1787780b-7b5f-49ed-c8b2-6ca631ba2471",
    "papermill": {
     "duration": 0.095702,
     "end_time": "2021-05-17T21:50:09.363926",
     "exception": false,
     "start_time": "2021-05-17T21:50:09.268224",
     "status": "completed"
    },
    "tags": []
   },
   "outputs": [],
   "source": [
    "if not IS_SUBMISSION and 'Image' in Config.MODEL_TYPE:\n",
    "    # Train the model\n",
    "    trainer = pl.Trainer(gpus=-1, \n",
    "                         max_epochs=Config.MAX_EPOCHS,\n",
    "                         callbacks=callbacks,\n",
    "                         stochastic_weight_avg=Config.STOCHASTIC_WEIGHT_AVERAGING,\n",
    "                         gradient_clip_val=Config.NORM_CLIPPING,\n",
    "                         #precision=Config.PRECISION,\n",
    "                         #profiler=\"simple\",\n",
    "                         logger=NEPTUNE_LOGGER)\n",
    "    trainer.fit(image_model, train_loader, validation_loader)\n",
    "\n",
    "    if Config.SAVE_MODEL:\n",
    "        if INTERNET_ON:\n",
    "            # Log model checkpoint to Neptune\n",
    "            for k in checkpoint_callback.best_k_models.keys():\n",
    "                model_name = 'checkpoints/' + k.split('/')[-1]\n",
    "                NEPTUNE_LOGGER.experiment.log_artifact(k, model_name)\n",
    "\n",
    "            # Log score of the best model checkpoint\n",
    "            NEPTUNE_LOGGER.experiment.set_property('best_model_score', checkpoint_callback.best_model_score.tolist())\n",
    "\n",
    "        best_model_path = checkpoint_callback.best_model_path\n",
    "        print(\"Best model path: \", best_model_path)\n",
    "\n",
    "    if INTERNET_ON:\n",
    "        NEPTUNE_LOGGER.experiment.stop()"
   ]
  },
  {
   "cell_type": "markdown",
   "id": "compatible-valuable",
   "metadata": {
    "id": "2NaQgOlLu5pY",
    "papermill": {
     "duration": 0.082793,
     "end_time": "2021-05-17T21:50:09.531226",
     "exception": false,
     "start_time": "2021-05-17T21:50:09.448433",
     "status": "completed"
    },
    "tags": []
   },
   "source": [
    "# Use Text Embeddings"
   ]
  },
  {
   "cell_type": "code",
   "execution_count": 28,
   "id": "accessory-young",
   "metadata": {
    "execution": {
     "iopub.execute_input": "2021-05-17T21:50:09.704715Z",
     "iopub.status.busy": "2021-05-17T21:50:09.703875Z",
     "iopub.status.idle": "2021-05-17T21:50:09.706465Z",
     "shell.execute_reply": "2021-05-17T21:50:09.705905Z"
    },
    "papermill": {
     "duration": 0.08389,
     "end_time": "2021-05-17T21:50:09.706593",
     "exception": false,
     "start_time": "2021-05-17T21:50:09.622703",
     "status": "completed"
    },
    "tags": []
   },
   "outputs": [],
   "source": [
    "if not IS_SUBMISSION and 'Text' in Config.MODEL_TYPE:\n",
    "    train, validation, _, _ = train_test_split(train, \n",
    "                                               train.label_group, \n",
    "                                               test_size=Config.VALIDATION_SIZE, \n",
    "                                               random_state=Config.SEED,\n",
    "                                               stratify=train.label_group)\n",
    "    print(f\"Trainset length: {len(train)}\")\n",
    "    print(f\"Validation set length: {len(validation)}\")\n",
    "    print(f\"Validation set -> number of unique labels: {validation.label_group.nunique()}\")\n",
    "    print(f\"Train set -> number of unique labels: {train.label_group.nunique()}\")"
   ]
  },
  {
   "cell_type": "code",
   "execution_count": 29,
   "id": "innovative-processor",
   "metadata": {
    "execution": {
     "iopub.execute_input": "2021-05-17T21:50:09.817848Z",
     "iopub.status.busy": "2021-05-17T21:50:09.816994Z",
     "iopub.status.idle": "2021-05-17T21:50:09.819184Z",
     "shell.execute_reply": "2021-05-17T21:50:09.819664Z"
    },
    "papermill": {
     "duration": 0.06202,
     "end_time": "2021-05-17T21:50:09.819799",
     "exception": false,
     "start_time": "2021-05-17T21:50:09.757779",
     "status": "completed"
    },
    "tags": []
   },
   "outputs": [],
   "source": [
    "if not IS_SUBMISSION and 'Text' in Config.MODEL_TYPE and False: # Would have been used for ensembling\n",
    "    if Config.EXPERIMENT == 0 or Config.EXPERIMENT == 2:\n",
    "        train, validation, _, _ = train_test_split(train, \n",
    "                                                   train.label_group, \n",
    "                                                   test_size=0.5,#Config.VALIDATION_SIZE, \n",
    "                                                   random_state=Config.SEED,\n",
    "                                                   stratify=train.label_group)\n",
    "    elif Config.EXPERIMENT == 1 or Config.EXPERIMENT == 3:\n",
    "        validation, train, _, _ = train_test_split(train, \n",
    "                                                   train.label_group, \n",
    "                                                   test_size=0.5,#Config.VALIDATION_SIZE, \n",
    "                                                   random_state=Config.SEED,\n",
    "                                                   stratify=train.label_group)\n",
    "\n",
    "    print(f\"Trainset length: {len(train)}\")\n",
    "    print(f\"Validation set length: {len(validation)}\")\n",
    "    print(f\"Validation set -> number of unique labels: {validation.label_group.nunique()}\")\n",
    "    print(f\"Train set -> number of unique labels: {train.label_group.nunique()}\")"
   ]
  },
  {
   "cell_type": "code",
   "execution_count": 30,
   "id": "purple-medium",
   "metadata": {
    "execution": {
     "iopub.execute_input": "2021-05-17T21:50:09.934444Z",
     "iopub.status.busy": "2021-05-17T21:50:09.933615Z",
     "iopub.status.idle": "2021-05-17T21:50:09.935698Z",
     "shell.execute_reply": "2021-05-17T21:50:09.936131Z"
    },
    "papermill": {
     "duration": 0.061371,
     "end_time": "2021-05-17T21:50:09.936279",
     "exception": false,
     "start_time": "2021-05-17T21:50:09.874908",
     "status": "completed"
    },
    "tags": []
   },
   "outputs": [],
   "source": [
    "if not IS_SUBMISSION and 'Text' in Config.MODEL_TYPE:\n",
    "    targets_per_label_group = validation.groupby('label_group').posting_id.agg('unique')\n",
    "    validation['targets'] = validation.label_group.map(targets_per_label_group)\n",
    "    print('Validation shape:', validation.shape)"
   ]
  },
  {
   "cell_type": "code",
   "execution_count": 31,
   "id": "random-worship",
   "metadata": {
    "execution": {
     "iopub.execute_input": "2021-05-17T21:50:10.047040Z",
     "iopub.status.busy": "2021-05-17T21:50:10.046429Z",
     "iopub.status.idle": "2021-05-17T21:50:10.156981Z",
     "shell.execute_reply": "2021-05-17T21:50:10.156084Z"
    },
    "id": "v1vJtaHAgi-u",
    "papermill": {
     "duration": 0.167394,
     "end_time": "2021-05-17T21:50:10.157122",
     "exception": false,
     "start_time": "2021-05-17T21:50:09.989728",
     "status": "completed"
    },
    "tags": []
   },
   "outputs": [],
   "source": [
    "if 'Text' in Config.MODEL_TYPE:\n",
    "    tokenizer = AutoTokenizer.from_pretrained(Config.TEXT_MODEL_PATH)"
   ]
  },
  {
   "cell_type": "code",
   "execution_count": 32,
   "id": "coupled-comparative",
   "metadata": {
    "execution": {
     "iopub.execute_input": "2021-05-17T21:50:10.273624Z",
     "iopub.status.busy": "2021-05-17T21:50:10.272664Z",
     "iopub.status.idle": "2021-05-17T21:50:10.275305Z",
     "shell.execute_reply": "2021-05-17T21:50:10.274873Z"
    },
    "id": "sRT7oF_lvEhG",
    "papermill": {
     "duration": 0.065219,
     "end_time": "2021-05-17T21:50:10.275419",
     "exception": false,
     "start_time": "2021-05-17T21:50:10.210200",
     "status": "completed"
    },
    "tags": []
   },
   "outputs": [],
   "source": [
    "class ShopeeTextDataset(torch.utils.data.Dataset):\n",
    "    def __init__(self, tokenizer, texts, labels=pd.Series(dtype=object), max_length=None):\n",
    "        \"\"\"Initializes a dataset containing texts and labels.\"\"\"\n",
    "        super().__init__()\n",
    "        texts = list(texts.apply(lambda x: str(x)).values)\n",
    "        self.encodings = tokenizer(texts, \n",
    "                                   padding=True, \n",
    "                                   truncation=True, \n",
    "                                   max_length=max_length)\n",
    "        \n",
    "        if labels.any():\n",
    "            label_encoder = LabelEncoder()\n",
    "            self.labels = label_encoder.fit_transform(labels)\n",
    "            self.train = True\n",
    "        else:\n",
    "            self.train = False\n",
    "                \n",
    "    def __len__(self):\n",
    "        \"\"\"Returns the size of the dataset.\"\"\"\n",
    "        return len(self.encodings['input_ids'])\n",
    "\n",
    "    def __getitem__(self, index):\n",
    "        \"\"\"Returns the index-th data item of the dataset.\"\"\"\n",
    "        item = {key: torch.tensor(values[index]) for key, values in self.encodings.items()}\n",
    "            \n",
    "        if self.train:\n",
    "            item['label'] = torch.tensor(self.labels[index]).long()\n",
    "\n",
    "        return item"
   ]
  },
  {
   "cell_type": "code",
   "execution_count": 33,
   "id": "catholic-acting",
   "metadata": {
    "execution": {
     "iopub.execute_input": "2021-05-17T21:50:10.386332Z",
     "iopub.status.busy": "2021-05-17T21:50:10.385387Z",
     "iopub.status.idle": "2021-05-17T21:50:10.388112Z",
     "shell.execute_reply": "2021-05-17T21:50:10.387645Z"
    },
    "papermill": {
     "duration": 0.058666,
     "end_time": "2021-05-17T21:50:10.388225",
     "exception": false,
     "start_time": "2021-05-17T21:50:10.329559",
     "status": "completed"
    },
    "tags": []
   },
   "outputs": [],
   "source": [
    "if not IS_SUBMISSION and 'Text' in Config.MODEL_TYPE:\n",
    "    title_lengths = train['title'].apply(lambda x: len(x.split(\" \"))).to_numpy()\n",
    "    print(f\"Train set -> Min words: {title_lengths.min()}, Max words: {title_lengths.max()}\")\n",
    "    plt.hist(title_lengths)\n",
    "    \n",
    "    title_lengths = validation['title'].apply(lambda x: len(x.split(\" \"))).to_numpy()\n",
    "    print(f\"Validation set -> Min words: {title_lengths.min()}, Max words: {title_lengths.max()}\")\n",
    "    plt.hist(title_lengths)"
   ]
  },
  {
   "cell_type": "code",
   "execution_count": 34,
   "id": "occupational-friday",
   "metadata": {
    "execution": {
     "iopub.execute_input": "2021-05-17T21:50:10.499975Z",
     "iopub.status.busy": "2021-05-17T21:50:10.499430Z",
     "iopub.status.idle": "2021-05-17T21:50:10.508366Z",
     "shell.execute_reply": "2021-05-17T21:50:10.508776Z"
    },
    "id": "H9Cc496ZcGCA",
    "papermill": {
     "duration": 0.069653,
     "end_time": "2021-05-17T21:50:10.508936",
     "exception": false,
     "start_time": "2021-05-17T21:50:10.439283",
     "status": "completed"
    },
    "tags": []
   },
   "outputs": [],
   "source": [
    "if 'Text' in Config.MODEL_TYPE:\n",
    "    if not IS_SUBMISSION:\n",
    "        # Sampler\n",
    "        classes_weight = {t: 1. / (np.log(len(np.where(train.label_group == t)[0])) + 1) for t in np.unique(train.label_group)}#np.array([len(np.where(train_labels == t)[0]) for t in np.unique(train_labels)])\n",
    "        samples_weight = np.array([classes_weight[t] for t in train.label_group])\n",
    "        samples_weight = torch.from_numpy(samples_weight)\n",
    "        samples_weight = samples_weight.double()\n",
    "\n",
    "        weighted_random_sampler = WeightedRandomSampler(samples_weight, len(samples_weight))\n",
    "\n",
    "        trainset = ShopeeTextDataset(tokenizer, \n",
    "                                     train['title'], \n",
    "                                     labels=train['label_group'], \n",
    "                                     max_length=Config.TOKENIZER_MAX_LENGTH)\n",
    "        train_loader = torch.utils.data.DataLoader(trainset, \n",
    "                                                   batch_size=Config.BATCH_SIZE, \n",
    "                                                   num_workers=Config.NUM_WORKERS, \n",
    "                                                   #shuffle=True,\n",
    "                                                   sampler=weighted_random_sampler,\n",
    "                                                   pin_memory=True,\n",
    "                                                   drop_last=False)\n",
    "\n",
    "        validationset = ShopeeTextDataset(tokenizer, \n",
    "                                          validation['title'], \n",
    "                                          labels=validation['label_group'], \n",
    "                                          max_length=Config.TOKENIZER_MAX_LENGTH)\n",
    "        validation_loader = torch.utils.data.DataLoader(validationset, \n",
    "                                                        batch_size=Config.BATCH_SIZE, \n",
    "                                                        num_workers=Config.NUM_WORKERS, \n",
    "                                                        shuffle=False,\n",
    "                                                        pin_memory=True,\n",
    "                                                        drop_last=False)\n",
    "    else:\n",
    "        testset = ShopeeTextDataset(tokenizer,\n",
    "                                    test['title'], \n",
    "                                    max_length=Config.TOKENIZER_MAX_LENGTH)\n",
    "        test_loader = DataLoader(testset, \n",
    "                                 batch_size=Config.BATCH_SIZE, \n",
    "                                 num_workers=Config.NUM_WORKERS,\n",
    "                                 shuffle=False, \n",
    "                                 pin_memory=True, \n",
    "                                 drop_last=False)"
   ]
  },
  {
   "cell_type": "code",
   "execution_count": 35,
   "id": "ranging-brighton",
   "metadata": {
    "execution": {
     "iopub.execute_input": "2021-05-17T21:50:10.628536Z",
     "iopub.status.busy": "2021-05-17T21:50:10.627641Z",
     "iopub.status.idle": "2021-05-17T21:50:10.629684Z",
     "shell.execute_reply": "2021-05-17T21:50:10.630159Z"
    },
    "id": "AypMmO_9kbpy",
    "papermill": {
     "duration": 0.071199,
     "end_time": "2021-05-17T21:50:10.630288",
     "exception": false,
     "start_time": "2021-05-17T21:50:10.559089",
     "status": "completed"
    },
    "tags": []
   },
   "outputs": [],
   "source": [
    "if 'Text' in Config.MODEL_TYPE:\n",
    "    class ShopeeTextModel(pl.LightningModule):\n",
    "        def __init__(self,\n",
    "                     num_classes=Config.NUM_CLASSES,\n",
    "                     backbone_path=Config.TEXT_MODEL_PATH,\n",
    "                     use_fc=Config.USE_FC,\n",
    "                     fc_dim=Config.FC_DIM,\n",
    "                     dropout = Config.DROPOUT,\n",
    "                     loss_name = Config.LOSS,\n",
    "                     margin = Config.MARGIN,\n",
    "                     scale = Config.SCALE,\n",
    "                     is_training_from_scratch=Config.IS_TRAINING_FROM_SCRATCH):\n",
    "            super().__init__()\n",
    "            self.backbone = AutoModel.from_pretrained(backbone_path)\n",
    "            final_in_features = self.backbone.config.hidden_size\n",
    "\n",
    "            if not is_training_from_scratch:\n",
    "                for param in self.backbone.parameters(): # Fix backbone parameters, we will therefore only tune the model head\n",
    "                    param.requires_grad = False\n",
    "            else:\n",
    "                self.backbone.train()\n",
    "\n",
    "            #self.pooling = nn.AdaptiveAvgPool2d(1)\n",
    "\n",
    "            self.use_fc = use_fc\n",
    "            if use_fc:\n",
    "                self.dropout = nn.Dropout(p=dropout)\n",
    "                self.fc = nn.Linear(final_in_features, fc_dim)\n",
    "                self.bn = nn.BatchNorm1d(fc_dim)\n",
    "                self.init_params()\n",
    "                final_in_features = fc_dim\n",
    "\n",
    "            if loss_name == 'ArcFace':\n",
    "                self.final = ArcMarginProduct(\n",
    "                    final_in_features,\n",
    "                    num_classes,\n",
    "                    scale = scale,\n",
    "                    margin = margin,\n",
    "                    easy_margin = False,\n",
    "                    ls_eps = 0.0\n",
    "                )\n",
    "\n",
    "            elif loss_name == 'AdaCos':\n",
    "                self.final = AdaCos(final_in_features, num_classes)\n",
    "\n",
    "            elif loss_name == 'CurricularFace':\n",
    "                self.final = CurricularFace(\n",
    "                    final_in_features,\n",
    "                    num_classes,\n",
    "                    m = margin,\n",
    "                    s = scale\n",
    "                )\n",
    "            elif loss_name == None:\n",
    "                self.final = nn.Linear(final_in_features, num_classes)\n",
    "            else:\n",
    "                raise ValueError(\n",
    "                    'Argument `loss_name` expected to be one of the following:'\n",
    "                    f' \\'ArcFace\\', \\'AdaCos\\', \\'CurricularFace\\' but got {loss_name}'\n",
    "                )     \n",
    "\n",
    "\n",
    "        def init_params(self):\n",
    "            nn.init.xavier_normal_(self.fc.weight)\n",
    "            nn.init.constant_(self.fc.bias, 0)\n",
    "            nn.init.constant_(self.bn.weight, 1)\n",
    "            nn.init.constant_(self.bn.bias, 0)\n",
    "        \n",
    "        def extract_features(self, input_ids, attention_mask):\n",
    "            output = self.backbone(input_ids=input_ids, attention_mask=attention_mask)\n",
    "            last_hidden_state = output.last_hidden_state # shape: (batch_size, seq_length, bert_hidden_dim)\n",
    "            CLS_token_state = last_hidden_state[:, 0, :] # obtaining CLS token state which is the first token.\n",
    "            x = CLS_token_state\n",
    "            if self.use_fc:\n",
    "                x = self.dropout(x)\n",
    "                x = self.fc(x)\n",
    "                x = self.bn(x)\n",
    "            return x\n",
    "        \n",
    "        def forward(self, batch):\n",
    "            CLS_hidden_state = self.extract_features(batch['input_ids'], batch['attention_mask'])\n",
    "            output = self.final(CLS_hidden_state, batch['label'])\n",
    "            return output\n",
    "\n",
    "        def training_step(self, train_batch, batch_idx):\n",
    "            output = self.forward(train_batch)\n",
    "            y = train_batch['label']\n",
    "            loss = nn.CrossEntropyLoss()(output, y)\n",
    "            logs = {'train_loss': loss}\n",
    "            self.log_dict(logs, on_epoch=True)\n",
    "            return loss\n",
    "\n",
    "        def validation_step(self, val_batch, batch_idx):\n",
    "            output = self.forward(val_batch)\n",
    "            y = val_batch['label']\n",
    "            loss = nn.CrossEntropyLoss()(output, y)\n",
    "            logs = {'val_loss': loss}\n",
    "            self.log_dict(logs)\n",
    "            return loss\n",
    "\n",
    "        def configure_optimizers(self, \n",
    "                                 lr=Config.LR, \n",
    "                                 weight_decay=Config.WEIGHT_DECAY, \n",
    "                                 T0=Config.CAWR_T0, \n",
    "                                 T_mult=Config.CAWR_T_MULT, \n",
    "                                 min_lr=Config.CAWR_MIN_LR):\n",
    "            optimizer = torch.optim.Adam(self.parameters(), lr=lr, weight_decay=weight_decay)\n",
    "            if Config.COSINE_ANNEALING_WARM_RESTARTS:\n",
    "                scheduler = CosineAnnealingWarmRestarts(optimizer, T0, T_mult=T_mult, eta_min=min_lr, verbose=True)\n",
    "                return [optimizer], [scheduler]\n",
    "\n",
    "            return optimizer\n",
    "\n",
    "    if not IS_SUBMISSION:\n",
    "        text_model = ShopeeTextModel()\n",
    "        #print(text_model)"
   ]
  },
  {
   "cell_type": "code",
   "execution_count": 36,
   "id": "blond-bangladesh",
   "metadata": {
    "execution": {
     "iopub.execute_input": "2021-05-17T21:50:10.738828Z",
     "iopub.status.busy": "2021-05-17T21:50:10.738016Z",
     "iopub.status.idle": "2021-05-17T21:50:10.740117Z",
     "shell.execute_reply": "2021-05-17T21:50:10.740570Z"
    },
    "papermill": {
     "duration": 0.059643,
     "end_time": "2021-05-17T21:50:10.740699",
     "exception": false,
     "start_time": "2021-05-17T21:50:10.681056",
     "status": "completed"
    },
    "tags": []
   },
   "outputs": [],
   "source": [
    "if not IS_SUBMISSION and 'Text' in Config.MODEL_TYPE:\n",
    "    # Train the model\n",
    "    trainer = pl.Trainer(gpus=-1, \n",
    "                         max_epochs=Config.MAX_EPOCHS,\n",
    "                         callbacks=callbacks,\n",
    "                         stochastic_weight_avg=Config.STOCHASTIC_WEIGHT_AVERAGING,\n",
    "                         gradient_clip_val=Config.NORM_CLIPPING,\n",
    "                         #precision=Config.PRECISION,\n",
    "                         #profiler=\"simple\",\n",
    "                         logger=NEPTUNE_LOGGER)\n",
    "    trainer.fit(text_model, train_loader, validation_loader)\n",
    "\n",
    "    if Config.SAVE_MODEL:\n",
    "        if INTERNET_ON:\n",
    "            # Log model checkpoint to Neptune\n",
    "            for k in checkpoint_callback.best_k_models.keys():\n",
    "                model_name = 'checkpoints/' + k.split('/')[-1]\n",
    "                NEPTUNE_LOGGER.experiment.log_artifact(k, model_name)\n",
    "\n",
    "            # Log score of the best model checkpoint\n",
    "            NEPTUNE_LOGGER.experiment.set_property('best_model_score', checkpoint_callback.best_model_score.tolist())\n",
    "\n",
    "        best_model_path = checkpoint_callback.best_model_path\n",
    "        print(\"Best model path: \", best_model_path)\n",
    "    \n",
    "    if INTERNET_ON:\n",
    "        NEPTUNE_LOGGER.experiment.stop()"
   ]
  },
  {
   "cell_type": "markdown",
   "id": "unlikely-awareness",
   "metadata": {
    "id": "W31vRDm0MyS8",
    "papermill": {
     "duration": 0.05078,
     "end_time": "2021-05-17T21:50:10.842038",
     "exception": false,
     "start_time": "2021-05-17T21:50:10.791258",
     "status": "completed"
    },
    "tags": []
   },
   "source": [
    "# Predictions"
   ]
  },
  {
   "cell_type": "markdown",
   "id": "exterior-router",
   "metadata": {
    "id": "hLCGGk1tMyS-",
    "papermill": {
     "duration": 0.050208,
     "end_time": "2021-05-17T21:50:10.942749",
     "exception": false,
     "start_time": "2021-05-17T21:50:10.892541",
     "status": "completed"
    },
    "tags": []
   },
   "source": [
    "## Predictions Based on Images"
   ]
  },
  {
   "cell_type": "markdown",
   "id": "placed-contest",
   "metadata": {
    "papermill": {
     "duration": 0.050685,
     "end_time": "2021-05-17T21:50:11.044095",
     "exception": false,
     "start_time": "2021-05-17T21:50:10.993410",
     "status": "completed"
    },
    "tags": []
   },
   "source": [
    "credits: https://www.kaggle.com/cdeotte/part-2-rapids-tfidfvectorizer-cv-0-700"
   ]
  },
  {
   "cell_type": "code",
   "execution_count": 37,
   "id": "important-stone",
   "metadata": {
    "execution": {
     "iopub.execute_input": "2021-05-17T21:50:11.152129Z",
     "iopub.status.busy": "2021-05-17T21:50:11.151277Z",
     "iopub.status.idle": "2021-05-17T21:50:11.153500Z",
     "shell.execute_reply": "2021-05-17T21:50:11.153866Z"
    },
    "id": "LHB6QN1zMyS-",
    "papermill": {
     "duration": 0.059387,
     "end_time": "2021-05-17T21:50:11.153997",
     "exception": false,
     "start_time": "2021-05-17T21:50:11.094610",
     "status": "completed"
    },
    "tags": []
   },
   "outputs": [],
   "source": [
    "def get_image_embeddings(model_path, dataloader):\n",
    "    model = ShopeeImageModel.load_from_checkpoint(model_path)\n",
    "    model.eval()\n",
    "    \n",
    "    all_embeddings = []\n",
    "    model.to(Config.DEVICE)\n",
    "    with torch.no_grad():\n",
    "        for img, label in tqdm(dataloader): \n",
    "            img = img.cuda()\n",
    "            feat = model.extract_feat(img)\n",
    "            image_embeddings = feat.detach().cpu().numpy()\n",
    "            all_embeddings.append(image_embeddings)\n",
    "    \n",
    "    del model\n",
    "    image_embeddings = np.concatenate(all_embeddings)\n",
    "    image_embeddings /= np.linalg.norm(image_embeddings, 2, axis=1, keepdims=True) # Normalize embeddings\n",
    "    print(f'Our image embeddings shape is {image_embeddings.shape}')\n",
    "    del all_embeddings\n",
    "    gc.collect()\n",
    "    \n",
    "    return image_embeddings"
   ]
  },
  {
   "cell_type": "code",
   "execution_count": 38,
   "id": "unlimited-sleeve",
   "metadata": {
    "execution": {
     "iopub.execute_input": "2021-05-17T21:50:11.262010Z",
     "iopub.status.busy": "2021-05-17T21:50:11.261190Z",
     "iopub.status.idle": "2021-05-17T21:50:11.263832Z",
     "shell.execute_reply": "2021-05-17T21:50:11.263347Z"
    },
    "id": "YWOtt9fbMyS-",
    "papermill": {
     "duration": 0.059776,
     "end_time": "2021-05-17T21:50:11.263949",
     "exception": false,
     "start_time": "2021-05-17T21:50:11.204173",
     "status": "completed"
    },
    "tags": []
   },
   "outputs": [],
   "source": [
    "def get_image_predictions(df, embeddings, threshold=0.0):\n",
    "    \n",
    "    if len(df) > 3:\n",
    "        KNN = 50\n",
    "    else: \n",
    "        KNN = 3\n",
    "    \n",
    "    model = NearestNeighbors(n_neighbors = KNN, metric = 'cosine')\n",
    "    model.fit(embeddings)\n",
    "    distances, indices = model.kneighbors(embeddings)\n",
    "    \n",
    "    predictions = []\n",
    "    for k in tqdm(range(embeddings.shape[0])):\n",
    "        idx = np.where(distances[k,] < threshold)[0]\n",
    "        ids = indices[k,idx]\n",
    "        posting_ids = df['posting_id'].iloc[ids].to_numpy()\n",
    "        predictions.append(posting_ids)\n",
    "        \n",
    "    del model, distances, indices\n",
    "    gc.collect() # Garbage Collector\n",
    "    return predictions"
   ]
  },
  {
   "cell_type": "code",
   "execution_count": 39,
   "id": "involved-walnut",
   "metadata": {
    "execution": {
     "iopub.execute_input": "2021-05-17T21:50:11.372034Z",
     "iopub.status.busy": "2021-05-17T21:50:11.371314Z",
     "iopub.status.idle": "2021-05-17T21:50:11.374229Z",
     "shell.execute_reply": "2021-05-17T21:50:11.374661Z"
    },
    "id": "jCDxnYDyMyS_",
    "papermill": {
     "duration": 0.06003,
     "end_time": "2021-05-17T21:50:11.374794",
     "exception": false,
     "start_time": "2021-05-17T21:50:11.314764",
     "status": "completed"
    },
    "tags": []
   },
   "outputs": [
    {
     "name": "stdout",
     "output_type": "stream",
     "text": [
      "Shopee Dataset Test\n"
     ]
    }
   ],
   "source": [
    "if 'Image' in Config.MODEL_TYPE:\n",
    "    if IS_SUBMISSION:\n",
    "        test_set = ShopeeImageDataset(Config.TEST_DIR, \n",
    "                                          test.image,\n",
    "                                          transform=test_transform)\n",
    "        test_loader = DataLoader(test_set, \n",
    "                                 batch_size=12,  \n",
    "                                 num_workers=Config.NUM_WORKERS,\n",
    "                                 shuffle=False,\n",
    "                                 pin_memory=True, \n",
    "                                 drop_last=False)\n",
    "        dataloader = test_loader\n",
    "    else:\n",
    "        dataloader = validation_loader\n",
    "    #show_sample_data_loader(dataloader)"
   ]
  },
  {
   "cell_type": "code",
   "execution_count": 40,
   "id": "sustained-glance",
   "metadata": {
    "execution": {
     "iopub.execute_input": "2021-05-17T21:50:11.483978Z",
     "iopub.status.busy": "2021-05-17T21:50:11.483336Z",
     "iopub.status.idle": "2021-05-17T21:50:24.972737Z",
     "shell.execute_reply": "2021-05-17T21:50:24.973282Z"
    },
    "id": "ApDNtiPqMyS_",
    "papermill": {
     "duration": 13.547864,
     "end_time": "2021-05-17T21:50:24.973494",
     "exception": false,
     "start_time": "2021-05-17T21:50:11.425630",
     "status": "completed"
    },
    "tags": []
   },
   "outputs": [
    {
     "name": "stdout",
     "output_type": "stream",
     "text": [
      "Building model backbone from eca_nfnet_l0\n"
     ]
    },
    {
     "data": {
      "application/vnd.jupyter.widget-view+json": {
       "model_id": "e4f385863cb24554ae75eceb359287f9",
       "version_major": 2,
       "version_minor": 0
      },
      "text/plain": [
       "  0%|          | 0/1 [00:00<?, ?it/s]"
      ]
     },
     "metadata": {},
     "output_type": "display_data"
    },
    {
     "name": "stdout",
     "output_type": "stream",
     "text": [
      "Our image embeddings shape is (3, 512)\n"
     ]
    }
   ],
   "source": [
    "if 'Image' in Config.MODEL_TYPE:\n",
    "    if not Config.ENSEMBLE:\n",
    "        best_model_path = \"../input/shopeepretrainedmodels/eca_nfnet_l0_Mish_CurricularFace-epoch14-val_loss12.28.ckpt\"\n",
    "        image_embeddings = get_image_embeddings(model_path=best_model_path, dataloader=dataloader)\n",
    "        image_embeddings /= np.linalg.norm(image_embeddings, 2, axis=1, keepdims=True) # Normalize embeddings \n",
    "    else:\n",
    "        best_model_paths = ['']\n",
    "        all_image_embeddings = np.zeros(len(test))\n",
    "        for experiment in range(Config.MAX_NUM_EXPERIMENTS):\n",
    "            image_embeddings = get_image_embeddings(model_path=best_model_paths[experiment], dataloader=validation_loader)\n",
    "            all_image_embeddings.append(image_embeddings)\n",
    "        image_embeddings = np.concatenate(all_image_embeddings, axis=1)\n",
    "        image_embeddings /= np.linalg.norm(image_embeddings, 2, axis=1, keepdims=True) # Normalize embeddings "
   ]
  },
  {
   "cell_type": "code",
   "execution_count": 41,
   "id": "scientific-invitation",
   "metadata": {
    "execution": {
     "iopub.execute_input": "2021-05-17T21:50:25.088176Z",
     "iopub.status.busy": "2021-05-17T21:50:25.087407Z",
     "iopub.status.idle": "2021-05-17T21:50:26.025290Z",
     "shell.execute_reply": "2021-05-17T21:50:26.024815Z"
    },
    "id": "dS1jGfRrMyTA",
    "papermill": {
     "duration": 0.997567,
     "end_time": "2021-05-17T21:50:26.025409",
     "exception": false,
     "start_time": "2021-05-17T21:50:25.027842",
     "status": "completed"
    },
    "tags": []
   },
   "outputs": [
    {
     "data": {
      "application/vnd.jupyter.widget-view+json": {
       "model_id": "5f9fb179426a47199f7bdd6cd4313c40",
       "version_major": 2,
       "version_minor": 0
      },
      "text/plain": [
       "  0%|          | 0/3 [00:00<?, ?it/s]"
      ]
     },
     "metadata": {},
     "output_type": "display_data"
    }
   ],
   "source": [
    "if 'Image' in Config.MODEL_TYPE:\n",
    "    if not IS_SUBMISSION:\n",
    "        validation_image_predictions = get_image_predictions(validation, image_embeddings, threshold=0.35)\n",
    "        validation['pred_image'] = validation_image_predictions\n",
    "    else:\n",
    "        test_image_predictions = get_image_predictions(test, image_embeddings, threshold=0.35)\n",
    "        test['pred_image'] = test_image_predictions\n",
    "\n",
    "#validation.head() \n",
    "#test.head()"
   ]
  },
  {
   "cell_type": "code",
   "execution_count": 42,
   "id": "going-picking",
   "metadata": {
    "execution": {
     "iopub.execute_input": "2021-05-17T21:50:26.137710Z",
     "iopub.status.busy": "2021-05-17T21:50:26.136923Z",
     "iopub.status.idle": "2021-05-17T21:50:26.139554Z",
     "shell.execute_reply": "2021-05-17T21:50:26.139108Z"
    },
    "id": "QvdVbWrmMyTB",
    "papermill": {
     "duration": 0.060713,
     "end_time": "2021-05-17T21:50:26.139664",
     "exception": false,
     "start_time": "2021-05-17T21:50:26.078951",
     "status": "completed"
    },
    "tags": []
   },
   "outputs": [],
   "source": [
    "if not IS_SUBMISSION and 'Image' in Config.MODEL_TYPE:\n",
    "    validation['f1score'] = validation.apply(getMetric('pred_image'), axis=1)\n",
    "    print('Image Prediction Validation Score: ', validation.f1score.mean())"
   ]
  },
  {
   "cell_type": "markdown",
   "id": "civilian-operations",
   "metadata": {
    "id": "VguIyrqlMyTB",
    "papermill": {
     "duration": 0.052544,
     "end_time": "2021-05-17T21:50:26.244817",
     "exception": false,
     "start_time": "2021-05-17T21:50:26.192273",
     "status": "completed"
    },
    "tags": []
   },
   "source": [
    "## Predictions Based on Text"
   ]
  },
  {
   "cell_type": "code",
   "execution_count": 43,
   "id": "piano-championship",
   "metadata": {
    "execution": {
     "iopub.execute_input": "2021-05-17T21:50:26.359001Z",
     "iopub.status.busy": "2021-05-17T21:50:26.358249Z",
     "iopub.status.idle": "2021-05-17T21:50:26.361024Z",
     "shell.execute_reply": "2021-05-17T21:50:26.360599Z"
    },
    "id": "M0AUfWg1gD58",
    "papermill": {
     "duration": 0.062656,
     "end_time": "2021-05-17T21:50:26.361130",
     "exception": false,
     "start_time": "2021-05-17T21:50:26.298474",
     "status": "completed"
    },
    "tags": []
   },
   "outputs": [],
   "source": [
    "def get_text_embeddings(model_path, dataloader, backbone_path=None):\n",
    "    if backbone_path != None:\n",
    "        model = ShopeeTextModel(backbone_path=backbone_path).load_from_checkpoint(model_path)\n",
    "    else:\n",
    "        model = ShopeeTextModel.load_from_checkpoint(model_path)\n",
    "    model.eval()\n",
    "\n",
    "    all_embeddings = []\n",
    "    model.to(Config.DEVICE)\n",
    "    with torch.no_grad():\n",
    "        for batch in tqdm(dataloader):\n",
    "            input_ids = batch['input_ids'].to(Config.DEVICE)\n",
    "            attention_mask = batch['attention_mask'].to(Config.DEVICE)\n",
    "            feat = model.extract_features(input_ids, attention_mask)\n",
    "            text_embeddings = feat.detach().cpu().numpy()\n",
    "            all_embeddings.append(text_embeddings)\n",
    "\n",
    "    del model\n",
    "    text_embeddings = np.concatenate(all_embeddings)\n",
    "    print(f'Our text embeddings shape is {text_embeddings.shape}')\n",
    "    del all_embeddings\n",
    "    gc.collect()\n",
    "\n",
    "    return text_embeddings"
   ]
  },
  {
   "cell_type": "code",
   "execution_count": 44,
   "id": "purple-klein",
   "metadata": {
    "execution": {
     "iopub.execute_input": "2021-05-17T21:50:26.476636Z",
     "iopub.status.busy": "2021-05-17T21:50:26.475800Z",
     "iopub.status.idle": "2021-05-17T21:50:26.477930Z",
     "shell.execute_reply": "2021-05-17T21:50:26.478327Z"
    },
    "id": "fwPXFDgxhNU-",
    "papermill": {
     "duration": 0.063354,
     "end_time": "2021-05-17T21:50:26.478483",
     "exception": false,
     "start_time": "2021-05-17T21:50:26.415129",
     "status": "completed"
    },
    "tags": []
   },
   "outputs": [],
   "source": [
    "def get_text_predictions(df, embeddings, threshold=0.0):\n",
    "\n",
    "    if len(df) > 3:\n",
    "        KNN = 50\n",
    "    else: \n",
    "        KNN = 3\n",
    "\n",
    "    model = NearestNeighbors(n_neighbors = KNN, metric = 'cosine')\n",
    "    model.fit(embeddings)\n",
    "    distances, indices = model.kneighbors(embeddings)\n",
    "\n",
    "    predictions = []\n",
    "    for k in tqdm(range(embeddings.shape[0])):\n",
    "        idx = np.where(distances[k,] < threshold)[0]\n",
    "        ids = indices[k,idx]\n",
    "        posting_ids = df['posting_id'].iloc[ids].to_numpy()\n",
    "        predictions.append(posting_ids)\n",
    "\n",
    "    del model, distances, indices\n",
    "    gc.collect() # Garbage Collector\n",
    "    return predictions"
   ]
  },
  {
   "cell_type": "code",
   "execution_count": 45,
   "id": "sudden-metallic",
   "metadata": {
    "execution": {
     "iopub.execute_input": "2021-05-17T21:50:26.592030Z",
     "iopub.status.busy": "2021-05-17T21:50:26.591297Z",
     "iopub.status.idle": "2021-05-17T21:50:26.594705Z",
     "shell.execute_reply": "2021-05-17T21:50:26.594248Z"
    },
    "id": "lGfWf5rAjXvW",
    "papermill": {
     "duration": 0.062712,
     "end_time": "2021-05-17T21:50:26.594816",
     "exception": false,
     "start_time": "2021-05-17T21:50:26.532104",
     "status": "completed"
    },
    "tags": []
   },
   "outputs": [],
   "source": [
    "if 'Text' in Config.MODEL_TYPE:\n",
    "    if IS_SUBMISSION:\n",
    "        testset = ShopeeTextDataset(tokenizer,\n",
    "                                        test['title'], \n",
    "                                        max_length=Config.TOKENIZER_MAX_LENGTH)\n",
    "        test_loader = DataLoader(testset, \n",
    "                                 batch_size=12, \n",
    "                                 num_workers=Config.NUM_WORKERS,\n",
    "                                 shuffle=False, \n",
    "                                 pin_memory=True, \n",
    "                                 drop_last=False)\n",
    "        dataloader = test_loader\n",
    "    else:\n",
    "        dataloader = validation_loader\n",
    "        #show_sample_data_loader(dataloader)"
   ]
  },
  {
   "cell_type": "code",
   "execution_count": 46,
   "id": "rubber-purchase",
   "metadata": {
    "execution": {
     "iopub.execute_input": "2021-05-17T21:50:26.708016Z",
     "iopub.status.busy": "2021-05-17T21:50:26.707510Z",
     "iopub.status.idle": "2021-05-17T21:50:37.113865Z",
     "shell.execute_reply": "2021-05-17T21:50:37.113393Z"
    },
    "papermill": {
     "duration": 10.465718,
     "end_time": "2021-05-17T21:50:37.114012",
     "exception": false,
     "start_time": "2021-05-17T21:50:26.648294",
     "status": "completed"
    },
    "tags": []
   },
   "outputs": [
    {
     "data": {
      "application/vnd.jupyter.widget-view+json": {
       "model_id": "5706e2f1fb9d40ffa4664e8fbadde7fe",
       "version_major": 2,
       "version_minor": 0
      },
      "text/plain": [
       "  0%|          | 0/1 [00:00<?, ?it/s]"
      ]
     },
     "metadata": {},
     "output_type": "display_data"
    },
    {
     "name": "stdout",
     "output_type": "stream",
     "text": [
      "Our text embeddings shape is (3, 512)\n"
     ]
    }
   ],
   "source": [
    "if 'Text' in Config.MODEL_TYPE:\n",
    "    if not Config.ENSEMBLE:\n",
    "        best_model_path = '../input/shopeepretrainedmodels/distilbert-base-indonesian_CurricularFace-epoch08-val_loss12.95.ckpt'\n",
    "        text_embeddings = get_text_embeddings(model_path=best_model_path, dataloader=dataloader)\n",
    "        text_embeddings /= np.linalg.norm(text_embeddings, 2, axis=1, keepdims=True) # Normalize embeddings \n",
    "    else:\n",
    "        all_text_embeddings = np.zeros(len(test))\n",
    "        for experiment in range(Config.MAX_NUM_EXPERIMENTS):\n",
    "            text_embeddings = get_text_embeddings(backbone_path=TEXT_BACKBONE_PATHS[experiment], model_path=TEXT_MODEL_PATHS[experiment], dataloader=dataloader)\n",
    "            all_text_embeddings.append(image_embeddings)\n",
    "        text_embeddings = np.concatenate(all_text_embeddings)\n",
    "        text_embeddings /= np.linalg.norm(text_embeddings, 2, axis=1, keepdims=True) # Normalize embeddings "
   ]
  },
  {
   "cell_type": "code",
   "execution_count": 47,
   "id": "criminal-africa",
   "metadata": {
    "execution": {
     "iopub.execute_input": "2021-05-17T21:50:37.230476Z",
     "iopub.status.busy": "2021-05-17T21:50:37.229958Z",
     "iopub.status.idle": "2021-05-17T21:50:37.580875Z",
     "shell.execute_reply": "2021-05-17T21:50:37.580390Z"
    },
    "id": "bzomvjb8hmDM",
    "papermill": {
     "duration": 0.409156,
     "end_time": "2021-05-17T21:50:37.581014",
     "exception": false,
     "start_time": "2021-05-17T21:50:37.171858",
     "status": "completed"
    },
    "tags": []
   },
   "outputs": [
    {
     "data": {
      "application/vnd.jupyter.widget-view+json": {
       "model_id": "508a4d979a1c4ae0ae20760a5da6bd48",
       "version_major": 2,
       "version_minor": 0
      },
      "text/plain": [
       "  0%|          | 0/3 [00:00<?, ?it/s]"
      ]
     },
     "metadata": {},
     "output_type": "display_data"
    }
   ],
   "source": [
    "if 'Text' in Config.MODEL_TYPE:\n",
    "    if not IS_SUBMISSION:\n",
    "        validation_text_predictions = get_text_predictions(validation, text_embeddings, threshold=0.15)\n",
    "        validation['pred_text'] = validation_text_predictions\n",
    "    else:\n",
    "        test_text_predictions = get_text_predictions(test, text_embeddings, threshold=0.15)\n",
    "        test['pred_text'] = test_text_predictions\n",
    "\n",
    "#test.head()\n",
    "#validation.head()"
   ]
  },
  {
   "cell_type": "code",
   "execution_count": 48,
   "id": "expired-brand",
   "metadata": {
    "execution": {
     "iopub.execute_input": "2021-05-17T21:50:37.694956Z",
     "iopub.status.busy": "2021-05-17T21:50:37.694379Z",
     "iopub.status.idle": "2021-05-17T21:50:37.698362Z",
     "shell.execute_reply": "2021-05-17T21:50:37.697968Z"
    },
    "id": "S-XCU0ppizod",
    "papermill": {
     "duration": 0.062879,
     "end_time": "2021-05-17T21:50:37.698497",
     "exception": false,
     "start_time": "2021-05-17T21:50:37.635618",
     "status": "completed"
    },
    "tags": []
   },
   "outputs": [],
   "source": [
    "if not IS_SUBMISSION and 'Text' in Config.MODEL_TYPE:\n",
    "    validation['f1score'] = validation.apply(getMetric('pred_text'), axis=1)\n",
    "    print('Text Prediction Validation Score: ', validation.f1score.mean())"
   ]
  },
  {
   "cell_type": "markdown",
   "id": "initial-motivation",
   "metadata": {
    "id": "CmCTzBjMMySo",
    "papermill": {
     "duration": 0.055463,
     "end_time": "2021-05-17T21:50:37.808815",
     "exception": false,
     "start_time": "2021-05-17T21:50:37.753352",
     "status": "completed"
    },
    "tags": []
   },
   "source": [
    "## Predictions based on image_phash\n",
    "Group together all duplicate images, i.e. with the same `image_phash`. Let's calcuate the baseline train score for this submission."
   ]
  },
  {
   "cell_type": "code",
   "execution_count": 49,
   "id": "chemical-patient",
   "metadata": {
    "execution": {
     "iopub.execute_input": "2021-05-17T21:50:37.925213Z",
     "iopub.status.busy": "2021-05-17T21:50:37.923638Z",
     "iopub.status.idle": "2021-05-17T21:50:37.925913Z",
     "shell.execute_reply": "2021-05-17T21:50:37.926314Z"
    },
    "id": "pO9yAVvGMySo",
    "papermill": {
     "duration": 0.061932,
     "end_time": "2021-05-17T21:50:37.926451",
     "exception": false,
     "start_time": "2021-05-17T21:50:37.864519",
     "status": "completed"
    },
    "tags": []
   },
   "outputs": [],
   "source": [
    "def predict_phash(dataset):\n",
    "    ids_per_image_phash = dataset.groupby('image_phash').posting_id.agg('unique')\n",
    "    return dataset.image_phash.map(ids_per_image_phash)"
   ]
  },
  {
   "cell_type": "code",
   "execution_count": 50,
   "id": "possible-repository",
   "metadata": {
    "execution": {
     "iopub.execute_input": "2021-05-17T21:50:38.048373Z",
     "iopub.status.busy": "2021-05-17T21:50:38.047871Z",
     "iopub.status.idle": "2021-05-17T21:50:38.051702Z",
     "shell.execute_reply": "2021-05-17T21:50:38.052105Z"
    },
    "id": "zCpYJk1mMySp",
    "papermill": {
     "duration": 0.071317,
     "end_time": "2021-05-17T21:50:38.052239",
     "exception": false,
     "start_time": "2021-05-17T21:50:37.980922",
     "status": "completed"
    },
    "tags": []
   },
   "outputs": [],
   "source": [
    "if not IS_SUBMISSION:\n",
    "    #train['pred_phash'] = predict_phash(train)\n",
    "    validation['pred_phash'] = predict_phash(validation)\n",
    "else:\n",
    "    test['pred_phash'] = predict_phash(test)"
   ]
  },
  {
   "cell_type": "code",
   "execution_count": 51,
   "id": "occasional-exhibit",
   "metadata": {
    "execution": {
     "iopub.execute_input": "2021-05-17T21:50:38.166205Z",
     "iopub.status.busy": "2021-05-17T21:50:38.165654Z",
     "iopub.status.idle": "2021-05-17T21:50:38.169093Z",
     "shell.execute_reply": "2021-05-17T21:50:38.169481Z"
    },
    "id": "_XuBCWruMySp",
    "outputId": "6241cdd7-c8e2-43ff-9c52-422e6f4c8785",
    "papermill": {
     "duration": 0.062739,
     "end_time": "2021-05-17T21:50:38.169681",
     "exception": false,
     "start_time": "2021-05-17T21:50:38.106942",
     "status": "completed"
    },
    "tags": []
   },
   "outputs": [],
   "source": [
    "if not IS_SUBMISSION:\n",
    "    #train['f1score'] = train.apply(getMetric('pred_phash'), axis=1)\n",
    "    #print('Baseline Train Score: ', train.f1score.mean())\n",
    "    validation['f1score'] = validation.apply(getMetric('pred_phash'), axis=1)\n",
    "    print('Phash Prediction Validation Score: ', validation.f1score.mean())"
   ]
  },
  {
   "cell_type": "markdown",
   "id": "humanitarian-chorus",
   "metadata": {
    "papermill": {
     "duration": 0.056139,
     "end_time": "2021-05-17T21:50:38.281052",
     "exception": false,
     "start_time": "2021-05-17T21:50:38.224913",
     "status": "completed"
    },
    "tags": []
   },
   "source": [
    "## Predictions Based on Concatenated Text and Image Embeddings"
   ]
  },
  {
   "cell_type": "code",
   "execution_count": 52,
   "id": "swiss-cheese",
   "metadata": {
    "execution": {
     "iopub.execute_input": "2021-05-17T21:50:38.398954Z",
     "iopub.status.busy": "2021-05-17T21:50:38.398155Z",
     "iopub.status.idle": "2021-05-17T21:50:38.400647Z",
     "shell.execute_reply": "2021-05-17T21:50:38.400228Z"
    },
    "papermill": {
     "duration": 0.064779,
     "end_time": "2021-05-17T21:50:38.400757",
     "exception": false,
     "start_time": "2021-05-17T21:50:38.335978",
     "status": "completed"
    },
    "tags": []
   },
   "outputs": [],
   "source": [
    "def get_predictions(df, embeddings, threshold=0.0):\n",
    "\n",
    "    if len(df) > 3:\n",
    "        KNN = 50\n",
    "    else: \n",
    "        KNN = 3\n",
    "\n",
    "    model = NearestNeighbors(n_neighbors = KNN, metric = 'cosine')\n",
    "    model.fit(embeddings)\n",
    "    distances, indices = model.kneighbors(embeddings)\n",
    "\n",
    "    predictions = []\n",
    "    for k in tqdm(range(embeddings.shape[0])):\n",
    "        idx = np.where(distances[k,] < threshold)[0]\n",
    "        ids = indices[k,idx]\n",
    "        posting_ids = df['posting_id'].iloc[ids].to_numpy()\n",
    "        predictions.append(posting_ids)\n",
    "\n",
    "    del model, distances, indices\n",
    "    gc.collect() # Garbage Collector\n",
    "    return predictions"
   ]
  },
  {
   "cell_type": "code",
   "execution_count": 53,
   "id": "funny-guitar",
   "metadata": {
    "execution": {
     "iopub.execute_input": "2021-05-17T21:50:38.516793Z",
     "iopub.status.busy": "2021-05-17T21:50:38.515942Z",
     "iopub.status.idle": "2021-05-17T21:50:38.871249Z",
     "shell.execute_reply": "2021-05-17T21:50:38.870798Z"
    },
    "papermill": {
     "duration": 0.415856,
     "end_time": "2021-05-17T21:50:38.871375",
     "exception": false,
     "start_time": "2021-05-17T21:50:38.455519",
     "status": "completed"
    },
    "tags": []
   },
   "outputs": [
    {
     "data": {
      "application/vnd.jupyter.widget-view+json": {
       "model_id": "85ded89973a44c1eb3b27b68bf8d92ed",
       "version_major": 2,
       "version_minor": 0
      },
      "text/plain": [
       "  0%|          | 0/3 [00:00<?, ?it/s]"
      ]
     },
     "metadata": {},
     "output_type": "display_data"
    }
   ],
   "source": [
    "if IS_SUBMISSION and 'Image' in Config.MODEL_TYPE and 'Text' in Config.MODEL_TYPE:\n",
    "    all_embeddings = np.concatenate([image_embeddings, text_embeddings], axis=1)\n",
    "    all_embeddings /= np.linalg.norm(all_embeddings, 2, axis=1, keepdims=True)\n",
    "    test['pred_all'] = get_predictions(test, all_embeddings, threshold=0.35)"
   ]
  },
  {
   "cell_type": "markdown",
   "id": "norwegian-prisoner",
   "metadata": {
    "id": "z_3G2dpqMyTF",
    "papermill": {
     "duration": 0.054941,
     "end_time": "2021-05-17T21:50:38.983215",
     "exception": false,
     "start_time": "2021-05-17T21:50:38.928274",
     "status": "completed"
    },
    "tags": []
   },
   "source": [
    "## Combine Predictions\n"
   ]
  },
  {
   "cell_type": "code",
   "execution_count": 54,
   "id": "educated-growing",
   "metadata": {
    "execution": {
     "iopub.execute_input": "2021-05-17T21:50:39.102495Z",
     "iopub.status.busy": "2021-05-17T21:50:39.101872Z",
     "iopub.status.idle": "2021-05-17T21:50:39.104652Z",
     "shell.execute_reply": "2021-05-17T21:50:39.105026Z"
    },
    "id": "xAXWmLUYMyTF",
    "outputId": "00237028-4473-4d48-ae0b-d25de54684ba",
    "papermill": {
     "duration": 0.066086,
     "end_time": "2021-05-17T21:50:39.105173",
     "exception": false,
     "start_time": "2021-05-17T21:50:39.039087",
     "status": "completed"
    },
    "tags": []
   },
   "outputs": [],
   "source": [
    "if not IS_SUBMISSION:\n",
    "    def combine_predictions(row):\n",
    "        if 'Text' in Config.MODEL_TYPE and 'Image' in Config.MODEL_TYPE:\n",
    "            predictions = np.concatenate([row['pred_text'], row['pred_image'], row['pred_all'], row['pred_phash']])\n",
    "        elif 'Text' in Config.MODEL_TYPE:\n",
    "            predictions = np.concatenate([row['pred_text'], row['pred_phash']]) \n",
    "        elif 'Image' in Config.MODEL_TYPE:\n",
    "            predictions = np.concatenate([row['pred_image'], row['pred_phash']])\n",
    "        return np.unique(predictions)\n",
    "\n",
    "\n",
    "    validation['matches'] = validation.apply(combine_predictions, axis=1)\n",
    "    \n",
    "#validation.head()"
   ]
  },
  {
   "cell_type": "code",
   "execution_count": 55,
   "id": "educated-contact",
   "metadata": {
    "execution": {
     "iopub.execute_input": "2021-05-17T21:50:39.220589Z",
     "iopub.status.busy": "2021-05-17T21:50:39.220054Z",
     "iopub.status.idle": "2021-05-17T21:50:39.223371Z",
     "shell.execute_reply": "2021-05-17T21:50:39.223968Z"
    },
    "id": "Ql2q6MQeMyTG",
    "outputId": "ead2bc87-6696-45d1-b954-36c2350fa51a",
    "papermill": {
     "duration": 0.06337,
     "end_time": "2021-05-17T21:50:39.224107",
     "exception": false,
     "start_time": "2021-05-17T21:50:39.160737",
     "status": "completed"
    },
    "tags": []
   },
   "outputs": [],
   "source": [
    "if not IS_SUBMISSION:\n",
    "    validation['f1score'] = validation.apply(getMetric('matches'), axis=1)\n",
    "    print('Final Validation Score: ', validation.f1score.mean())"
   ]
  },
  {
   "cell_type": "markdown",
   "id": "right-fleet",
   "metadata": {
    "id": "nTsAnYqsMyTH",
    "papermill": {
     "duration": 0.056045,
     "end_time": "2021-05-17T21:50:39.335822",
     "exception": false,
     "start_time": "2021-05-17T21:50:39.279777",
     "status": "completed"
    },
    "tags": []
   },
   "source": [
    "# Make a Submission"
   ]
  },
  {
   "cell_type": "code",
   "execution_count": 56,
   "id": "cross-dictionary",
   "metadata": {
    "execution": {
     "iopub.execute_input": "2021-05-17T21:50:39.460364Z",
     "iopub.status.busy": "2021-05-17T21:50:39.459754Z",
     "iopub.status.idle": "2021-05-17T21:50:39.471184Z",
     "shell.execute_reply": "2021-05-17T21:50:39.470768Z"
    },
    "papermill": {
     "duration": 0.079919,
     "end_time": "2021-05-17T21:50:39.471296",
     "exception": false,
     "start_time": "2021-05-17T21:50:39.391377",
     "status": "completed"
    },
    "tags": []
   },
   "outputs": [
    {
     "data": {
      "text/html": [
       "<div>\n",
       "<style scoped>\n",
       "    .dataframe tbody tr th:only-of-type {\n",
       "        vertical-align: middle;\n",
       "    }\n",
       "\n",
       "    .dataframe tbody tr th {\n",
       "        vertical-align: top;\n",
       "    }\n",
       "\n",
       "    .dataframe thead th {\n",
       "        text-align: right;\n",
       "    }\n",
       "</style>\n",
       "<table border=\"1\" class=\"dataframe\">\n",
       "  <thead>\n",
       "    <tr style=\"text-align: right;\">\n",
       "      <th></th>\n",
       "      <th>posting_id</th>\n",
       "      <th>image</th>\n",
       "      <th>image_phash</th>\n",
       "      <th>title</th>\n",
       "      <th>pred_image</th>\n",
       "      <th>pred_text</th>\n",
       "      <th>pred_phash</th>\n",
       "      <th>pred_all</th>\n",
       "    </tr>\n",
       "  </thead>\n",
       "  <tbody>\n",
       "    <tr>\n",
       "      <th>0</th>\n",
       "      <td>test_2255846744</td>\n",
       "      <td>0006c8e5462ae52167402bac1c2e916e.jpg</td>\n",
       "      <td>ecc292392dc7687a</td>\n",
       "      <td>Edufuntoys - CHARACTER PHONE ada lampu dan mus...</td>\n",
       "      <td>[test_2255846744]</td>\n",
       "      <td>[test_2255846744]</td>\n",
       "      <td>[test_2255846744]</td>\n",
       "      <td>[test_2255846744]</td>\n",
       "    </tr>\n",
       "    <tr>\n",
       "      <th>1</th>\n",
       "      <td>test_3588702337</td>\n",
       "      <td>0007585c4d0f932859339129f709bfdc.jpg</td>\n",
       "      <td>e9968f60d2699e2c</td>\n",
       "      <td>(Beli 1 Free Spatula) Masker Komedo | Blackhea...</td>\n",
       "      <td>[test_3588702337]</td>\n",
       "      <td>[test_3588702337]</td>\n",
       "      <td>[test_3588702337]</td>\n",
       "      <td>[test_3588702337]</td>\n",
       "    </tr>\n",
       "    <tr>\n",
       "      <th>2</th>\n",
       "      <td>test_4015706929</td>\n",
       "      <td>0008377d3662e83ef44e1881af38b879.jpg</td>\n",
       "      <td>ba81c17e3581cabe</td>\n",
       "      <td>READY Lemonilo Mie instant sehat kuah dan goreng</td>\n",
       "      <td>[test_4015706929]</td>\n",
       "      <td>[test_4015706929]</td>\n",
       "      <td>[test_4015706929]</td>\n",
       "      <td>[test_4015706929]</td>\n",
       "    </tr>\n",
       "  </tbody>\n",
       "</table>\n",
       "</div>"
      ],
      "text/plain": [
       "        posting_id                                 image       image_phash  \\\n",
       "0  test_2255846744  0006c8e5462ae52167402bac1c2e916e.jpg  ecc292392dc7687a   \n",
       "1  test_3588702337  0007585c4d0f932859339129f709bfdc.jpg  e9968f60d2699e2c   \n",
       "2  test_4015706929  0008377d3662e83ef44e1881af38b879.jpg  ba81c17e3581cabe   \n",
       "\n",
       "                                               title         pred_image  \\\n",
       "0  Edufuntoys - CHARACTER PHONE ada lampu dan mus...  [test_2255846744]   \n",
       "1  (Beli 1 Free Spatula) Masker Komedo | Blackhea...  [test_3588702337]   \n",
       "2   READY Lemonilo Mie instant sehat kuah dan goreng  [test_4015706929]   \n",
       "\n",
       "           pred_text         pred_phash           pred_all  \n",
       "0  [test_2255846744]  [test_2255846744]  [test_2255846744]  \n",
       "1  [test_3588702337]  [test_3588702337]  [test_3588702337]  \n",
       "2  [test_4015706929]  [test_4015706929]  [test_4015706929]  "
      ]
     },
     "execution_count": 56,
     "metadata": {},
     "output_type": "execute_result"
    }
   ],
   "source": [
    "test.head()"
   ]
  },
  {
   "cell_type": "code",
   "execution_count": 57,
   "id": "strange-robertson",
   "metadata": {
    "execution": {
     "iopub.execute_input": "2021-05-17T21:50:39.593271Z",
     "iopub.status.busy": "2021-05-17T21:50:39.592319Z",
     "iopub.status.idle": "2021-05-17T21:50:39.599388Z",
     "shell.execute_reply": "2021-05-17T21:50:39.598888Z"
    },
    "papermill": {
     "duration": 0.070677,
     "end_time": "2021-05-17T21:50:39.599559",
     "exception": false,
     "start_time": "2021-05-17T21:50:39.528882",
     "status": "completed"
    },
    "tags": []
   },
   "outputs": [],
   "source": [
    "def combine_predictions(row):\n",
    "    if 'Text' in Config.MODEL_TYPE and 'Image' in Config.MODEL_TYPE:\n",
    "        predictions = np.concatenate([row['pred_text'], row['pred_image'], row['pred_all'], row['pred_phash']])\n",
    "    elif 'Text' in Config.MODEL_TYPE:\n",
    "        predictions = np.concatenate([row['pred_text'], row['pred_phash']]) \n",
    "    elif 'Image' in Config.MODEL_TYPE:\n",
    "        predictions = np.concatenate([row['pred_image'], row['pred_phash']])\n",
    "    return ' '.join(np.unique(predictions))\n",
    "\n",
    "if not IS_SUBMISSION:\n",
    "    validation['matches'] = validation.apply(combine_predictions, axis=1)\n",
    "    #train['matches'] = train.apply(combine_predictions, axis=1)\n",
    "else:\n",
    "    test['matches'] = test.apply(combine_predictions, axis=1)\n",
    "#train.head()\n",
    "#validation.head()\n",
    "#test.head()"
   ]
  },
  {
   "cell_type": "code",
   "execution_count": 58,
   "id": "intended-avatar",
   "metadata": {
    "execution": {
     "iopub.execute_input": "2021-05-17T21:50:39.720747Z",
     "iopub.status.busy": "2021-05-17T21:50:39.720144Z",
     "iopub.status.idle": "2021-05-17T21:50:39.740749Z",
     "shell.execute_reply": "2021-05-17T21:50:39.740314Z"
    },
    "id": "_vnBz0BIMyTH",
    "papermill": {
     "duration": 0.08254,
     "end_time": "2021-05-17T21:50:39.740864",
     "exception": false,
     "start_time": "2021-05-17T21:50:39.658324",
     "status": "completed"
    },
    "tags": []
   },
   "outputs": [
    {
     "data": {
      "text/html": [
       "<div>\n",
       "<style scoped>\n",
       "    .dataframe tbody tr th:only-of-type {\n",
       "        vertical-align: middle;\n",
       "    }\n",
       "\n",
       "    .dataframe tbody tr th {\n",
       "        vertical-align: top;\n",
       "    }\n",
       "\n",
       "    .dataframe thead th {\n",
       "        text-align: right;\n",
       "    }\n",
       "</style>\n",
       "<table border=\"1\" class=\"dataframe\">\n",
       "  <thead>\n",
       "    <tr style=\"text-align: right;\">\n",
       "      <th></th>\n",
       "      <th>posting_id</th>\n",
       "      <th>matches</th>\n",
       "    </tr>\n",
       "  </thead>\n",
       "  <tbody>\n",
       "    <tr>\n",
       "      <th>0</th>\n",
       "      <td>test_2255846744</td>\n",
       "      <td>test_2255846744</td>\n",
       "    </tr>\n",
       "    <tr>\n",
       "      <th>1</th>\n",
       "      <td>test_3588702337</td>\n",
       "      <td>test_3588702337</td>\n",
       "    </tr>\n",
       "    <tr>\n",
       "      <th>2</th>\n",
       "      <td>test_4015706929</td>\n",
       "      <td>test_4015706929</td>\n",
       "    </tr>\n",
       "  </tbody>\n",
       "</table>\n",
       "</div>"
      ],
      "text/plain": [
       "        posting_id          matches\n",
       "0  test_2255846744  test_2255846744\n",
       "1  test_3588702337  test_3588702337\n",
       "2  test_4015706929  test_4015706929"
      ]
     },
     "execution_count": 58,
     "metadata": {},
     "output_type": "execute_result"
    }
   ],
   "source": [
    "submission = test[['posting_id', 'matches']]\n",
    "submission.to_csv('submission.csv', index=False)\n",
    "submission.head()"
   ]
  }
 ],
 "metadata": {
  "kernelspec": {
   "display_name": "Python 3",
   "language": "python",
   "name": "python3"
  },
  "language_info": {
   "codemirror_mode": {
    "name": "ipython",
    "version": 3
   },
   "file_extension": ".py",
   "mimetype": "text/x-python",
   "name": "python",
   "nbconvert_exporter": "python",
   "pygments_lexer": "ipython3",
   "version": "3.7.10"
  },
  "papermill": {
   "default_parameters": {},
   "duration": 55.862306,
   "end_time": "2021-05-17T21:50:42.483163",
   "environment_variables": {},
   "exception": null,
   "input_path": "__notebook__.ipynb",
   "output_path": "__notebook__.ipynb",
   "parameters": {},
   "start_time": "2021-05-17T21:49:46.620857",
   "version": "2.3.3"
  },
  "widgets": {
   "application/vnd.jupyter.widget-state+json": {
    "state": {
     "00aba126833d4b91b424854ba5697c2d": {
      "model_module": "@jupyter-widgets/controls",
      "model_module_version": "1.5.0",
      "model_name": "FloatProgressModel",
      "state": {
       "_dom_classes": [],
       "_model_module": "@jupyter-widgets/controls",
       "_model_module_version": "1.5.0",
       "_model_name": "FloatProgressModel",
       "_view_count": null,
       "_view_module": "@jupyter-widgets/controls",
       "_view_module_version": "1.5.0",
       "_view_name": "ProgressView",
       "bar_style": "success",
       "description": "",
       "description_tooltip": null,
       "layout": "IPY_MODEL_7cca0e67bd664b3b9d06307cffd7201b",
       "max": 1.0,
       "min": 0.0,
       "orientation": "horizontal",
       "style": "IPY_MODEL_6ee9c34f25f24498a60e967d5ab6bc88",
       "value": 1.0
      }
     },
     "06598aa3d26241e2aa232162f3b0f099": {
      "model_module": "@jupyter-widgets/base",
      "model_module_version": "1.2.0",
      "model_name": "LayoutModel",
      "state": {
       "_model_module": "@jupyter-widgets/base",
       "_model_module_version": "1.2.0",
       "_model_name": "LayoutModel",
       "_view_count": null,
       "_view_module": "@jupyter-widgets/base",
       "_view_module_version": "1.2.0",
       "_view_name": "LayoutView",
       "align_content": null,
       "align_items": null,
       "align_self": null,
       "border": null,
       "bottom": null,
       "display": null,
       "flex": null,
       "flex_flow": null,
       "grid_area": null,
       "grid_auto_columns": null,
       "grid_auto_flow": null,
       "grid_auto_rows": null,
       "grid_column": null,
       "grid_gap": null,
       "grid_row": null,
       "grid_template_areas": null,
       "grid_template_columns": null,
       "grid_template_rows": null,
       "height": null,
       "justify_content": null,
       "justify_items": null,
       "left": null,
       "margin": null,
       "max_height": null,
       "max_width": null,
       "min_height": null,
       "min_width": null,
       "object_fit": null,
       "object_position": null,
       "order": null,
       "overflow": null,
       "overflow_x": null,
       "overflow_y": null,
       "padding": null,
       "right": null,
       "top": null,
       "visibility": null,
       "width": null
      }
     },
     "0a0f10f14fb043daac049eab753048bf": {
      "model_module": "@jupyter-widgets/base",
      "model_module_version": "1.2.0",
      "model_name": "LayoutModel",
      "state": {
       "_model_module": "@jupyter-widgets/base",
       "_model_module_version": "1.2.0",
       "_model_name": "LayoutModel",
       "_view_count": null,
       "_view_module": "@jupyter-widgets/base",
       "_view_module_version": "1.2.0",
       "_view_name": "LayoutView",
       "align_content": null,
       "align_items": null,
       "align_self": null,
       "border": null,
       "bottom": null,
       "display": null,
       "flex": null,
       "flex_flow": null,
       "grid_area": null,
       "grid_auto_columns": null,
       "grid_auto_flow": null,
       "grid_auto_rows": null,
       "grid_column": null,
       "grid_gap": null,
       "grid_row": null,
       "grid_template_areas": null,
       "grid_template_columns": null,
       "grid_template_rows": null,
       "height": null,
       "justify_content": null,
       "justify_items": null,
       "left": null,
       "margin": null,
       "max_height": null,
       "max_width": null,
       "min_height": null,
       "min_width": null,
       "object_fit": null,
       "object_position": null,
       "order": null,
       "overflow": null,
       "overflow_x": null,
       "overflow_y": null,
       "padding": null,
       "right": null,
       "top": null,
       "visibility": null,
       "width": null
      }
     },
     "0b6b2be7be894fb0b7ff832ce01e25b4": {
      "model_module": "@jupyter-widgets/controls",
      "model_module_version": "1.5.0",
      "model_name": "FloatProgressModel",
      "state": {
       "_dom_classes": [],
       "_model_module": "@jupyter-widgets/controls",
       "_model_module_version": "1.5.0",
       "_model_name": "FloatProgressModel",
       "_view_count": null,
       "_view_module": "@jupyter-widgets/controls",
       "_view_module_version": "1.5.0",
       "_view_name": "ProgressView",
       "bar_style": "success",
       "description": "",
       "description_tooltip": null,
       "layout": "IPY_MODEL_bb6bc01d3ab840c4a4893ac98cdc1b7a",
       "max": 3.0,
       "min": 0.0,
       "orientation": "horizontal",
       "style": "IPY_MODEL_f3dd2ab2687b40d9a653d1a5893b9c55",
       "value": 3.0
      }
     },
     "0dd48b3ff6274582aa938c7f4ebadd4f": {
      "model_module": "@jupyter-widgets/base",
      "model_module_version": "1.2.0",
      "model_name": "LayoutModel",
      "state": {
       "_model_module": "@jupyter-widgets/base",
       "_model_module_version": "1.2.0",
       "_model_name": "LayoutModel",
       "_view_count": null,
       "_view_module": "@jupyter-widgets/base",
       "_view_module_version": "1.2.0",
       "_view_name": "LayoutView",
       "align_content": null,
       "align_items": null,
       "align_self": null,
       "border": null,
       "bottom": null,
       "display": null,
       "flex": null,
       "flex_flow": null,
       "grid_area": null,
       "grid_auto_columns": null,
       "grid_auto_flow": null,
       "grid_auto_rows": null,
       "grid_column": null,
       "grid_gap": null,
       "grid_row": null,
       "grid_template_areas": null,
       "grid_template_columns": null,
       "grid_template_rows": null,
       "height": null,
       "justify_content": null,
       "justify_items": null,
       "left": null,
       "margin": null,
       "max_height": null,
       "max_width": null,
       "min_height": null,
       "min_width": null,
       "object_fit": null,
       "object_position": null,
       "order": null,
       "overflow": null,
       "overflow_x": null,
       "overflow_y": null,
       "padding": null,
       "right": null,
       "top": null,
       "visibility": null,
       "width": null
      }
     },
     "154d93e6151748d3ba9a8c9451b64cce": {
      "model_module": "@jupyter-widgets/base",
      "model_module_version": "1.2.0",
      "model_name": "LayoutModel",
      "state": {
       "_model_module": "@jupyter-widgets/base",
       "_model_module_version": "1.2.0",
       "_model_name": "LayoutModel",
       "_view_count": null,
       "_view_module": "@jupyter-widgets/base",
       "_view_module_version": "1.2.0",
       "_view_name": "LayoutView",
       "align_content": null,
       "align_items": null,
       "align_self": null,
       "border": null,
       "bottom": null,
       "display": null,
       "flex": null,
       "flex_flow": null,
       "grid_area": null,
       "grid_auto_columns": null,
       "grid_auto_flow": null,
       "grid_auto_rows": null,
       "grid_column": null,
       "grid_gap": null,
       "grid_row": null,
       "grid_template_areas": null,
       "grid_template_columns": null,
       "grid_template_rows": null,
       "height": null,
       "justify_content": null,
       "justify_items": null,
       "left": null,
       "margin": null,
       "max_height": null,
       "max_width": null,
       "min_height": null,
       "min_width": null,
       "object_fit": null,
       "object_position": null,
       "order": null,
       "overflow": null,
       "overflow_x": null,
       "overflow_y": null,
       "padding": null,
       "right": null,
       "top": null,
       "visibility": null,
       "width": null
      }
     },
     "209857b92d844846acffe1515c812170": {
      "model_module": "@jupyter-widgets/controls",
      "model_module_version": "1.5.0",
      "model_name": "HTMLModel",
      "state": {
       "_dom_classes": [],
       "_model_module": "@jupyter-widgets/controls",
       "_model_module_version": "1.5.0",
       "_model_name": "HTMLModel",
       "_view_count": null,
       "_view_module": "@jupyter-widgets/controls",
       "_view_module_version": "1.5.0",
       "_view_name": "HTMLView",
       "description": "",
       "description_tooltip": null,
       "layout": "IPY_MODEL_75e2ecd0bfef427bb021eb4f422d50d8",
       "placeholder": "​",
       "style": "IPY_MODEL_925017a9f81740a28255c4c66706d024",
       "value": " 1/1 [00:00&lt;00:00,  5.20it/s]"
      }
     },
     "2112a0cba0154828b0c47c55771a6bc3": {
      "model_module": "@jupyter-widgets/controls",
      "model_module_version": "1.5.0",
      "model_name": "FloatProgressModel",
      "state": {
       "_dom_classes": [],
       "_model_module": "@jupyter-widgets/controls",
       "_model_module_version": "1.5.0",
       "_model_name": "FloatProgressModel",
       "_view_count": null,
       "_view_module": "@jupyter-widgets/controls",
       "_view_module_version": "1.5.0",
       "_view_name": "ProgressView",
       "bar_style": "success",
       "description": "",
       "description_tooltip": null,
       "layout": "IPY_MODEL_06598aa3d26241e2aa232162f3b0f099",
       "max": 3.0,
       "min": 0.0,
       "orientation": "horizontal",
       "style": "IPY_MODEL_3c7c9d4457a547f0a0f7f0568abd6408",
       "value": 3.0
      }
     },
     "2773bc23a77846e8b3e74ef41afb769c": {
      "model_module": "@jupyter-widgets/controls",
      "model_module_version": "1.5.0",
      "model_name": "DescriptionStyleModel",
      "state": {
       "_model_module": "@jupyter-widgets/controls",
       "_model_module_version": "1.5.0",
       "_model_name": "DescriptionStyleModel",
       "_view_count": null,
       "_view_module": "@jupyter-widgets/base",
       "_view_module_version": "1.2.0",
       "_view_name": "StyleView",
       "description_width": ""
      }
     },
     "2a5ad04627ee407b905e269ea390d2d2": {
      "model_module": "@jupyter-widgets/controls",
      "model_module_version": "1.5.0",
      "model_name": "DescriptionStyleModel",
      "state": {
       "_model_module": "@jupyter-widgets/controls",
       "_model_module_version": "1.5.0",
       "_model_name": "DescriptionStyleModel",
       "_view_count": null,
       "_view_module": "@jupyter-widgets/base",
       "_view_module_version": "1.2.0",
       "_view_name": "StyleView",
       "description_width": ""
      }
     },
     "2a9cd9d4e41c477c8831f1f4ae0d9c26": {
      "model_module": "@jupyter-widgets/base",
      "model_module_version": "1.2.0",
      "model_name": "LayoutModel",
      "state": {
       "_model_module": "@jupyter-widgets/base",
       "_model_module_version": "1.2.0",
       "_model_name": "LayoutModel",
       "_view_count": null,
       "_view_module": "@jupyter-widgets/base",
       "_view_module_version": "1.2.0",
       "_view_name": "LayoutView",
       "align_content": null,
       "align_items": null,
       "align_self": null,
       "border": null,
       "bottom": null,
       "display": null,
       "flex": null,
       "flex_flow": null,
       "grid_area": null,
       "grid_auto_columns": null,
       "grid_auto_flow": null,
       "grid_auto_rows": null,
       "grid_column": null,
       "grid_gap": null,
       "grid_row": null,
       "grid_template_areas": null,
       "grid_template_columns": null,
       "grid_template_rows": null,
       "height": null,
       "justify_content": null,
       "justify_items": null,
       "left": null,
       "margin": null,
       "max_height": null,
       "max_width": null,
       "min_height": null,
       "min_width": null,
       "object_fit": null,
       "object_position": null,
       "order": null,
       "overflow": null,
       "overflow_x": null,
       "overflow_y": null,
       "padding": null,
       "right": null,
       "top": null,
       "visibility": null,
       "width": null
      }
     },
     "2c70b24d7c5d4cedb77f4c81fa4f5079": {
      "model_module": "@jupyter-widgets/base",
      "model_module_version": "1.2.0",
      "model_name": "LayoutModel",
      "state": {
       "_model_module": "@jupyter-widgets/base",
       "_model_module_version": "1.2.0",
       "_model_name": "LayoutModel",
       "_view_count": null,
       "_view_module": "@jupyter-widgets/base",
       "_view_module_version": "1.2.0",
       "_view_name": "LayoutView",
       "align_content": null,
       "align_items": null,
       "align_self": null,
       "border": null,
       "bottom": null,
       "display": null,
       "flex": null,
       "flex_flow": null,
       "grid_area": null,
       "grid_auto_columns": null,
       "grid_auto_flow": null,
       "grid_auto_rows": null,
       "grid_column": null,
       "grid_gap": null,
       "grid_row": null,
       "grid_template_areas": null,
       "grid_template_columns": null,
       "grid_template_rows": null,
       "height": null,
       "justify_content": null,
       "justify_items": null,
       "left": null,
       "margin": null,
       "max_height": null,
       "max_width": null,
       "min_height": null,
       "min_width": null,
       "object_fit": null,
       "object_position": null,
       "order": null,
       "overflow": null,
       "overflow_x": null,
       "overflow_y": null,
       "padding": null,
       "right": null,
       "top": null,
       "visibility": null,
       "width": null
      }
     },
     "3c7c9d4457a547f0a0f7f0568abd6408": {
      "model_module": "@jupyter-widgets/controls",
      "model_module_version": "1.5.0",
      "model_name": "ProgressStyleModel",
      "state": {
       "_model_module": "@jupyter-widgets/controls",
       "_model_module_version": "1.5.0",
       "_model_name": "ProgressStyleModel",
       "_view_count": null,
       "_view_module": "@jupyter-widgets/base",
       "_view_module_version": "1.2.0",
       "_view_name": "StyleView",
       "bar_color": null,
       "description_width": ""
      }
     },
     "3cc3e5e9c6334f3da4f9a9e542439a23": {
      "model_module": "@jupyter-widgets/controls",
      "model_module_version": "1.5.0",
      "model_name": "HTMLModel",
      "state": {
       "_dom_classes": [],
       "_model_module": "@jupyter-widgets/controls",
       "_model_module_version": "1.5.0",
       "_model_name": "HTMLModel",
       "_view_count": null,
       "_view_module": "@jupyter-widgets/controls",
       "_view_module_version": "1.5.0",
       "_view_name": "HTMLView",
       "description": "",
       "description_tooltip": null,
       "layout": "IPY_MODEL_d18cb6cc5f7f452b868478676410a591",
       "placeholder": "​",
       "style": "IPY_MODEL_4d58a456ed23410aba561571fcad7a26",
       "value": " 3/3 [00:00&lt;00:00, 105.86it/s]"
      }
     },
     "3ff8c45708224edfb1817539955e821a": {
      "model_module": "@jupyter-widgets/base",
      "model_module_version": "1.2.0",
      "model_name": "LayoutModel",
      "state": {
       "_model_module": "@jupyter-widgets/base",
       "_model_module_version": "1.2.0",
       "_model_name": "LayoutModel",
       "_view_count": null,
       "_view_module": "@jupyter-widgets/base",
       "_view_module_version": "1.2.0",
       "_view_name": "LayoutView",
       "align_content": null,
       "align_items": null,
       "align_self": null,
       "border": null,
       "bottom": null,
       "display": null,
       "flex": null,
       "flex_flow": null,
       "grid_area": null,
       "grid_auto_columns": null,
       "grid_auto_flow": null,
       "grid_auto_rows": null,
       "grid_column": null,
       "grid_gap": null,
       "grid_row": null,
       "grid_template_areas": null,
       "grid_template_columns": null,
       "grid_template_rows": null,
       "height": null,
       "justify_content": null,
       "justify_items": null,
       "left": null,
       "margin": null,
       "max_height": null,
       "max_width": null,
       "min_height": null,
       "min_width": null,
       "object_fit": null,
       "object_position": null,
       "order": null,
       "overflow": null,
       "overflow_x": null,
       "overflow_y": null,
       "padding": null,
       "right": null,
       "top": null,
       "visibility": null,
       "width": null
      }
     },
     "4d58a456ed23410aba561571fcad7a26": {
      "model_module": "@jupyter-widgets/controls",
      "model_module_version": "1.5.0",
      "model_name": "DescriptionStyleModel",
      "state": {
       "_model_module": "@jupyter-widgets/controls",
       "_model_module_version": "1.5.0",
       "_model_name": "DescriptionStyleModel",
       "_view_count": null,
       "_view_module": "@jupyter-widgets/base",
       "_view_module_version": "1.2.0",
       "_view_name": "StyleView",
       "description_width": ""
      }
     },
     "4f42840335ad4f5bad46e18add54ff35": {
      "model_module": "@jupyter-widgets/controls",
      "model_module_version": "1.5.0",
      "model_name": "FloatProgressModel",
      "state": {
       "_dom_classes": [],
       "_model_module": "@jupyter-widgets/controls",
       "_model_module_version": "1.5.0",
       "_model_name": "FloatProgressModel",
       "_view_count": null,
       "_view_module": "@jupyter-widgets/controls",
       "_view_module_version": "1.5.0",
       "_view_name": "ProgressView",
       "bar_style": "success",
       "description": "",
       "description_tooltip": null,
       "layout": "IPY_MODEL_b6736161d70b48d599aa4f419973a064",
       "max": 1.0,
       "min": 0.0,
       "orientation": "horizontal",
       "style": "IPY_MODEL_a3bcc4e6b2994939a52d29ebbad70257",
       "value": 1.0
      }
     },
     "508a4d979a1c4ae0ae20760a5da6bd48": {
      "model_module": "@jupyter-widgets/controls",
      "model_module_version": "1.5.0",
      "model_name": "HBoxModel",
      "state": {
       "_dom_classes": [],
       "_model_module": "@jupyter-widgets/controls",
       "_model_module_version": "1.5.0",
       "_model_name": "HBoxModel",
       "_view_count": null,
       "_view_module": "@jupyter-widgets/controls",
       "_view_module_version": "1.5.0",
       "_view_name": "HBoxView",
       "box_style": "",
       "children": [
        "IPY_MODEL_e322841c9ad642aea11e52fd9492fc81",
        "IPY_MODEL_0b6b2be7be894fb0b7ff832ce01e25b4",
        "IPY_MODEL_6acca0cea66d4e128799197f16e9cb78"
       ],
       "layout": "IPY_MODEL_b456b33d1051444a9caadda4d401c88c"
      }
     },
     "5706e2f1fb9d40ffa4664e8fbadde7fe": {
      "model_module": "@jupyter-widgets/controls",
      "model_module_version": "1.5.0",
      "model_name": "HBoxModel",
      "state": {
       "_dom_classes": [],
       "_model_module": "@jupyter-widgets/controls",
       "_model_module_version": "1.5.0",
       "_model_name": "HBoxModel",
       "_view_count": null,
       "_view_module": "@jupyter-widgets/controls",
       "_view_module_version": "1.5.0",
       "_view_name": "HBoxView",
       "box_style": "",
       "children": [
        "IPY_MODEL_6c86479cef7c457faf9cbac321e3ca6d",
        "IPY_MODEL_4f42840335ad4f5bad46e18add54ff35",
        "IPY_MODEL_209857b92d844846acffe1515c812170"
       ],
       "layout": "IPY_MODEL_0a0f10f14fb043daac049eab753048bf"
      }
     },
     "5f9fb179426a47199f7bdd6cd4313c40": {
      "model_module": "@jupyter-widgets/controls",
      "model_module_version": "1.5.0",
      "model_name": "HBoxModel",
      "state": {
       "_dom_classes": [],
       "_model_module": "@jupyter-widgets/controls",
       "_model_module_version": "1.5.0",
       "_model_name": "HBoxModel",
       "_view_count": null,
       "_view_module": "@jupyter-widgets/controls",
       "_view_module_version": "1.5.0",
       "_view_name": "HBoxView",
       "box_style": "",
       "children": [
        "IPY_MODEL_bd242c770d8a4db4abd20c7407a3b417",
        "IPY_MODEL_2112a0cba0154828b0c47c55771a6bc3",
        "IPY_MODEL_7a2dc95e56c04e8bb9d12bf205fd050c"
       ],
       "layout": "IPY_MODEL_f98f645f22ce47748c0af6a4f9e8571d"
      }
     },
     "6512f6e20cb340eab2ecbe99426ba324": {
      "model_module": "@jupyter-widgets/controls",
      "model_module_version": "1.5.0",
      "model_name": "DescriptionStyleModel",
      "state": {
       "_model_module": "@jupyter-widgets/controls",
       "_model_module_version": "1.5.0",
       "_model_name": "DescriptionStyleModel",
       "_view_count": null,
       "_view_module": "@jupyter-widgets/base",
       "_view_module_version": "1.2.0",
       "_view_name": "StyleView",
       "description_width": ""
      }
     },
     "6acca0cea66d4e128799197f16e9cb78": {
      "model_module": "@jupyter-widgets/controls",
      "model_module_version": "1.5.0",
      "model_name": "HTMLModel",
      "state": {
       "_dom_classes": [],
       "_model_module": "@jupyter-widgets/controls",
       "_model_module_version": "1.5.0",
       "_model_name": "HTMLModel",
       "_view_count": null,
       "_view_module": "@jupyter-widgets/controls",
       "_view_module_version": "1.5.0",
       "_view_name": "HTMLView",
       "description": "",
       "description_tooltip": null,
       "layout": "IPY_MODEL_edfc144535894e018879f9ff31044733",
       "placeholder": "​",
       "style": "IPY_MODEL_d4b47382ff704c589b6003e05391bd9d",
       "value": " 3/3 [00:00&lt;00:00, 112.82it/s]"
      }
     },
     "6c86479cef7c457faf9cbac321e3ca6d": {
      "model_module": "@jupyter-widgets/controls",
      "model_module_version": "1.5.0",
      "model_name": "HTMLModel",
      "state": {
       "_dom_classes": [],
       "_model_module": "@jupyter-widgets/controls",
       "_model_module_version": "1.5.0",
       "_model_name": "HTMLModel",
       "_view_count": null,
       "_view_module": "@jupyter-widgets/controls",
       "_view_module_version": "1.5.0",
       "_view_name": "HTMLView",
       "description": "",
       "description_tooltip": null,
       "layout": "IPY_MODEL_154d93e6151748d3ba9a8c9451b64cce",
       "placeholder": "​",
       "style": "IPY_MODEL_6512f6e20cb340eab2ecbe99426ba324",
       "value": "100%"
      }
     },
     "6ee9c34f25f24498a60e967d5ab6bc88": {
      "model_module": "@jupyter-widgets/controls",
      "model_module_version": "1.5.0",
      "model_name": "ProgressStyleModel",
      "state": {
       "_model_module": "@jupyter-widgets/controls",
       "_model_module_version": "1.5.0",
       "_model_name": "ProgressStyleModel",
       "_view_count": null,
       "_view_module": "@jupyter-widgets/base",
       "_view_module_version": "1.2.0",
       "_view_name": "StyleView",
       "bar_color": null,
       "description_width": ""
      }
     },
     "75e2ecd0bfef427bb021eb4f422d50d8": {
      "model_module": "@jupyter-widgets/base",
      "model_module_version": "1.2.0",
      "model_name": "LayoutModel",
      "state": {
       "_model_module": "@jupyter-widgets/base",
       "_model_module_version": "1.2.0",
       "_model_name": "LayoutModel",
       "_view_count": null,
       "_view_module": "@jupyter-widgets/base",
       "_view_module_version": "1.2.0",
       "_view_name": "LayoutView",
       "align_content": null,
       "align_items": null,
       "align_self": null,
       "border": null,
       "bottom": null,
       "display": null,
       "flex": null,
       "flex_flow": null,
       "grid_area": null,
       "grid_auto_columns": null,
       "grid_auto_flow": null,
       "grid_auto_rows": null,
       "grid_column": null,
       "grid_gap": null,
       "grid_row": null,
       "grid_template_areas": null,
       "grid_template_columns": null,
       "grid_template_rows": null,
       "height": null,
       "justify_content": null,
       "justify_items": null,
       "left": null,
       "margin": null,
       "max_height": null,
       "max_width": null,
       "min_height": null,
       "min_width": null,
       "object_fit": null,
       "object_position": null,
       "order": null,
       "overflow": null,
       "overflow_x": null,
       "overflow_y": null,
       "padding": null,
       "right": null,
       "top": null,
       "visibility": null,
       "width": null
      }
     },
     "78215ce8958c468cae3772b70eb4ebb0": {
      "model_module": "@jupyter-widgets/controls",
      "model_module_version": "1.5.0",
      "model_name": "DescriptionStyleModel",
      "state": {
       "_model_module": "@jupyter-widgets/controls",
       "_model_module_version": "1.5.0",
       "_model_name": "DescriptionStyleModel",
       "_view_count": null,
       "_view_module": "@jupyter-widgets/base",
       "_view_module_version": "1.2.0",
       "_view_name": "StyleView",
       "description_width": ""
      }
     },
     "7a2dc95e56c04e8bb9d12bf205fd050c": {
      "model_module": "@jupyter-widgets/controls",
      "model_module_version": "1.5.0",
      "model_name": "HTMLModel",
      "state": {
       "_dom_classes": [],
       "_model_module": "@jupyter-widgets/controls",
       "_model_module_version": "1.5.0",
       "_model_name": "HTMLModel",
       "_view_count": null,
       "_view_module": "@jupyter-widgets/controls",
       "_view_module_version": "1.5.0",
       "_view_name": "HTMLView",
       "description": "",
       "description_tooltip": null,
       "layout": "IPY_MODEL_bef29b9afa38464cb3bcd7a518f4ce81",
       "placeholder": "​",
       "style": "IPY_MODEL_7f71f41d927c44e880f5fdcb12aac875",
       "value": " 3/3 [00:00&lt;00:00, 108.18it/s]"
      }
     },
     "7cca0e67bd664b3b9d06307cffd7201b": {
      "model_module": "@jupyter-widgets/base",
      "model_module_version": "1.2.0",
      "model_name": "LayoutModel",
      "state": {
       "_model_module": "@jupyter-widgets/base",
       "_model_module_version": "1.2.0",
       "_model_name": "LayoutModel",
       "_view_count": null,
       "_view_module": "@jupyter-widgets/base",
       "_view_module_version": "1.2.0",
       "_view_name": "LayoutView",
       "align_content": null,
       "align_items": null,
       "align_self": null,
       "border": null,
       "bottom": null,
       "display": null,
       "flex": null,
       "flex_flow": null,
       "grid_area": null,
       "grid_auto_columns": null,
       "grid_auto_flow": null,
       "grid_auto_rows": null,
       "grid_column": null,
       "grid_gap": null,
       "grid_row": null,
       "grid_template_areas": null,
       "grid_template_columns": null,
       "grid_template_rows": null,
       "height": null,
       "justify_content": null,
       "justify_items": null,
       "left": null,
       "margin": null,
       "max_height": null,
       "max_width": null,
       "min_height": null,
       "min_width": null,
       "object_fit": null,
       "object_position": null,
       "order": null,
       "overflow": null,
       "overflow_x": null,
       "overflow_y": null,
       "padding": null,
       "right": null,
       "top": null,
       "visibility": null,
       "width": null
      }
     },
     "7f71f41d927c44e880f5fdcb12aac875": {
      "model_module": "@jupyter-widgets/controls",
      "model_module_version": "1.5.0",
      "model_name": "DescriptionStyleModel",
      "state": {
       "_model_module": "@jupyter-widgets/controls",
       "_model_module_version": "1.5.0",
       "_model_name": "DescriptionStyleModel",
       "_view_count": null,
       "_view_module": "@jupyter-widgets/base",
       "_view_module_version": "1.2.0",
       "_view_name": "StyleView",
       "description_width": ""
      }
     },
     "8523e79da0b44c79bf3965e89a2a72e2": {
      "model_module": "@jupyter-widgets/base",
      "model_module_version": "1.2.0",
      "model_name": "LayoutModel",
      "state": {
       "_model_module": "@jupyter-widgets/base",
       "_model_module_version": "1.2.0",
       "_model_name": "LayoutModel",
       "_view_count": null,
       "_view_module": "@jupyter-widgets/base",
       "_view_module_version": "1.2.0",
       "_view_name": "LayoutView",
       "align_content": null,
       "align_items": null,
       "align_self": null,
       "border": null,
       "bottom": null,
       "display": null,
       "flex": null,
       "flex_flow": null,
       "grid_area": null,
       "grid_auto_columns": null,
       "grid_auto_flow": null,
       "grid_auto_rows": null,
       "grid_column": null,
       "grid_gap": null,
       "grid_row": null,
       "grid_template_areas": null,
       "grid_template_columns": null,
       "grid_template_rows": null,
       "height": null,
       "justify_content": null,
       "justify_items": null,
       "left": null,
       "margin": null,
       "max_height": null,
       "max_width": null,
       "min_height": null,
       "min_width": null,
       "object_fit": null,
       "object_position": null,
       "order": null,
       "overflow": null,
       "overflow_x": null,
       "overflow_y": null,
       "padding": null,
       "right": null,
       "top": null,
       "visibility": null,
       "width": null
      }
     },
     "85ded89973a44c1eb3b27b68bf8d92ed": {
      "model_module": "@jupyter-widgets/controls",
      "model_module_version": "1.5.0",
      "model_name": "HBoxModel",
      "state": {
       "_dom_classes": [],
       "_model_module": "@jupyter-widgets/controls",
       "_model_module_version": "1.5.0",
       "_model_name": "HBoxModel",
       "_view_count": null,
       "_view_module": "@jupyter-widgets/controls",
       "_view_module_version": "1.5.0",
       "_view_name": "HBoxView",
       "box_style": "",
       "children": [
        "IPY_MODEL_aeeeb4e81395429bb86c36ede07816ba",
        "IPY_MODEL_8db83ce4afa04fbd8fdc2bc2d84b3e83",
        "IPY_MODEL_3cc3e5e9c6334f3da4f9a9e542439a23"
       ],
       "layout": "IPY_MODEL_2a9cd9d4e41c477c8831f1f4ae0d9c26"
      }
     },
     "8db83ce4afa04fbd8fdc2bc2d84b3e83": {
      "model_module": "@jupyter-widgets/controls",
      "model_module_version": "1.5.0",
      "model_name": "FloatProgressModel",
      "state": {
       "_dom_classes": [],
       "_model_module": "@jupyter-widgets/controls",
       "_model_module_version": "1.5.0",
       "_model_name": "FloatProgressModel",
       "_view_count": null,
       "_view_module": "@jupyter-widgets/controls",
       "_view_module_version": "1.5.0",
       "_view_name": "ProgressView",
       "bar_style": "success",
       "description": "",
       "description_tooltip": null,
       "layout": "IPY_MODEL_0dd48b3ff6274582aa938c7f4ebadd4f",
       "max": 3.0,
       "min": 0.0,
       "orientation": "horizontal",
       "style": "IPY_MODEL_e629983524ac4dac84bc6dbf2e12d3ae",
       "value": 3.0
      }
     },
     "925017a9f81740a28255c4c66706d024": {
      "model_module": "@jupyter-widgets/controls",
      "model_module_version": "1.5.0",
      "model_name": "DescriptionStyleModel",
      "state": {
       "_model_module": "@jupyter-widgets/controls",
       "_model_module_version": "1.5.0",
       "_model_name": "DescriptionStyleModel",
       "_view_count": null,
       "_view_module": "@jupyter-widgets/base",
       "_view_module_version": "1.2.0",
       "_view_name": "StyleView",
       "description_width": ""
      }
     },
     "9e0346e8e53e4e5bb6ac3769aca81e4a": {
      "model_module": "@jupyter-widgets/base",
      "model_module_version": "1.2.0",
      "model_name": "LayoutModel",
      "state": {
       "_model_module": "@jupyter-widgets/base",
       "_model_module_version": "1.2.0",
       "_model_name": "LayoutModel",
       "_view_count": null,
       "_view_module": "@jupyter-widgets/base",
       "_view_module_version": "1.2.0",
       "_view_name": "LayoutView",
       "align_content": null,
       "align_items": null,
       "align_self": null,
       "border": null,
       "bottom": null,
       "display": null,
       "flex": null,
       "flex_flow": null,
       "grid_area": null,
       "grid_auto_columns": null,
       "grid_auto_flow": null,
       "grid_auto_rows": null,
       "grid_column": null,
       "grid_gap": null,
       "grid_row": null,
       "grid_template_areas": null,
       "grid_template_columns": null,
       "grid_template_rows": null,
       "height": null,
       "justify_content": null,
       "justify_items": null,
       "left": null,
       "margin": null,
       "max_height": null,
       "max_width": null,
       "min_height": null,
       "min_width": null,
       "object_fit": null,
       "object_position": null,
       "order": null,
       "overflow": null,
       "overflow_x": null,
       "overflow_y": null,
       "padding": null,
       "right": null,
       "top": null,
       "visibility": null,
       "width": null
      }
     },
     "9e66b04ad3144fcd95e6972b51d1dd4c": {
      "model_module": "@jupyter-widgets/controls",
      "model_module_version": "1.5.0",
      "model_name": "HTMLModel",
      "state": {
       "_dom_classes": [],
       "_model_module": "@jupyter-widgets/controls",
       "_model_module_version": "1.5.0",
       "_model_name": "HTMLModel",
       "_view_count": null,
       "_view_module": "@jupyter-widgets/controls",
       "_view_module_version": "1.5.0",
       "_view_name": "HTMLView",
       "description": "",
       "description_tooltip": null,
       "layout": "IPY_MODEL_3ff8c45708224edfb1817539955e821a",
       "placeholder": "​",
       "style": "IPY_MODEL_2773bc23a77846e8b3e74ef41afb769c",
       "value": " 1/1 [00:01&lt;00:00,  1.31s/it]"
      }
     },
     "a3bcc4e6b2994939a52d29ebbad70257": {
      "model_module": "@jupyter-widgets/controls",
      "model_module_version": "1.5.0",
      "model_name": "ProgressStyleModel",
      "state": {
       "_model_module": "@jupyter-widgets/controls",
       "_model_module_version": "1.5.0",
       "_model_name": "ProgressStyleModel",
       "_view_count": null,
       "_view_module": "@jupyter-widgets/base",
       "_view_module_version": "1.2.0",
       "_view_name": "StyleView",
       "bar_color": null,
       "description_width": ""
      }
     },
     "aeeeb4e81395429bb86c36ede07816ba": {
      "model_module": "@jupyter-widgets/controls",
      "model_module_version": "1.5.0",
      "model_name": "HTMLModel",
      "state": {
       "_dom_classes": [],
       "_model_module": "@jupyter-widgets/controls",
       "_model_module_version": "1.5.0",
       "_model_name": "HTMLModel",
       "_view_count": null,
       "_view_module": "@jupyter-widgets/controls",
       "_view_module_version": "1.5.0",
       "_view_name": "HTMLView",
       "description": "",
       "description_tooltip": null,
       "layout": "IPY_MODEL_eafc5c9b4279429dad24244de8e2716e",
       "placeholder": "​",
       "style": "IPY_MODEL_ea7a3205e06a4f4591682a0246d4f7bd",
       "value": "100%"
      }
     },
     "b0de52f69aef44a89163ba17f8685104": {
      "model_module": "@jupyter-widgets/base",
      "model_module_version": "1.2.0",
      "model_name": "LayoutModel",
      "state": {
       "_model_module": "@jupyter-widgets/base",
       "_model_module_version": "1.2.0",
       "_model_name": "LayoutModel",
       "_view_count": null,
       "_view_module": "@jupyter-widgets/base",
       "_view_module_version": "1.2.0",
       "_view_name": "LayoutView",
       "align_content": null,
       "align_items": null,
       "align_self": null,
       "border": null,
       "bottom": null,
       "display": null,
       "flex": null,
       "flex_flow": null,
       "grid_area": null,
       "grid_auto_columns": null,
       "grid_auto_flow": null,
       "grid_auto_rows": null,
       "grid_column": null,
       "grid_gap": null,
       "grid_row": null,
       "grid_template_areas": null,
       "grid_template_columns": null,
       "grid_template_rows": null,
       "height": null,
       "justify_content": null,
       "justify_items": null,
       "left": null,
       "margin": null,
       "max_height": null,
       "max_width": null,
       "min_height": null,
       "min_width": null,
       "object_fit": null,
       "object_position": null,
       "order": null,
       "overflow": null,
       "overflow_x": null,
       "overflow_y": null,
       "padding": null,
       "right": null,
       "top": null,
       "visibility": null,
       "width": null
      }
     },
     "b456b33d1051444a9caadda4d401c88c": {
      "model_module": "@jupyter-widgets/base",
      "model_module_version": "1.2.0",
      "model_name": "LayoutModel",
      "state": {
       "_model_module": "@jupyter-widgets/base",
       "_model_module_version": "1.2.0",
       "_model_name": "LayoutModel",
       "_view_count": null,
       "_view_module": "@jupyter-widgets/base",
       "_view_module_version": "1.2.0",
       "_view_name": "LayoutView",
       "align_content": null,
       "align_items": null,
       "align_self": null,
       "border": null,
       "bottom": null,
       "display": null,
       "flex": null,
       "flex_flow": null,
       "grid_area": null,
       "grid_auto_columns": null,
       "grid_auto_flow": null,
       "grid_auto_rows": null,
       "grid_column": null,
       "grid_gap": null,
       "grid_row": null,
       "grid_template_areas": null,
       "grid_template_columns": null,
       "grid_template_rows": null,
       "height": null,
       "justify_content": null,
       "justify_items": null,
       "left": null,
       "margin": null,
       "max_height": null,
       "max_width": null,
       "min_height": null,
       "min_width": null,
       "object_fit": null,
       "object_position": null,
       "order": null,
       "overflow": null,
       "overflow_x": null,
       "overflow_y": null,
       "padding": null,
       "right": null,
       "top": null,
       "visibility": null,
       "width": null
      }
     },
     "b6736161d70b48d599aa4f419973a064": {
      "model_module": "@jupyter-widgets/base",
      "model_module_version": "1.2.0",
      "model_name": "LayoutModel",
      "state": {
       "_model_module": "@jupyter-widgets/base",
       "_model_module_version": "1.2.0",
       "_model_name": "LayoutModel",
       "_view_count": null,
       "_view_module": "@jupyter-widgets/base",
       "_view_module_version": "1.2.0",
       "_view_name": "LayoutView",
       "align_content": null,
       "align_items": null,
       "align_self": null,
       "border": null,
       "bottom": null,
       "display": null,
       "flex": null,
       "flex_flow": null,
       "grid_area": null,
       "grid_auto_columns": null,
       "grid_auto_flow": null,
       "grid_auto_rows": null,
       "grid_column": null,
       "grid_gap": null,
       "grid_row": null,
       "grid_template_areas": null,
       "grid_template_columns": null,
       "grid_template_rows": null,
       "height": null,
       "justify_content": null,
       "justify_items": null,
       "left": null,
       "margin": null,
       "max_height": null,
       "max_width": null,
       "min_height": null,
       "min_width": null,
       "object_fit": null,
       "object_position": null,
       "order": null,
       "overflow": null,
       "overflow_x": null,
       "overflow_y": null,
       "padding": null,
       "right": null,
       "top": null,
       "visibility": null,
       "width": null
      }
     },
     "bb6bc01d3ab840c4a4893ac98cdc1b7a": {
      "model_module": "@jupyter-widgets/base",
      "model_module_version": "1.2.0",
      "model_name": "LayoutModel",
      "state": {
       "_model_module": "@jupyter-widgets/base",
       "_model_module_version": "1.2.0",
       "_model_name": "LayoutModel",
       "_view_count": null,
       "_view_module": "@jupyter-widgets/base",
       "_view_module_version": "1.2.0",
       "_view_name": "LayoutView",
       "align_content": null,
       "align_items": null,
       "align_self": null,
       "border": null,
       "bottom": null,
       "display": null,
       "flex": null,
       "flex_flow": null,
       "grid_area": null,
       "grid_auto_columns": null,
       "grid_auto_flow": null,
       "grid_auto_rows": null,
       "grid_column": null,
       "grid_gap": null,
       "grid_row": null,
       "grid_template_areas": null,
       "grid_template_columns": null,
       "grid_template_rows": null,
       "height": null,
       "justify_content": null,
       "justify_items": null,
       "left": null,
       "margin": null,
       "max_height": null,
       "max_width": null,
       "min_height": null,
       "min_width": null,
       "object_fit": null,
       "object_position": null,
       "order": null,
       "overflow": null,
       "overflow_x": null,
       "overflow_y": null,
       "padding": null,
       "right": null,
       "top": null,
       "visibility": null,
       "width": null
      }
     },
     "bd242c770d8a4db4abd20c7407a3b417": {
      "model_module": "@jupyter-widgets/controls",
      "model_module_version": "1.5.0",
      "model_name": "HTMLModel",
      "state": {
       "_dom_classes": [],
       "_model_module": "@jupyter-widgets/controls",
       "_model_module_version": "1.5.0",
       "_model_name": "HTMLModel",
       "_view_count": null,
       "_view_module": "@jupyter-widgets/controls",
       "_view_module_version": "1.5.0",
       "_view_name": "HTMLView",
       "description": "",
       "description_tooltip": null,
       "layout": "IPY_MODEL_9e0346e8e53e4e5bb6ac3769aca81e4a",
       "placeholder": "​",
       "style": "IPY_MODEL_c1e7bf9888ba4b61ba90b51755187685",
       "value": "100%"
      }
     },
     "bef29b9afa38464cb3bcd7a518f4ce81": {
      "model_module": "@jupyter-widgets/base",
      "model_module_version": "1.2.0",
      "model_name": "LayoutModel",
      "state": {
       "_model_module": "@jupyter-widgets/base",
       "_model_module_version": "1.2.0",
       "_model_name": "LayoutModel",
       "_view_count": null,
       "_view_module": "@jupyter-widgets/base",
       "_view_module_version": "1.2.0",
       "_view_name": "LayoutView",
       "align_content": null,
       "align_items": null,
       "align_self": null,
       "border": null,
       "bottom": null,
       "display": null,
       "flex": null,
       "flex_flow": null,
       "grid_area": null,
       "grid_auto_columns": null,
       "grid_auto_flow": null,
       "grid_auto_rows": null,
       "grid_column": null,
       "grid_gap": null,
       "grid_row": null,
       "grid_template_areas": null,
       "grid_template_columns": null,
       "grid_template_rows": null,
       "height": null,
       "justify_content": null,
       "justify_items": null,
       "left": null,
       "margin": null,
       "max_height": null,
       "max_width": null,
       "min_height": null,
       "min_width": null,
       "object_fit": null,
       "object_position": null,
       "order": null,
       "overflow": null,
       "overflow_x": null,
       "overflow_y": null,
       "padding": null,
       "right": null,
       "top": null,
       "visibility": null,
       "width": null
      }
     },
     "c1e7bf9888ba4b61ba90b51755187685": {
      "model_module": "@jupyter-widgets/controls",
      "model_module_version": "1.5.0",
      "model_name": "DescriptionStyleModel",
      "state": {
       "_model_module": "@jupyter-widgets/controls",
       "_model_module_version": "1.5.0",
       "_model_name": "DescriptionStyleModel",
       "_view_count": null,
       "_view_module": "@jupyter-widgets/base",
       "_view_module_version": "1.2.0",
       "_view_name": "StyleView",
       "description_width": ""
      }
     },
     "c549068f59cd4ed48c36db536632fc22": {
      "model_module": "@jupyter-widgets/controls",
      "model_module_version": "1.5.0",
      "model_name": "HTMLModel",
      "state": {
       "_dom_classes": [],
       "_model_module": "@jupyter-widgets/controls",
       "_model_module_version": "1.5.0",
       "_model_name": "HTMLModel",
       "_view_count": null,
       "_view_module": "@jupyter-widgets/controls",
       "_view_module_version": "1.5.0",
       "_view_name": "HTMLView",
       "description": "",
       "description_tooltip": null,
       "layout": "IPY_MODEL_8523e79da0b44c79bf3965e89a2a72e2",
       "placeholder": "​",
       "style": "IPY_MODEL_2a5ad04627ee407b905e269ea390d2d2",
       "value": "100%"
      }
     },
     "d18cb6cc5f7f452b868478676410a591": {
      "model_module": "@jupyter-widgets/base",
      "model_module_version": "1.2.0",
      "model_name": "LayoutModel",
      "state": {
       "_model_module": "@jupyter-widgets/base",
       "_model_module_version": "1.2.0",
       "_model_name": "LayoutModel",
       "_view_count": null,
       "_view_module": "@jupyter-widgets/base",
       "_view_module_version": "1.2.0",
       "_view_name": "LayoutView",
       "align_content": null,
       "align_items": null,
       "align_self": null,
       "border": null,
       "bottom": null,
       "display": null,
       "flex": null,
       "flex_flow": null,
       "grid_area": null,
       "grid_auto_columns": null,
       "grid_auto_flow": null,
       "grid_auto_rows": null,
       "grid_column": null,
       "grid_gap": null,
       "grid_row": null,
       "grid_template_areas": null,
       "grid_template_columns": null,
       "grid_template_rows": null,
       "height": null,
       "justify_content": null,
       "justify_items": null,
       "left": null,
       "margin": null,
       "max_height": null,
       "max_width": null,
       "min_height": null,
       "min_width": null,
       "object_fit": null,
       "object_position": null,
       "order": null,
       "overflow": null,
       "overflow_x": null,
       "overflow_y": null,
       "padding": null,
       "right": null,
       "top": null,
       "visibility": null,
       "width": null
      }
     },
     "d4b47382ff704c589b6003e05391bd9d": {
      "model_module": "@jupyter-widgets/controls",
      "model_module_version": "1.5.0",
      "model_name": "DescriptionStyleModel",
      "state": {
       "_model_module": "@jupyter-widgets/controls",
       "_model_module_version": "1.5.0",
       "_model_name": "DescriptionStyleModel",
       "_view_count": null,
       "_view_module": "@jupyter-widgets/base",
       "_view_module_version": "1.2.0",
       "_view_name": "StyleView",
       "description_width": ""
      }
     },
     "e322841c9ad642aea11e52fd9492fc81": {
      "model_module": "@jupyter-widgets/controls",
      "model_module_version": "1.5.0",
      "model_name": "HTMLModel",
      "state": {
       "_dom_classes": [],
       "_model_module": "@jupyter-widgets/controls",
       "_model_module_version": "1.5.0",
       "_model_name": "HTMLModel",
       "_view_count": null,
       "_view_module": "@jupyter-widgets/controls",
       "_view_module_version": "1.5.0",
       "_view_name": "HTMLView",
       "description": "",
       "description_tooltip": null,
       "layout": "IPY_MODEL_2c70b24d7c5d4cedb77f4c81fa4f5079",
       "placeholder": "​",
       "style": "IPY_MODEL_78215ce8958c468cae3772b70eb4ebb0",
       "value": "100%"
      }
     },
     "e4f385863cb24554ae75eceb359287f9": {
      "model_module": "@jupyter-widgets/controls",
      "model_module_version": "1.5.0",
      "model_name": "HBoxModel",
      "state": {
       "_dom_classes": [],
       "_model_module": "@jupyter-widgets/controls",
       "_model_module_version": "1.5.0",
       "_model_name": "HBoxModel",
       "_view_count": null,
       "_view_module": "@jupyter-widgets/controls",
       "_view_module_version": "1.5.0",
       "_view_name": "HBoxView",
       "box_style": "",
       "children": [
        "IPY_MODEL_c549068f59cd4ed48c36db536632fc22",
        "IPY_MODEL_00aba126833d4b91b424854ba5697c2d",
        "IPY_MODEL_9e66b04ad3144fcd95e6972b51d1dd4c"
       ],
       "layout": "IPY_MODEL_b0de52f69aef44a89163ba17f8685104"
      }
     },
     "e629983524ac4dac84bc6dbf2e12d3ae": {
      "model_module": "@jupyter-widgets/controls",
      "model_module_version": "1.5.0",
      "model_name": "ProgressStyleModel",
      "state": {
       "_model_module": "@jupyter-widgets/controls",
       "_model_module_version": "1.5.0",
       "_model_name": "ProgressStyleModel",
       "_view_count": null,
       "_view_module": "@jupyter-widgets/base",
       "_view_module_version": "1.2.0",
       "_view_name": "StyleView",
       "bar_color": null,
       "description_width": ""
      }
     },
     "ea7a3205e06a4f4591682a0246d4f7bd": {
      "model_module": "@jupyter-widgets/controls",
      "model_module_version": "1.5.0",
      "model_name": "DescriptionStyleModel",
      "state": {
       "_model_module": "@jupyter-widgets/controls",
       "_model_module_version": "1.5.0",
       "_model_name": "DescriptionStyleModel",
       "_view_count": null,
       "_view_module": "@jupyter-widgets/base",
       "_view_module_version": "1.2.0",
       "_view_name": "StyleView",
       "description_width": ""
      }
     },
     "eafc5c9b4279429dad24244de8e2716e": {
      "model_module": "@jupyter-widgets/base",
      "model_module_version": "1.2.0",
      "model_name": "LayoutModel",
      "state": {
       "_model_module": "@jupyter-widgets/base",
       "_model_module_version": "1.2.0",
       "_model_name": "LayoutModel",
       "_view_count": null,
       "_view_module": "@jupyter-widgets/base",
       "_view_module_version": "1.2.0",
       "_view_name": "LayoutView",
       "align_content": null,
       "align_items": null,
       "align_self": null,
       "border": null,
       "bottom": null,
       "display": null,
       "flex": null,
       "flex_flow": null,
       "grid_area": null,
       "grid_auto_columns": null,
       "grid_auto_flow": null,
       "grid_auto_rows": null,
       "grid_column": null,
       "grid_gap": null,
       "grid_row": null,
       "grid_template_areas": null,
       "grid_template_columns": null,
       "grid_template_rows": null,
       "height": null,
       "justify_content": null,
       "justify_items": null,
       "left": null,
       "margin": null,
       "max_height": null,
       "max_width": null,
       "min_height": null,
       "min_width": null,
       "object_fit": null,
       "object_position": null,
       "order": null,
       "overflow": null,
       "overflow_x": null,
       "overflow_y": null,
       "padding": null,
       "right": null,
       "top": null,
       "visibility": null,
       "width": null
      }
     },
     "edfc144535894e018879f9ff31044733": {
      "model_module": "@jupyter-widgets/base",
      "model_module_version": "1.2.0",
      "model_name": "LayoutModel",
      "state": {
       "_model_module": "@jupyter-widgets/base",
       "_model_module_version": "1.2.0",
       "_model_name": "LayoutModel",
       "_view_count": null,
       "_view_module": "@jupyter-widgets/base",
       "_view_module_version": "1.2.0",
       "_view_name": "LayoutView",
       "align_content": null,
       "align_items": null,
       "align_self": null,
       "border": null,
       "bottom": null,
       "display": null,
       "flex": null,
       "flex_flow": null,
       "grid_area": null,
       "grid_auto_columns": null,
       "grid_auto_flow": null,
       "grid_auto_rows": null,
       "grid_column": null,
       "grid_gap": null,
       "grid_row": null,
       "grid_template_areas": null,
       "grid_template_columns": null,
       "grid_template_rows": null,
       "height": null,
       "justify_content": null,
       "justify_items": null,
       "left": null,
       "margin": null,
       "max_height": null,
       "max_width": null,
       "min_height": null,
       "min_width": null,
       "object_fit": null,
       "object_position": null,
       "order": null,
       "overflow": null,
       "overflow_x": null,
       "overflow_y": null,
       "padding": null,
       "right": null,
       "top": null,
       "visibility": null,
       "width": null
      }
     },
     "f3dd2ab2687b40d9a653d1a5893b9c55": {
      "model_module": "@jupyter-widgets/controls",
      "model_module_version": "1.5.0",
      "model_name": "ProgressStyleModel",
      "state": {
       "_model_module": "@jupyter-widgets/controls",
       "_model_module_version": "1.5.0",
       "_model_name": "ProgressStyleModel",
       "_view_count": null,
       "_view_module": "@jupyter-widgets/base",
       "_view_module_version": "1.2.0",
       "_view_name": "StyleView",
       "bar_color": null,
       "description_width": ""
      }
     },
     "f98f645f22ce47748c0af6a4f9e8571d": {
      "model_module": "@jupyter-widgets/base",
      "model_module_version": "1.2.0",
      "model_name": "LayoutModel",
      "state": {
       "_model_module": "@jupyter-widgets/base",
       "_model_module_version": "1.2.0",
       "_model_name": "LayoutModel",
       "_view_count": null,
       "_view_module": "@jupyter-widgets/base",
       "_view_module_version": "1.2.0",
       "_view_name": "LayoutView",
       "align_content": null,
       "align_items": null,
       "align_self": null,
       "border": null,
       "bottom": null,
       "display": null,
       "flex": null,
       "flex_flow": null,
       "grid_area": null,
       "grid_auto_columns": null,
       "grid_auto_flow": null,
       "grid_auto_rows": null,
       "grid_column": null,
       "grid_gap": null,
       "grid_row": null,
       "grid_template_areas": null,
       "grid_template_columns": null,
       "grid_template_rows": null,
       "height": null,
       "justify_content": null,
       "justify_items": null,
       "left": null,
       "margin": null,
       "max_height": null,
       "max_width": null,
       "min_height": null,
       "min_width": null,
       "object_fit": null,
       "object_position": null,
       "order": null,
       "overflow": null,
       "overflow_x": null,
       "overflow_y": null,
       "padding": null,
       "right": null,
       "top": null,
       "visibility": null,
       "width": null
      }
     }
    },
    "version_major": 2,
    "version_minor": 0
   }
  }
 },
 "nbformat": 4,
 "nbformat_minor": 5
}
